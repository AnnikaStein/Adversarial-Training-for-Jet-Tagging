{
 "cells": [
  {
   "cell_type": "markdown",
   "metadata": {},
   "source": [
    "# Cleaning and preprocessing\n",
    "Merge the two steps from the thesis to not store too many arrays from intermediate steps"
   ]
  },
  {
   "cell_type": "code",
   "execution_count": 2,
   "metadata": {},
   "outputs": [],
   "source": [
    "import numpy as np\n",
    "import awkward1 as ak\n",
    "\n",
    "import torch\n",
    "\n",
    "from sklearn.model_selection import train_test_split\n",
    "from sklearn.preprocessing import StandardScaler\n",
    "\n",
    "from scipy.stats import binned_statistic_2d\n",
    "\n",
    "import gc"
   ]
  },
  {
   "cell_type": "code",
   "execution_count": 3,
   "metadata": {},
   "outputs": [],
   "source": [
    "import sys\n",
    "sys.path.append(\"../helpers/\")\n",
    "from variables import *\n",
    "from tools import *"
   ]
  },
  {
   "cell_type": "markdown",
   "metadata": {},
   "source": [
    "Explanation of steps is here, to not blow up the code later"
   ]
  },
  {
   "cell_type": "markdown",
   "metadata": {},
   "source": [
    "## Cleaning"
   ]
  },
  {
   "cell_type": "markdown",
   "metadata": {},
   "source": [
    "- flavor does not have to be inferred from different columns, but is already given\n",
    "- datastructure is either awkward array (but rectangular, high-level) or numpy array (also rectangular, low-level), no need to flatten again\n",
    "- number of tracks is already implemented in low-level using placeholders for padding\n",
    "\n",
    "Or, to summarize, one just has to identify the defaults and set them to the designated default value. These can be the ones calculated in `defaults.ipynb`, and later on, during scaling, these can be set to 0 if one wants to do so (zero-padding, otherwise it's minimum-padding)."
   ]
  },
  {
   "cell_type": "markdown",
   "metadata": {},
   "source": [
    "## Preprocessing"
   ]
  },
  {
   "cell_type": "markdown",
   "metadata": {},
   "source": [
    "- First, one might want to merge the ak- and np-arrays to reuse the logic when applying the scalers\n",
    "- To calculate them first, it is not necessary to merge arrays, just use columns individually, can be ak or np - also here; when calculating scalers, not the entire dataset needs to be in memory, only the feature(s) one is looking at currently\n",
    "- To apply scalers, one would rather want to use an entire sample with all its columns, but split in chunks of e.g. 50k samples, because one also wants to store more global info, like bins and sample weights - this is nothing that one wants to calculate / do more than once per jet\n",
    "- Choose between uniformly-spaced and custom-binning"
   ]
  },
  {
   "cell_type": "markdown",
   "metadata": {},
   "source": [
    "## Definition of variables\n",
    "Select first six tracks (in d0Sig-ordering). This defines which indices are relevant.\n",
    "\n",
    "However, I'll preprocess the entire dataset with all its columns, to have them at hand if one really needs them all - selecting columns later is not problematic."
   ]
  },
  {
   "cell_type": "markdown",
   "metadata": {},
   "source": [
    "<hr>"
   ]
  },
  {
   "cell_type": "markdown",
   "metadata": {},
   "source": [
    "Note: the following has been externalized into `helpers/variables.py`."
   ]
  },
  {
   "cell_type": "code",
   "execution_count": 19,
   "metadata": {},
   "outputs": [
    {
     "data": {
      "text/plain": [
       "array([  0,   1,   2,   3,   4,   5,  33,  34,  35,  36,  37,  38,  66,\n",
       "        67,  68,  69,  70,  71,  99, 100, 101, 102, 103, 104, 132, 133,\n",
       "       134, 135, 136, 137, 165, 166, 167, 168, 169, 170, 198, 199, 200,\n",
       "       201, 202, 203, 231, 232, 233, 234, 235, 236, 264, 265, 266, 267,\n",
       "       268, 269, 297, 298, 299, 300, 301, 302, 330, 331, 332, 333, 334,\n",
       "       335, 363, 364, 365, 366, 367, 368, 396, 397, 398, 399, 400, 401,\n",
       "       429, 430, 431, 432, 433, 434, 462, 463, 464, 465, 466, 467, 495,\n",
       "       496, 497, 498, 499, 500, 528, 529, 530, 531, 532, 533, 561, 562,\n",
       "       563, 564, 565, 566, 594, 595, 596, 597, 598, 599, 627, 628, 629,\n",
       "       630, 631, 632, 660, 661, 662, 663, 664, 665, 693, 694, 695, 696,\n",
       "       697, 698, 726, 727, 728, 729, 730, 731, 759, 760, 761, 762, 763,\n",
       "       764, 792, 793, 794, 795, 796, 797, 825, 826, 827, 828, 829, 830,\n",
       "       858, 859, 860, 861, 862, 863, 891, 892, 893, 894, 895, 896])"
      ]
     },
     "execution_count": 19,
     "metadata": {},
     "output_type": "execute_result"
    }
   ],
   "source": [
    "n_tracks = 6\n",
    "low_level_indices = (np.array([[(i * 33 + k) for k in range(n_tracks)] for i in range(28)])).flatten()\n",
    "low_level_indices"
   ]
  },
  {
   "cell_type": "code",
   "execution_count": 17,
   "metadata": {},
   "outputs": [
    {
     "data": {
      "text/plain": [
       "array([  0,   1,   2,   3,   4,   5,   6,   7,   8,   9,  10,  11,  12,\n",
       "        13,  14,  15,  16,  17,  18,  19,  20,  21,  22,  50,  51,  52,\n",
       "        53,  54,  55,  83,  84,  85,  86,  87,  88, 116, 117, 118, 119,\n",
       "       120, 121, 149, 150, 151, 152, 153, 154, 182, 183, 184, 185, 186,\n",
       "       187, 215, 216, 217, 218, 219, 220, 248, 249, 250, 251, 252, 253,\n",
       "       281, 282, 283, 284, 285, 286, 314, 315, 316, 317, 318, 319, 347,\n",
       "       348, 349, 350, 351, 352, 380, 381, 382, 383, 384, 385, 413, 414,\n",
       "       415, 416, 417, 418, 446, 447, 448, 449, 450, 451, 479, 480, 481,\n",
       "       482, 483, 484, 512, 513, 514, 515, 516, 517, 545, 546, 547, 548,\n",
       "       549, 550, 578, 579, 580, 581, 582, 583, 611, 612, 613, 614, 615,\n",
       "       616, 644, 645, 646, 647, 648, 649, 677, 678, 679, 680, 681, 682,\n",
       "       710, 711, 712, 713, 714, 715, 743, 744, 745, 746, 747, 748, 776,\n",
       "       777, 778, 779, 780, 781, 809, 810, 811, 812, 813, 814, 842, 843,\n",
       "       844, 845, 846, 847, 875, 876, 877, 878, 879, 880, 908, 909, 910,\n",
       "       911, 912, 913])"
      ]
     },
     "execution_count": 17,
     "metadata": {},
     "output_type": "execute_result"
    }
   ],
   "source": [
    "relevant_columns_overall = np.concatenate([np.arange(n_high_level), low_level_indices+n_high_level])\n",
    "relevant_columns_overall"
   ]
  },
  {
   "cell_type": "markdown",
   "metadata": {},
   "source": [
    "Index 2 corresponds to flavor = target"
   ]
  },
  {
   "cell_type": "code",
   "execution_count": 20,
   "metadata": {},
   "outputs": [
    {
     "data": {
      "text/plain": [
       "185"
      ]
     },
     "execution_count": 20,
     "metadata": {},
     "output_type": "execute_result"
    }
   ],
   "source": [
    "len(relevant_columns_overall)"
   ]
  },
  {
   "cell_type": "code",
   "execution_count": 4,
   "metadata": {},
   "outputs": [],
   "source": [
    "user = 'um106329'\n",
    "akArrays_path = '/hpcwork/' + user + '/jet_flavor_MLPhysics/dataset/akArrays/'\n",
    "np_arrays_path = '/hpcwork/' + user + '/jet_flavor_MLPhysics/dataset/npArrays/'"
   ]
  },
  {
   "cell_type": "code",
   "execution_count": 5,
   "metadata": {},
   "outputs": [],
   "source": [
    "defaults_path = '/hpcwork/' + user + '/jet_flavor_MLPhysics/dataset/defaults/'"
   ]
  },
  {
   "cell_type": "code",
   "execution_count": 6,
   "metadata": {},
   "outputs": [],
   "source": [
    "weights_path = '/hpcwork/' + user + '/jet_flavor_MLPhysics/dataset/weights/'"
   ]
  },
  {
   "cell_type": "code",
   "execution_count": 7,
   "metadata": {},
   "outputs": [],
   "source": [
    "preprocessed_path = '/hpcwork/' + user + '/jet_flavor_MLPhysics/dataset/preprocessed/'"
   ]
  },
  {
   "cell_type": "code",
   "execution_count": 8,
   "metadata": {},
   "outputs": [],
   "source": [
    "# externalize this!\n",
    "a4_indices_list = [k for k in range(3,11)]\n",
    "a5_indices_list = [k for k in range(11,17)]"
   ]
  },
  {
   "cell_type": "code",
   "execution_count": 9,
   "metadata": {},
   "outputs": [],
   "source": [
    "def clean_any_numpy_array(npArray, defaults=get_all_defaults()):\n",
    "    \n",
    "    # check if single column or more than one column\n",
    "    if npArray.ndim > 1:\n",
    "        for i in range(len(defaults)):\n",
    "            npArray[:,i] = np.where(~np.isfinite(npArray[:,i]), defaults[i], npArray[:,i])\n",
    "            npArray[:,i] = np.where(npArray[:,i] < defaults[i], defaults[i], npArray[:,i])\n",
    "    else:\n",
    "        npArray = np.where(~np.isfinite(npArray), defaults, npArray)\n",
    "        npArray = np.where(npArray < defaults, defaults, npArray)\n",
    "\n",
    "        \n",
    "    return npArray"
   ]
  },
  {
   "cell_type": "code",
   "execution_count": 10,
   "metadata": {},
   "outputs": [],
   "source": [
    "def get_default_from_full_index(index): # externalize this!\n",
    "    return np.load(defaults_path+'all_defaults.npy')[index]"
   ]
  },
  {
   "cell_type": "code",
   "execution_count": 11,
   "metadata": {},
   "outputs": [],
   "source": [
    "def get_all_defaults(scaled=False, old=False):\n",
    "    if scaled:\n",
    "        if not old: \n",
    "            return np.load(defaults_path+'all_scaled_defaults.npy')\n",
    "        else: \n",
    "            return np.load(defaults_path+'all_scaled_defaults_OLD.npy')\n",
    "    else:\n",
    "        if not old:\n",
    "            return np.load(defaults_path+'all_defaults.npy') # this is the \"default default\" case\n",
    "        else:\n",
    "            return np.load(defaults_path+'all_defaults_OLD.npy')"
   ]
  },
  {
   "cell_type": "code",
   "execution_count": 12,
   "metadata": {},
   "outputs": [],
   "source": [
    "def get_track_vertex_index_from_full_index(index):\n",
    "    return (index - n_high_level)"
   ]
  },
  {
   "cell_type": "code",
   "execution_count": 13,
   "metadata": {},
   "outputs": [],
   "source": [
    "def get_var_and_track_from_track_vertex_index(index):\n",
    "    var, track = divmod(index, 33)\n",
    "    return var, track"
   ]
  },
  {
   "cell_type": "code",
   "execution_count": null,
   "metadata": {},
   "outputs": [],
   "source": [
    "def column_builder(index)"
   ]
  },
  {
   "cell_type": "code",
   "execution_count": 14,
   "metadata": {},
   "outputs": [],
   "source": [
    "def flat_samples_builder(split_a,split_b):\n",
    "    akArray = ak.from_parquet(akArrays_path+'split_{0}_{1}.parquet'.format(split_a,split_b))\n",
    "    a1 = ak.to_numpy(akArray.a1).data\n",
    "    a2 = ak.to_numpy(akArray.a2).data\n",
    "    a3 = ak.to_numpy(akArray.a3).data\n",
    "    a4 = ak.to_numpy(akArray.a4).data\n",
    "    a5 = ak.to_numpy(akArray.a5).data\n",
    "    \n",
    "    a1_2_3Array = np.swapaxes(np.concatenate([a1,a2,a3],axis=0).reshape(3,-1).data,0,1)\n",
    "    highlevelArray = np.concatenate((a1_2_3Array,a4,a5),axis=1)\n",
    "    \n",
    "    \n",
    "    del akArray\n",
    "    del a1_2_3Array\n",
    "    del a1\n",
    "    del a2\n",
    "    del a3\n",
    "    del a4\n",
    "    del a5\n",
    "    gc.collect()\n",
    "    \n",
    "    lowlevelArray = np.load(np_arrays_path+'sorted_track_vertex_info_split_{0}_{1}.npy'.format(split_a,split_b))\n",
    "\n",
    "    \n",
    "    return np.concatenate((highlevelArray, lowlevelArray), axis=1)"
   ]
  },
  {
   "cell_type": "code",
   "execution_count": 181,
   "metadata": {},
   "outputs": [
    {
     "name": "stdout",
     "output_type": "stream",
     "text": [
      "17\n",
      "924\n",
      "CPU times: user 299 ms, sys: 287 ms, total: 585 ms\n",
      "Wall time: 585 ms\n"
     ]
    },
    {
     "data": {
      "text/plain": [
       "array([[ 4.78712e+01,  1.89325e+00,  5.00000e+00, ..., -1.00000e+03,\n",
       "        -1.00000e+03, -1.00000e+03],\n",
       "       [ 3.49703e+01,  6.09755e-01,  5.00000e+00, ..., -1.00000e+03,\n",
       "        -1.00000e+03, -1.00000e+03],\n",
       "       [ 2.65706e+01, -5.30268e-01,  5.00000e+00, ..., -1.00000e+03,\n",
       "        -1.00000e+03, -1.00000e+03],\n",
       "       ...,\n",
       "       [ 2.67027e+01,  3.07903e-01,  5.00000e+00, ..., -1.00000e+03,\n",
       "        -1.00000e+03, -1.00000e+03],\n",
       "       [ 3.94304e+01, -1.74927e+00,  5.00000e+00, ..., -1.00000e+03,\n",
       "        -1.00000e+03, -1.00000e+03],\n",
       "       [ 2.84135e+01, -2.41514e+00,  5.00000e+00, ..., -1.00000e+03,\n",
       "        -1.00000e+03, -1.00000e+03]])"
      ]
     },
     "execution_count": 181,
     "metadata": {},
     "output_type": "execute_result"
    }
   ],
   "source": [
    "%%time\n",
    "some_samples = flat_samples_builder(0,49999)\n",
    "some_samples"
   ]
  },
  {
   "cell_type": "code",
   "execution_count": 182,
   "metadata": {},
   "outputs": [
    {
     "data": {
      "text/plain": [
       "941"
      ]
     },
     "execution_count": 182,
     "metadata": {},
     "output_type": "execute_result"
    }
   ],
   "source": [
    "some_samples[0].size"
   ]
  },
  {
   "cell_type": "code",
   "execution_count": 191,
   "metadata": {},
   "outputs": [
    {
     "data": {
      "text/plain": [
       "array([[47.8712  ,  1.89325 ,  5.      , ...,  0.      ,  0.      ,\n",
       "         0.      ],\n",
       "       [34.9703  ,  0.609755,  5.      , ...,  0.      ,  0.      ,\n",
       "         0.      ],\n",
       "       [26.5706  , -0.530268,  5.      , ...,  0.      ,  0.      ,\n",
       "         0.      ],\n",
       "       ...,\n",
       "       [26.7027  ,  0.307903,  5.      , ...,  0.      ,  0.      ,\n",
       "         0.      ],\n",
       "       [39.4304  , -1.74927 ,  5.      , ...,  0.      ,  0.      ,\n",
       "         0.      ],\n",
       "       [28.4135  , -2.41514 ,  5.      , ...,  0.      ,  0.      ,\n",
       "         0.      ]])"
      ]
     },
     "execution_count": 191,
     "metadata": {},
     "output_type": "execute_result"
    }
   ],
   "source": [
    "some_clean_samples = clean_any_numpy_array(some_samples, get_all_defaults())\n",
    "some_clean_samples"
   ]
  },
  {
   "cell_type": "code",
   "execution_count": 15,
   "metadata": {},
   "outputs": [],
   "source": [
    "def calc_scalers(columns, defaults): # should not store directly, but return a list of scalers (store individual scaler later)\n",
    "    scalers = []\n",
    "    \n",
    "    def get_trainingsamples(columns):\n",
    "        # to calculate the scalers, one really only needs to use the training samples, which are created by using the train_test_split twice\n",
    "        # the first function call splits test from train/val, and the second call further splits the train and val set\n",
    "        train_and_val,_ = train_test_split(columns, test_size=0.2, random_state=1)\n",
    "        trainset, _ = train_test_split(train_and_val, test_size=0.1, random_state=1)\n",
    "        return trainset\n",
    "\n",
    "    trainingsamples = get_trainingsamples(columns)\n",
    "    \n",
    "    # do not compute scalers with default values, which were set to minima\n",
    "    if trainingsamples.ndim > 1:\n",
    "        for i in range(np.size(defaults)):\n",
    "            #print(i)\n",
    "            scaler = StandardScaler().fit(trainingsamples[:,i][trainingsamples[:,i] != defaults[i]].reshape(-1,1))\n",
    "            scalers.append(scaler)\n",
    "    else:\n",
    "        scaler = StandardScaler().fit(trainingsamples[trainingsamples != defaults].reshape(-1,1))\n",
    "        scalers.append(scaler)\n",
    "    \n",
    "    return scalers"
   ]
  },
  {
   "cell_type": "code",
   "execution_count": 16,
   "metadata": {},
   "outputs": [],
   "source": [
    "def preprocess_apply_scalers(split_a,split_b,chunk_number,defaults_to_zero=False):\n",
    "    \n",
    "    defaults = get_all_defaults()\n",
    "     \n",
    "    scalers = torch.load(preprocessed_path+'all_scalers.pt')\n",
    "    \n",
    "    # build flat array for this chunk with all variables\n",
    "    dataset = flat_samples_builder(split_a, split_b)\n",
    "    # clean all variables\n",
    "    dataset = clean_any_numpy_array(dataset, defaults)\n",
    "    \n",
    "    \n",
    "    # split tr va te\n",
    "    trainingset, testset = train_test_split(dataset, test_size=0.2, random_state=1)\n",
    "    trainset, valset = train_test_split(trainingset,test_size=0.1, random_state=1)\n",
    "    del trainingset\n",
    "    gc.collect()\n",
    "    \n",
    "    \n",
    "    \n",
    "    # uniformly spaced binning\n",
    "    b_weights = np.load(weights_path+'b_weights_pt_eta_flav_balanced.npy')\n",
    "    c_weights = np.load(weights_path+'c_weights_pt_eta_flav_balanced.npy')\n",
    "    l_weights = np.load(weights_path+'l_weights_pt_eta_flav_balanced.npy')\n",
    "\n",
    "    flavour_lookuptables = np.array([b_weights,c_weights,l_weights])\n",
    "\n",
    "    pt_edges = np.load(weights_path+'pt_edges.npy')\n",
    "    eta_edges = np.load(weights_path+'eta_edges.npy')\n",
    "    \n",
    "    \n",
    "    # custom binning\n",
    "    b_weights_alt = np.load(weights_path+'b_weights_pt_eta_flav_balanced_alt.npy')\n",
    "    c_weights_alt = np.load(weights_path+'c_weights_pt_eta_flav_balanced_alt.npy')\n",
    "    l_weights_alt = np.load(weights_path+'l_weights_pt_eta_flav_balanced_alt.npy')\n",
    "\n",
    "    flavour_lookuptables_alt = np.array([b_weights_alt,c_weights_alt,l_weights_alt])\n",
    "\n",
    "    pt_edges_alt = np.load(weights_path+'pt_edges_alt.npy')\n",
    "    eta_edges_alt = np.load(weights_path+'eta_edges_alt.npy')\n",
    "    \n",
    "    \n",
    "    def extract_store_sample_info(sample, name):\n",
    "        \n",
    "        _,_,_,these_eta_pt_bins = binned_statistic_2d(sample[:,1],sample[:,0],None,'count',bins=(eta_edges,pt_edges),expand_binnumbers=True)\n",
    "        these_eta_bins = these_eta_pt_bins[0]-1\n",
    "        these_pt_bins = these_eta_pt_bins[1]-1\n",
    "        \n",
    "        _,_,_,these_eta_pt_bins_alt = binned_statistic_2d(sample[:,1],sample[:,0],None,'count',bins=(eta_edges_alt,pt_edges_alt),expand_binnumbers=True)\n",
    "        these_eta_bins_alt = these_eta_pt_bins_alt[0]-1\n",
    "        these_pt_bins_alt = these_eta_pt_bins_alt[1]-1\n",
    "        \n",
    "        \n",
    "        # go from flavour to index in lookup table, store 5,4,0 --> 0,1,2\n",
    "        def flavour_to_lookup_index(flavour):\n",
    "            flavour = np.where(flavour == 0, 2, flavour)\n",
    "            flavour = np.where(flavour == 4, 1, flavour)\n",
    "            flavour = np.where(flavour == 5, 0, flavour)\n",
    "            return flavour\n",
    "        \n",
    "        these_targets = (torch.Tensor(flavour_to_lookup_index(sample[:,2]))).long()\n",
    "        torch.save(these_targets, preprocessed_path+'{0}_targets_{1}.pt'.format(name, chunk_number))\n",
    "        \n",
    "        these_weights = flavour_lookuptables[these_targets,these_eta_bins,these_pt_bins]\n",
    "        \n",
    "        these_weights_alt = flavour_lookuptables_alt[these_targets,these_eta_bins_alt,these_pt_bins_alt]\n",
    "        \n",
    "        \n",
    "        np.save(preprocessed_path+'{0}_eta_pt_bins_{1}.npy'.format(name, chunk_number), these_eta_pt_bins.astype(np.ubyte))\n",
    "        np.save(preprocessed_path+'{0}_eta_pt_bins_alt_{1}.npy'.format(name, chunk_number), these_eta_pt_bins_alt.astype(np.ubyte))\n",
    "        np.save(preprocessed_path+'{0}_sample_weights_{1}.npy'.format(name, chunk_number), these_weights)\n",
    "        np.save(preprocessed_path+'{0}_sample_weights_alt_{1}.npy'.format(name, chunk_number), these_weights_alt)\n",
    "        \n",
    "        del these_weights\n",
    "        del these_eta_pt_bins\n",
    "        del these_eta_bins\n",
    "        del these_pt_bins\n",
    "        \n",
    "        del these_weights_alt\n",
    "        del these_eta_pt_bins_alt\n",
    "        del these_eta_bins_alt\n",
    "        del these_pt_bins_alt\n",
    "        \n",
    "        gc.collect()\n",
    "\n",
    "        \n",
    "        \n",
    "    extract_store_sample_info(trainset, 'train')\n",
    "    extract_store_sample_info(valset, 'val')\n",
    "    extract_store_sample_info(testset, 'test')\n",
    "        \n",
    "    \n",
    "    non_target_indices = [0,1]\n",
    "    b = [k for k in range(3,941)]\n",
    "    non_target_indices.extend(b)\n",
    "    \n",
    "    \n",
    "    # get inputs independently\n",
    "    train_inputs = torch.Tensor(trainset[:,non_target_indices])\n",
    "    del trainset\n",
    "    gc.collect()\n",
    "    val_inputs = torch.Tensor(valset[:,non_target_indices])\n",
    "    del valset\n",
    "    gc.collect()\n",
    "    test_inputs = torch.Tensor(testset[:,non_target_indices])\n",
    "    del testset\n",
    "    gc.collect()\n",
    "    \n",
    "    norm_train_inputs,norm_val_inputs,norm_test_inputs = train_inputs.clone().detach(),val_inputs.clone().detach(),test_inputs.clone().detach()\n",
    "    \n",
    "    # apply scaler to all input features\n",
    "    if defaults_to_zero:\n",
    "        for (i,full_index) in enumerate(non_target_indices):\n",
    "            scaler = scalers[full_index]\n",
    "            \n",
    "            \n",
    "            norm_train_inputs[:,i] = torch.Tensor(np.where(\n",
    "                                                           train_inputs[:,i] != defaults[full_index],\n",
    "                                                           scaler.transform(train_inputs[:,i].reshape(-1,1)).reshape(1,-1),\n",
    "                                                           0. * norm_train_inputs[:,i]\n",
    "                                                          )\n",
    "                                                 )\n",
    "            norm_val_inputs[:,i]   = torch.Tensor(np.where(\n",
    "                                                           val_inputs[:,i] != defaults[full_index],\n",
    "                                                           scaler.transform(val_inputs[:,i].reshape(-1,1)).reshape(1,-1),\n",
    "                                                           0. * norm_val_inputs[:,i]\n",
    "                                                          )\n",
    "                                                 )\n",
    "            norm_test_inputs[:,i]  = torch.Tensor(np.where(\n",
    "                                                           test_inputs[:,i] != defaults[full_index],\n",
    "                                                           scaler.transform(test_inputs[:,i].reshape(-1,1)).reshape(1,-1),\n",
    "                                                           0. * norm_test_inputs[:,i]\n",
    "                                                          )\n",
    "                                                 )\n",
    "    else:\n",
    "        for (i,full_index) in enumerate(non_target_indices):\n",
    "            scaler = scalers[full_index]\n",
    "            norm_train_inputs[:,i]   = torch.Tensor(scaler.transform(train_inputs[:,i].reshape(-1,1)).reshape(1,-1))\n",
    "            norm_val_inputs[:,i]       = torch.Tensor(scaler.transform(val_inputs[:,i].reshape(-1,1)).reshape(1,-1))\n",
    "            norm_test_inputs[:,i]     = torch.Tensor(scaler.transform(test_inputs[:,i].reshape(-1,1)).reshape(1,-1))\n",
    "    \n",
    "    train_inputs = norm_train_inputs.clone().detach()\n",
    "    val_inputs = norm_val_inputs.clone().detach()\n",
    "    test_inputs = norm_test_inputs.clone().detach()\n",
    "    \n",
    "    if defaults_to_zero:\n",
    "        text = 'default_to_zero'\n",
    "    else:\n",
    "        text = ''\n",
    "        \n",
    "    torch.save(train_inputs, preprocessed_path+'train_inputs_{0}{1}.pt'.format(chunk_number,text))\n",
    "    torch.save(val_inputs, preprocessed_path+'val_inputs_{0}{1}.pt'.format(chunk_number,text))\n",
    "    torch.save(test_inputs, preprocessed_path+'test_inputs_{0}{1}.pt'.format(chunk_number,text))"
   ]
  },
  {
   "cell_type": "code",
   "execution_count": 17,
   "metadata": {},
   "outputs": [
    {
     "data": {
      "text/plain": [
       "231"
      ]
     },
     "execution_count": 17,
     "metadata": {},
     "output_type": "execute_result"
    }
   ],
   "source": [
    "splits = []\n",
    "total = 11491971\n",
    "for k in range(0,total,50000):\n",
    "    splits.append(k)\n",
    "splits.append(total)\n",
    "len(splits)"
   ]
  },
  {
   "cell_type": "markdown",
   "metadata": {},
   "source": [
    "Getting the high-level columns is not problematic at all, just load the full array and select the first five subarrays."
   ]
  },
  {
   "cell_type": "code",
   "execution_count": 29,
   "metadata": {},
   "outputs": [],
   "source": [
    "array = ak.concatenate([ak.from_parquet(akArrays_path+'split_{0}_{1}.parquet'.format(splits[i],splits[i+1]-1)) for i in range(len(splits)-1)])"
   ]
  },
  {
   "cell_type": "code",
   "execution_count": 30,
   "metadata": {},
   "outputs": [],
   "source": [
    "a1 = array.a1"
   ]
  },
  {
   "cell_type": "code",
   "execution_count": 31,
   "metadata": {},
   "outputs": [],
   "source": [
    "a2 = array.a2"
   ]
  },
  {
   "cell_type": "code",
   "execution_count": 32,
   "metadata": {},
   "outputs": [],
   "source": [
    "a3 = array.a3"
   ]
  },
  {
   "cell_type": "markdown",
   "metadata": {},
   "source": [
    "a3 doesn't need a scaler --> it's the target"
   ]
  },
  {
   "cell_type": "code",
   "execution_count": 33,
   "metadata": {},
   "outputs": [],
   "source": [
    "a4 = array.a4"
   ]
  },
  {
   "cell_type": "code",
   "execution_count": 34,
   "metadata": {},
   "outputs": [],
   "source": [
    "a5 = array.a5"
   ]
  },
  {
   "cell_type": "code",
   "execution_count": 35,
   "metadata": {},
   "outputs": [
    {
     "data": {
      "text/plain": [
       "2784"
      ]
     },
     "execution_count": 35,
     "metadata": {},
     "output_type": "execute_result"
    }
   ],
   "source": [
    "import gc\n",
    "del array\n",
    "gc.collect()"
   ]
  },
  {
   "cell_type": "markdown",
   "metadata": {},
   "source": [
    "Initial tests of functions:"
   ]
  },
  {
   "cell_type": "code",
   "execution_count": 52,
   "metadata": {},
   "outputs": [
    {
     "data": {
      "text/plain": [
       "array(22.9141)"
      ]
     },
     "execution_count": 52,
     "metadata": {},
     "output_type": "execute_result"
    }
   ],
   "source": [
    "get_default_from_full_index_DEPRECATED(0)"
   ]
  },
  {
   "cell_type": "markdown",
   "metadata": {},
   "source": [
    "True minima are now handled like other true values in the distribution, and the defaults differ slightly. When cutting, even when there is only one true entry = min, the result will now contain something, and if it's just one sample, then that's better than an empty array with which scalers can't be computed. First version used custom minima, latest version uses custom defaults."
   ]
  },
  {
   "cell_type": "code",
   "execution_count": 197,
   "metadata": {},
   "outputs": [
    {
     "data": {
      "text/plain": [
       "0.0"
      ]
     },
     "execution_count": 197,
     "metadata": {},
     "output_type": "execute_result"
    }
   ],
   "source": [
    "get_default_from_full_index(0)"
   ]
  },
  {
   "cell_type": "code",
   "execution_count": 53,
   "metadata": {},
   "outputs": [
    {
     "data": {
      "text/plain": [
       "array(0)"
      ]
     },
     "execution_count": 53,
     "metadata": {},
     "output_type": "execute_result"
    }
   ],
   "source": [
    "get_default_from_full_index_DEPRECATED(2)"
   ]
  },
  {
   "cell_type": "code",
   "execution_count": 198,
   "metadata": {},
   "outputs": [
    {
     "data": {
      "text/plain": [
       "-1.0"
      ]
     },
     "execution_count": 198,
     "metadata": {},
     "output_type": "execute_result"
    }
   ],
   "source": [
    "get_default_from_full_index(2)"
   ]
  },
  {
   "cell_type": "code",
   "execution_count": 54,
   "metadata": {},
   "outputs": [
    {
     "data": {
      "text/plain": [
       "array(0)"
      ]
     },
     "execution_count": 54,
     "metadata": {},
     "output_type": "execute_result"
    }
   ],
   "source": [
    "np.load(defaults_path+'custom_minimum_{}.npy'.format('a3'),)"
   ]
  },
  {
   "cell_type": "code",
   "execution_count": 199,
   "metadata": {},
   "outputs": [
    {
     "data": {
      "text/plain": [
       "array(-1)"
      ]
     },
     "execution_count": 199,
     "metadata": {},
     "output_type": "execute_result"
    }
   ],
   "source": [
    "np.load(defaults_path+'custom_default_{}.npy'.format('a3'),)"
   ]
  },
  {
   "cell_type": "markdown",
   "metadata": {},
   "source": [
    "The first three columns (pt/eta/flavor) are always meaningful and do not have to be cleaned."
   ]
  },
  {
   "cell_type": "code",
   "execution_count": 202,
   "metadata": {},
   "outputs": [],
   "source": [
    "a1_sc = calc_scalers(ak.to_numpy(a1).data, get_default_from_full_index(0))"
   ]
  },
  {
   "cell_type": "code",
   "execution_count": 203,
   "metadata": {},
   "outputs": [],
   "source": [
    "a2_sc = calc_scalers(ak.to_numpy(a2).data, get_default_from_full_index(1))"
   ]
  },
  {
   "cell_type": "code",
   "execution_count": 204,
   "metadata": {},
   "outputs": [],
   "source": [
    "# not really relevant\n",
    "a3_sc = calc_scalers(ak.to_numpy(a3).data, get_default_from_full_index(2))"
   ]
  },
  {
   "cell_type": "markdown",
   "metadata": {},
   "source": [
    "Starting with the high-level variables stored in a4 and a5, the cleaning has to be applied, as there are sometimes unphysical values."
   ]
  },
  {
   "cell_type": "code",
   "execution_count": 208,
   "metadata": {},
   "outputs": [],
   "source": [
    "indices = a4_indices_list\n",
    "defaults = get_all_defaults()[indices]\n",
    "a4_sc = calc_scalers(clean_any_numpy_array(ak.to_numpy(a4).data, defaults), \n",
    "                     defaults)"
   ]
  },
  {
   "cell_type": "code",
   "execution_count": 209,
   "metadata": {},
   "outputs": [],
   "source": [
    "indices = a5_indices_list\n",
    "defaults = get_all_defaults()[indices]\n",
    "a5_sc = calc_scalers(clean_any_numpy_array(ak.to_numpy(a5).data, defaults), \n",
    "                     defaults)"
   ]
  },
  {
   "cell_type": "code",
   "execution_count": 210,
   "metadata": {},
   "outputs": [],
   "source": [
    "var_group = 'a1'\n",
    "torch.save(a1_sc, preprocessed_path+'scalers_{}.pt'.format(var_group))"
   ]
  },
  {
   "cell_type": "code",
   "execution_count": 211,
   "metadata": {},
   "outputs": [],
   "source": [
    "var_group = 'a2'\n",
    "torch.save(a2_sc, preprocessed_path+'scalers_{}.pt'.format(var_group))"
   ]
  },
  {
   "cell_type": "code",
   "execution_count": 212,
   "metadata": {},
   "outputs": [],
   "source": [
    "var_group = 'a3'\n",
    "torch.save(a3_sc, preprocessed_path+'scalers_{}.pt'.format(var_group))"
   ]
  },
  {
   "cell_type": "code",
   "execution_count": 213,
   "metadata": {},
   "outputs": [],
   "source": [
    "var_group = 'a4'\n",
    "torch.save(a4_sc, preprocessed_path+'scalers_{}.pt'.format(var_group))"
   ]
  },
  {
   "cell_type": "code",
   "execution_count": 214,
   "metadata": {},
   "outputs": [],
   "source": [
    "var_group = 'a5'\n",
    "torch.save(a5_sc, preprocessed_path+'scalers_{}.pt'.format(var_group))"
   ]
  },
  {
   "cell_type": "markdown",
   "metadata": {},
   "source": [
    "Low-level calculation starts here:"
   ]
  },
  {
   "cell_type": "code",
   "execution_count": 18,
   "metadata": {},
   "outputs": [],
   "source": [
    "def calc_scalers_low_level(var_index):\n",
    "    vars_ = get_track_vertex_indices_all_tracks_one_variable(var_index)\n",
    "    columns = np.concatenate([np.load(np_arrays_path+'sorted_track_vertex_info_split_{0}_{1}.npy'.format(splits[i],splits[i+1]-1))[:,vars_] for i in range(len(splits)-1)])\n",
    "#    columns = np.concatenate([np.load(np_arrays_path+'sorted_track_vertex_info_split_{0}_{1}.npy'.format(splits[i],splits[i+1]-1))[:,vars_] for i in range(15)])\n",
    "\n",
    "    indices = np.array(vars_) + n_high_level\n",
    "    defaults = get_all_defaults()[indices]\n",
    "#    print(defaults)\n",
    "    lowlevel_sc = calc_scalers(clean_any_numpy_array(columns, defaults), \n",
    "                         defaults)\n",
    "    \n",
    "    return lowlevel_sc"
   ]
  },
  {
   "cell_type": "markdown",
   "metadata": {},
   "source": [
    "Pass the index of columns that have only one sample after cutting on defaults (= all samples placed at the same position).\n",
    "\n",
    "In our case, this holds true for track no. 33 (index: 32), all others have at least two samples due to construction (which leaves >= 1 samples to derive scalers then). For the problematic track, the scalers won't be meaningful, but at least we store something.\n",
    "\n",
    "As for previous computations, we pass a variable index that runs from 0 to 27 to account for the 28 different track-vertex features (all low-level), which each are stored for (at most) 33 tracks."
   ]
  },
  {
   "cell_type": "code",
   "execution_count": 218,
   "metadata": {},
   "outputs": [],
   "source": [
    "var_ind = 0\n",
    "a6_k_sc = calc_scalers_low_level(var_ind)\n",
    "\n",
    "torch.save(a6_k_sc, preprocessed_path+'scalers_{}.pt'.format('a6_'+str(var_ind)))"
   ]
  },
  {
   "cell_type": "code",
   "execution_count": 221,
   "metadata": {},
   "outputs": [],
   "source": [
    "var_ind = 1\n",
    "a6_k_sc = calc_scalers_low_level(var_ind)\n",
    "\n",
    "torch.save(a6_k_sc, preprocessed_path+'scalers_{}.pt'.format('a6_'+str(var_ind)))"
   ]
  },
  {
   "cell_type": "code",
   "execution_count": 222,
   "metadata": {},
   "outputs": [],
   "source": [
    "var_ind = 2\n",
    "a6_k_sc = calc_scalers_low_level(var_ind)\n",
    "\n",
    "torch.save(a6_k_sc, preprocessed_path+'scalers_{}.pt'.format('a6_'+str(var_ind)))"
   ]
  },
  {
   "cell_type": "code",
   "execution_count": 223,
   "metadata": {},
   "outputs": [],
   "source": [
    "var_ind = 3\n",
    "a6_k_sc = calc_scalers_low_level(var_ind)\n",
    "\n",
    "torch.save(a6_k_sc, preprocessed_path+'scalers_{}.pt'.format('a6_'+str(var_ind)))"
   ]
  },
  {
   "cell_type": "code",
   "execution_count": 224,
   "metadata": {},
   "outputs": [],
   "source": [
    "var_ind = 4\n",
    "a6_k_sc = calc_scalers_low_level(var_ind)\n",
    "\n",
    "torch.save(a6_k_sc, preprocessed_path+'scalers_{}.pt'.format('a6_'+str(var_ind)))"
   ]
  },
  {
   "cell_type": "code",
   "execution_count": 344,
   "metadata": {},
   "outputs": [],
   "source": [
    "var_ind = 5\n",
    "a6_k_sc = calc_scalers_low_level(var_ind)\n",
    "\n",
    "torch.save(a6_k_sc, preprocessed_path+'scalers_{}.pt'.format('a6_'+str(var_ind)))"
   ]
  },
  {
   "cell_type": "code",
   "execution_count": 345,
   "metadata": {},
   "outputs": [],
   "source": [
    "var_ind = 6\n",
    "a6_k_sc = calc_scalers_low_level(var_ind)\n",
    "\n",
    "torch.save(a6_k_sc, preprocessed_path+'scalers_{}.pt'.format('a6_'+str(var_ind)))"
   ]
  },
  {
   "cell_type": "code",
   "execution_count": 346,
   "metadata": {},
   "outputs": [],
   "source": [
    "var_ind = 7\n",
    "a6_k_sc = calc_scalers_low_level(var_ind)\n",
    "\n",
    "torch.save(a6_k_sc, preprocessed_path+'scalers_{}.pt'.format('a6_'+str(var_ind)))"
   ]
  },
  {
   "cell_type": "code",
   "execution_count": 347,
   "metadata": {},
   "outputs": [],
   "source": [
    "var_ind = 8\n",
    "a6_k_sc = calc_scalers_low_level(var_ind)\n",
    "\n",
    "torch.save(a6_k_sc, preprocessed_path+'scalers_{}.pt'.format('a6_'+str(var_ind)))"
   ]
  },
  {
   "cell_type": "code",
   "execution_count": 348,
   "metadata": {},
   "outputs": [],
   "source": [
    "var_ind = 9\n",
    "a6_k_sc = calc_scalers_low_level(var_ind)\n",
    "\n",
    "torch.save(a6_k_sc, preprocessed_path+'scalers_{}.pt'.format('a6_'+str(var_ind)))"
   ]
  },
  {
   "cell_type": "code",
   "execution_count": 349,
   "metadata": {},
   "outputs": [],
   "source": [
    "var_ind = 10\n",
    "a6_k_sc = calc_scalers_low_level(var_ind)\n",
    "\n",
    "torch.save(a6_k_sc, preprocessed_path+'scalers_{}.pt'.format('a6_'+str(var_ind)))"
   ]
  },
  {
   "cell_type": "code",
   "execution_count": 350,
   "metadata": {},
   "outputs": [],
   "source": [
    "var_ind = 11\n",
    "a6_k_sc = calc_scalers_low_level(var_ind)\n",
    "\n",
    "torch.save(a6_k_sc, preprocessed_path+'scalers_{}.pt'.format('a6_'+str(var_ind)))"
   ]
  },
  {
   "cell_type": "code",
   "execution_count": 351,
   "metadata": {},
   "outputs": [],
   "source": [
    "var_ind = 12\n",
    "a6_k_sc = calc_scalers_low_level(var_ind)\n",
    "\n",
    "torch.save(a6_k_sc, preprocessed_path+'scalers_{}.pt'.format('a6_'+str(var_ind)))"
   ]
  },
  {
   "cell_type": "code",
   "execution_count": 352,
   "metadata": {},
   "outputs": [],
   "source": [
    "var_ind = 13\n",
    "a6_k_sc = calc_scalers_low_level(var_ind)\n",
    "\n",
    "torch.save(a6_k_sc, preprocessed_path+'scalers_{}.pt'.format('a6_'+str(var_ind)))"
   ]
  },
  {
   "cell_type": "code",
   "execution_count": 353,
   "metadata": {},
   "outputs": [],
   "source": [
    "var_ind = 14\n",
    "a6_k_sc = calc_scalers_low_level(var_ind)\n",
    "\n",
    "torch.save(a6_k_sc, preprocessed_path+'scalers_{}.pt'.format('a6_'+str(var_ind)))"
   ]
  },
  {
   "cell_type": "code",
   "execution_count": 354,
   "metadata": {},
   "outputs": [],
   "source": [
    "var_ind = 15\n",
    "a6_k_sc = calc_scalers_low_level(var_ind)\n",
    "\n",
    "torch.save(a6_k_sc, preprocessed_path+'scalers_{}.pt'.format('a6_'+str(var_ind)))"
   ]
  },
  {
   "cell_type": "code",
   "execution_count": 355,
   "metadata": {},
   "outputs": [],
   "source": [
    "var_ind = 16\n",
    "a6_k_sc = calc_scalers_low_level(var_ind)\n",
    "\n",
    "torch.save(a6_k_sc, preprocessed_path+'scalers_{}.pt'.format('a6_'+str(var_ind)))"
   ]
  },
  {
   "cell_type": "code",
   "execution_count": 356,
   "metadata": {},
   "outputs": [],
   "source": [
    "var_ind = 17\n",
    "a6_k_sc = calc_scalers_low_level(var_ind)\n",
    "\n",
    "torch.save(a6_k_sc, preprocessed_path+'scalers_{}.pt'.format('a6_'+str(var_ind)))"
   ]
  },
  {
   "cell_type": "code",
   "execution_count": 357,
   "metadata": {},
   "outputs": [],
   "source": [
    "var_ind = 18\n",
    "a6_k_sc = calc_scalers_low_level(var_ind)\n",
    "\n",
    "torch.save(a6_k_sc, preprocessed_path+'scalers_{}.pt'.format('a6_'+str(var_ind)))"
   ]
  },
  {
   "cell_type": "code",
   "execution_count": 239,
   "metadata": {},
   "outputs": [],
   "source": [
    "var_ind = 19\n",
    "a6_k_sc = calc_scalers_low_level(var_ind)\n",
    "\n",
    "torch.save(a6_k_sc, preprocessed_path+'scalers_{}.pt'.format('a6_'+str(var_ind)))"
   ]
  },
  {
   "cell_type": "code",
   "execution_count": 240,
   "metadata": {},
   "outputs": [],
   "source": [
    "var_ind = 20\n",
    "a6_k_sc = calc_scalers_low_level(var_ind)\n",
    "\n",
    "torch.save(a6_k_sc, preprocessed_path+'scalers_{}.pt'.format('a6_'+str(var_ind)))"
   ]
  },
  {
   "cell_type": "code",
   "execution_count": 241,
   "metadata": {},
   "outputs": [],
   "source": [
    "var_ind = 21\n",
    "a6_k_sc = calc_scalers_low_level(var_ind)\n",
    "\n",
    "torch.save(a6_k_sc, preprocessed_path+'scalers_{}.pt'.format('a6_'+str(var_ind)))"
   ]
  },
  {
   "cell_type": "code",
   "execution_count": 242,
   "metadata": {},
   "outputs": [],
   "source": [
    "var_ind = 22\n",
    "a6_k_sc = calc_scalers_low_level(var_ind)\n",
    "\n",
    "torch.save(a6_k_sc, preprocessed_path+'scalers_{}.pt'.format('a6_'+str(var_ind)))"
   ]
  },
  {
   "cell_type": "code",
   "execution_count": 243,
   "metadata": {},
   "outputs": [],
   "source": [
    "var_ind = 23\n",
    "a6_k_sc = calc_scalers_low_level(var_ind)\n",
    "\n",
    "torch.save(a6_k_sc, preprocessed_path+'scalers_{}.pt'.format('a6_'+str(var_ind)))"
   ]
  },
  {
   "cell_type": "code",
   "execution_count": 244,
   "metadata": {},
   "outputs": [],
   "source": [
    "var_ind = 24\n",
    "a6_k_sc = calc_scalers_low_level(var_ind)\n",
    "\n",
    "torch.save(a6_k_sc, preprocessed_path+'scalers_{}.pt'.format('a6_'+str(var_ind)))"
   ]
  },
  {
   "cell_type": "code",
   "execution_count": 245,
   "metadata": {},
   "outputs": [],
   "source": [
    "var_ind = 25\n",
    "a6_k_sc = calc_scalers_low_level(var_ind)\n",
    "\n",
    "torch.save(a6_k_sc, preprocessed_path+'scalers_{}.pt'.format('a6_'+str(var_ind)))"
   ]
  },
  {
   "cell_type": "code",
   "execution_count": 246,
   "metadata": {},
   "outputs": [],
   "source": [
    "var_ind = 26\n",
    "a6_k_sc = calc_scalers_low_level(var_ind)\n",
    "\n",
    "torch.save(a6_k_sc, preprocessed_path+'scalers_{}.pt'.format('a6_'+str(var_ind)))"
   ]
  },
  {
   "cell_type": "code",
   "execution_count": 247,
   "metadata": {},
   "outputs": [],
   "source": [
    "var_ind = 27\n",
    "a6_k_sc = calc_scalers_low_level(var_ind)\n",
    "\n",
    "torch.save(a6_k_sc, preprocessed_path+'scalers_{}.pt'.format('a6_'+str(var_ind)))"
   ]
  },
  {
   "cell_type": "code",
   "execution_count": 20,
   "metadata": {
    "scrolled": true
   },
   "outputs": [
    {
     "data": {
      "text/plain": [
       "['scalers_a1.pt',\n",
       " 'scalers_a2.pt',\n",
       " 'scalers_a3.pt',\n",
       " 'scalers_a4.pt',\n",
       " 'scalers_a5.pt',\n",
       " 'scalers_a6_0.pt',\n",
       " 'scalers_a6_1.pt',\n",
       " 'scalers_a6_2.pt',\n",
       " 'scalers_a6_3.pt',\n",
       " 'scalers_a6_4.pt',\n",
       " 'scalers_a6_5.pt',\n",
       " 'scalers_a6_6.pt',\n",
       " 'scalers_a6_7.pt',\n",
       " 'scalers_a6_8.pt',\n",
       " 'scalers_a6_9.pt',\n",
       " 'scalers_a6_10.pt',\n",
       " 'scalers_a6_11.pt',\n",
       " 'scalers_a6_12.pt',\n",
       " 'scalers_a6_13.pt',\n",
       " 'scalers_a6_14.pt',\n",
       " 'scalers_a6_15.pt',\n",
       " 'scalers_a6_16.pt',\n",
       " 'scalers_a6_17.pt',\n",
       " 'scalers_a6_18.pt',\n",
       " 'scalers_a6_19.pt',\n",
       " 'scalers_a6_20.pt',\n",
       " 'scalers_a6_21.pt',\n",
       " 'scalers_a6_22.pt',\n",
       " 'scalers_a6_23.pt',\n",
       " 'scalers_a6_24.pt',\n",
       " 'scalers_a6_25.pt',\n",
       " 'scalers_a6_26.pt',\n",
       " 'scalers_a6_27.pt']"
      ]
     },
     "execution_count": 20,
     "metadata": {},
     "output_type": "execute_result"
    }
   ],
   "source": [
    "sorted_scalers_files = ['scalers_a{}.pt'.format(j) for j in range(1,6)]\n",
    "b = ['scalers_a6_{}.pt'.format(l) for l in range(0,28)]\n",
    "sorted_scalers_files.extend(b)\n",
    "sorted_scalers_files"
   ]
  },
  {
   "cell_type": "code",
   "execution_count": 254,
   "metadata": {},
   "outputs": [],
   "source": [
    "all_the_scalers = torch.load(preprocessed_path+sorted_scalers_files[0])\n",
    "for k in range(1,len(sorted_scalers_files)):\n",
    "    all_the_scalers = all_the_scalers + torch.load(preprocessed_path+sorted_scalers_files[k])"
   ]
  },
  {
   "cell_type": "code",
   "execution_count": 256,
   "metadata": {},
   "outputs": [
    {
     "data": {
      "text/plain": [
       "941"
      ]
     },
     "execution_count": 256,
     "metadata": {},
     "output_type": "execute_result"
    }
   ],
   "source": [
    "len(all_the_scalers)"
   ]
  },
  {
   "cell_type": "code",
   "execution_count": 259,
   "metadata": {},
   "outputs": [
    {
     "data": {
      "text/plain": [
       "list"
      ]
     },
     "execution_count": 259,
     "metadata": {},
     "output_type": "execute_result"
    }
   ],
   "source": [
    "type(all_the_scalers)"
   ]
  },
  {
   "cell_type": "code",
   "execution_count": 260,
   "metadata": {},
   "outputs": [
    {
     "data": {
      "text/plain": [
       "sklearn.preprocessing._data.StandardScaler"
      ]
     },
     "execution_count": 260,
     "metadata": {},
     "output_type": "execute_result"
    }
   ],
   "source": [
    "type(all_the_scalers[0])"
   ]
  },
  {
   "cell_type": "code",
   "execution_count": 261,
   "metadata": {},
   "outputs": [
    {
     "data": {
      "text/plain": [
       "941"
      ]
     },
     "execution_count": 261,
     "metadata": {},
     "output_type": "execute_result"
    }
   ],
   "source": [
    "sum([type(all_the_scalers[0]) == type(all_the_scalers[k]) for k in range(len(all_the_scalers))])"
   ]
  },
  {
   "cell_type": "markdown",
   "metadata": {},
   "source": [
    "Now all scalers are part of a single list, which can be stored via torch as .pt again for easy look-up later."
   ]
  },
  {
   "cell_type": "code",
   "execution_count": 262,
   "metadata": {},
   "outputs": [],
   "source": [
    "torch.save(all_the_scalers, preprocessed_path+'all_scalers.pt')"
   ]
  },
  {
   "cell_type": "markdown",
   "metadata": {},
   "source": [
    "In order to decide also at the level of scaled quantities whether some value is a default, it could help to scale the defaults themselves and store the resulting \"scaled default\" as well."
   ]
  },
  {
   "cell_type": "code",
   "execution_count": 368,
   "metadata": {
    "scrolled": true
   },
   "outputs": [
    {
     "data": {
      "text/plain": [
       "array([-2.68771825e+00, -2.20531961e+00, -1.43435124e+00, -5.52270751e-01,\n",
       "       -5.20628201e-01, -2.02641782e-01, -2.47709478e-01, -8.06466477e-01,\n",
       "       -6.11756335e-01, -1.89240835e+00, -1.96493416e+00, -7.95656559e-01,\n",
       "       -2.05953082e+00, -1.33896640e+00, -4.65264374e-01, -1.21666085e+00,\n",
       "       -1.77710507e+00, -2.06165409e+01, -4.23211524e+01, -4.18137157e+01,\n",
       "       -3.28382430e+01, -2.63348779e+01, -2.24139809e+01, -1.96496869e+01,\n",
       "       -1.76053132e+01, -1.60689738e+01, -1.50964120e+01, -1.45371519e+01,\n",
       "       -1.35719891e+01, -1.31965659e+01, -1.32496793e+01, -1.34172481e+01,\n",
       "       -1.35280753e+01, -1.30844969e+01, -1.26810217e+01, -1.04408429e+01,\n",
       "       -8.80461743e+00, -9.10968117e+00, -8.79438548e+00, -6.84805061e+00,\n",
       "       -4.80606126e+00, -4.28630713e+00, -2.69319157e+00, -3.46397803e+00,\n",
       "       -2.17454450e+00, -1.47284020e+00, -1.24215797e+00, -1.24716454e+00,\n",
       "       -1.37494567e+00, -1.00000000e-03, -2.96728695e+02, -2.30162743e+02,\n",
       "       -3.07855080e+02, -2.58476149e+02, -2.01542721e+02, -2.44743749e+02,\n",
       "       -1.82755696e+02, -2.13554548e+02, -9.27650025e+01, -1.44223769e+02,\n",
       "       -2.21344928e+02, -1.03166994e+02, -5.57306729e+01, -3.24946373e+01,\n",
       "       -3.14727027e+01, -3.50419468e+01, -1.06101594e+01, -6.94411716e+00,\n",
       "       -5.79711710e+00, -4.29274727e+00, -6.62755564e+00, -1.51017735e+01,\n",
       "       -3.36617519e+00, -5.28305260e+00, -1.96633614e+00, -5.57224232e+00,\n",
       "       -2.71683611e+00, -2.20778169e+00, -1.46000166e+00, -1.92438390e+00,\n",
       "       -1.49454728e+00, -1.37321218e+00, -1.00000000e-03, -3.28832144e+00,\n",
       "       -3.23260172e+00, -3.06645306e+00, -2.91519701e+00, -2.79476731e+00,\n",
       "       -2.70189445e+00, -2.63881122e+00, -2.59374600e+00, -2.57181828e+00,\n",
       "       -2.57669811e+00, -2.58685695e+00, -2.58667112e+00, -2.60562103e+00,\n",
       "       -2.60965105e+00, -2.57275094e+00, -2.65483702e+00, -2.72238751e+00,\n",
       "       -2.60364725e+00, -2.66508193e+00, -2.53862750e+00, -2.26224756e+00,\n",
       "       -2.55343793e+00, -2.03512749e+00, -1.69699298e+00, -1.65510087e+00,\n",
       "       -1.96795767e+00, -1.45511714e+00, -1.57447964e+00, -1.56178876e+00,\n",
       "       -1.27092047e+00, -1.68234737e+00, -1.19653492e+00, -1.00000000e-03,\n",
       "       -4.92216443e+00, -4.79070799e+00, -4.62293420e+00, -4.47741071e+00,\n",
       "       -4.37845240e+00, -4.30432048e+00, -4.25782951e+00, -4.23348260e+00,\n",
       "       -4.21275852e+00, -4.19615336e+00, -4.17197267e+00, -4.11010759e+00,\n",
       "       -4.12550837e+00, -3.98986069e+00, -3.87087920e+00, -3.66141979e+00,\n",
       "       -3.88894331e+00, -3.91335489e+00, -3.53944536e+00, -3.43853048e+00,\n",
       "       -3.17636909e+00, -3.76580686e+00, -2.68459847e+00, -3.00440992e+00,\n",
       "       -1.86974051e+00, -1.84359406e+00, -2.06524617e+00, -1.94588460e+00,\n",
       "       -1.48486383e+00, -1.76311057e+00, -1.72409034e+00, -1.19733755e+00,\n",
       "       -1.00000000e-03, -4.92360352e+00, -4.82193133e+00, -4.62160052e+00,\n",
       "       -4.44913463e+00, -4.31038699e+00, -4.17947461e+00, -4.07585638e+00,\n",
       "       -3.97832864e+00, -3.90945575e+00, -3.88331685e+00, -3.87025482e+00,\n",
       "       -3.89923772e+00, -3.94861574e+00, -3.91521314e+00, -3.96431293e+00,\n",
       "       -4.02855019e+00, -4.11492313e+00, -4.15157193e+00, -3.97582576e+00,\n",
       "       -3.76047796e+00, -3.40424488e+00, -3.63570145e+00, -2.76183202e+00,\n",
       "       -3.57981675e+00, -2.03038059e+00, -2.19842465e+00, -1.16547382e+00,\n",
       "       -2.84833369e+00, -1.88719228e+00, -1.53953381e+00, -1.56690089e+00,\n",
       "       -9.71860878e-01, -1.00000000e-03, -1.69853391e+00, -1.75880508e+00,\n",
       "       -1.81933343e+00, -1.87970674e+00, -1.93835162e+00, -1.99312347e+00,\n",
       "       -2.04594476e+00, -2.09375469e+00, -2.12821072e+00, -2.15271544e+00,\n",
       "       -2.16859042e+00, -2.16794494e+00, -2.14501861e+00, -2.10487764e+00,\n",
       "       -2.08190007e+00, -2.07499554e+00, -2.07879036e+00, -2.05832924e+00,\n",
       "       -1.93977707e+00, -1.93150913e+00, -1.93409163e+00, -1.68330931e+00,\n",
       "       -1.89513310e+00, -1.81842396e+00, -2.02096611e+00, -2.21963749e+00,\n",
       "       -2.91800146e+00, -3.97471560e+00, -2.59469080e+00, -2.33266997e+00,\n",
       "       -2.40565109e+00, -9.96495428e+00, -3.12036000e-04, -9.60675734e-01,\n",
       "       -9.83717105e-01, -1.01571728e+00, -1.05234087e+00, -1.09167088e+00,\n",
       "       -1.13213415e+00, -1.17355655e+00, -1.21485615e+00, -1.25043159e+00,\n",
       "       -1.28307045e+00, -1.31282363e+00, -1.33474119e+00, -1.34126880e+00,\n",
       "       -1.33643514e+00, -1.34924015e+00, -1.37003647e+00, -1.37647766e+00,\n",
       "       -1.34292080e+00, -1.31519751e+00, -1.27282224e+00, -1.26071754e+00,\n",
       "       -1.16834987e+00, -1.15473782e+00, -1.21071400e+00, -1.15565260e+00,\n",
       "       -1.35793662e+00, -6.74887006e-01, -1.22364705e+00, -8.37885621e-01,\n",
       "       -7.50326629e-01, -6.03000165e-01, -7.27275277e-01, -1.00000000e-06,\n",
       "       -7.53519039e-01, -7.66585855e-01, -7.81953837e-01, -7.98709292e-01,\n",
       "       -8.16310400e-01, -8.34704892e-01, -8.53878989e-01, -8.73058187e-01,\n",
       "       -8.90540325e-01, -9.05175158e-01, -9.19123977e-01, -9.27466752e-01,\n",
       "       -9.29191152e-01, -9.24767053e-01, -9.29434198e-01, -9.44512606e-01,\n",
       "       -9.35849149e-01, -9.25195188e-01, -9.12059878e-01, -8.88884616e-01,\n",
       "       -8.89912800e-01, -7.84961823e-01, -8.22379919e-01, -8.19722341e-01,\n",
       "       -7.31142878e-01, -8.97387298e-01, -6.79191844e-01, -1.46028276e+00,\n",
       "       -6.78167918e-01, -7.14766547e-01, -6.93741107e-01, -3.26001445e+00,\n",
       "       -6.07636000e-03, -2.05585862e+00, -2.01545585e+00, -1.96797807e+00,\n",
       "       -1.92049176e+00, -1.87613789e+00, -1.83365458e+00, -1.79410727e+00,\n",
       "       -1.75753853e+00, -1.72260969e+00, -1.69909896e+00, -1.67427279e+00,\n",
       "       -1.66450649e+00, -1.65873468e+00, -1.65929299e+00, -1.64511934e+00,\n",
       "       -1.62642743e+00, -1.67542646e+00, -1.67663885e+00, -1.69138837e+00,\n",
       "       -1.69542115e+00, -1.63605734e+00, -2.06220669e+00, -1.81425946e+00,\n",
       "       -2.02028006e+00, -2.64965839e+00, -2.77622035e+00, -3.16298724e+00,\n",
       "       -1.84888501e+00, -2.39858518e+00, -2.09895448e+00, -2.16530579e+00,\n",
       "       -2.39146080e+00, -1.00000000e-06, -2.40073530e+00, -2.36314166e+00,\n",
       "       -2.31956885e+00, -2.27673923e+00, -2.23848739e+00, -2.20409910e+00,\n",
       "       -2.17401898e+00, -2.14664669e+00, -2.12416565e+00, -2.11094379e+00,\n",
       "       -2.09486791e+00, -2.09703275e+00, -2.09655359e+00, -2.09429359e+00,\n",
       "       -2.08716947e+00, -2.07202110e+00, -2.03483443e+00, -2.13747843e+00,\n",
       "       -2.09621369e+00, -2.04157098e+00, -2.04957197e+00, -2.22734327e+00,\n",
       "       -1.63912704e+00, -2.20639062e+00, -2.98017972e+00, -2.39665536e+00,\n",
       "       -2.77215102e+00, -1.72698760e+00, -2.41762767e+00, -2.10892886e+00,\n",
       "       -2.17137559e+00, -3.22788143e+00, -1.00000000e-07, -1.80973549e+00,\n",
       "       -1.83886809e+00, -1.87860447e+00, -1.92430912e+00, -1.97411745e+00,\n",
       "       -2.02572955e+00, -2.07814853e+00, -2.13131961e+00, -2.17709523e+00,\n",
       "       -2.22130644e+00, -2.25765050e+00, -2.29410792e+00, -2.30709748e+00,\n",
       "       -2.29457019e+00, -2.29873876e+00, -2.33939940e+00, -2.34853839e+00,\n",
       "       -2.34074615e+00, -2.26837347e+00, -2.29408431e+00, -2.15930751e+00,\n",
       "       -2.13919239e+00, -2.07138629e+00, -2.32202438e+00, -2.32343592e+00,\n",
       "       -2.67800140e+00, -2.78919892e+00, -4.05011787e+00, -2.45023285e+00,\n",
       "       -2.21631982e+00, -2.27652676e+00, -9.68740766e+00, -1.18222000e-07,\n",
       "       -2.75548967e+00, -2.77259305e+00, -2.83180019e+00, -2.91844311e+00,\n",
       "       -3.02982471e+00, -3.16386963e+00, -3.30889750e+00, -3.46555228e+00,\n",
       "       -3.62887679e+00, -3.80318189e+00, -3.95728433e+00, -4.12379920e+00,\n",
       "       -4.21688162e+00, -4.25060625e+00, -4.37861282e+00, -4.55700322e+00,\n",
       "       -4.46202715e+00, -4.34910344e+00, -4.50378689e+00, -4.27923234e+00,\n",
       "       -4.48905786e+00, -4.36320940e+00, -3.88352458e+00, -4.23205836e+00,\n",
       "       -4.06023134e+00, -3.45787895e+00, -1.76742932e+00, -2.93149300e+00,\n",
       "       -1.24372636e+00, -1.63574385e+00, -1.09376867e+00, -1.50296801e+00,\n",
       "       -1.00000000e-08, -1.30796923e+00, -1.32506781e+00, -1.35792338e+00,\n",
       "       -1.33935432e+00, -1.34827914e+00, -1.35665692e+00, -1.36614875e+00,\n",
       "       -1.37609099e+00, -1.38307930e+00, -1.38861550e+00, -1.39465325e+00,\n",
       "       -1.39486149e+00, -1.39055262e+00, -1.37064974e+00, -1.37891305e+00,\n",
       "       -1.39376914e+00, -1.38317297e+00, -1.37373730e+00, -1.34493330e+00,\n",
       "       -1.33902736e+00, -1.30235515e+00, -1.23833914e+00, -1.24655691e+00,\n",
       "       -1.10975894e+00, -1.23744299e+00, -1.22304582e+00, -5.64542623e-01,\n",
       "       -1.85518858e+00, -8.91343450e-01, -6.46952082e-01, -5.95339004e-01,\n",
       "       -1.26583419e+00, -1.00000000e-06, -3.42430579e+00, -3.08434371e+00,\n",
       "       -3.56345430e+00, -3.22863210e+00, -3.30609388e+00, -3.38267036e+00,\n",
       "       -3.45661124e+00, -3.52245721e+00, -3.59592561e+00, -3.64649712e+00,\n",
       "       -3.68253617e+00, -3.74959534e+00, -3.77567553e+00, -3.76788323e+00,\n",
       "       -3.80057901e+00, -3.79614044e+00, -3.46230418e+00, -3.86611366e+00,\n",
       "       -3.60623431e+00, -3.49674491e+00, -3.73163846e+00, -2.99022319e+00,\n",
       "       -2.42034690e+00, -3.13252950e+00, -3.63454648e+00, -2.72276692e+00,\n",
       "       -2.64066573e+00, -1.73304725e+00, -3.18037125e+00, -2.85510586e+00,\n",
       "       -2.89405385e+00, -1.08370927e+01, -1.00000000e-10, -6.29693772e-01,\n",
       "       -6.21032494e-01, -6.08116875e-01, -5.94559320e-01, -5.81977441e-01,\n",
       "       -5.71340520e-01, -5.63368551e-01, -5.59043072e-01, -5.57227912e-01,\n",
       "       -5.55882178e-01, -5.56182472e-01, -5.63936464e-01, -5.68936954e-01,\n",
       "       -5.96882716e-01, -6.05299520e-01, -5.87868590e-01, -6.17194731e-01,\n",
       "       -6.55826723e-01, -5.75439488e-01, -8.16189926e-01, -5.52698533e-01,\n",
       "       -5.99012132e-01, -5.55072247e-01, -4.87184863e-01, -7.14148697e-01,\n",
       "       -6.92914496e-01, -3.92378033e+00, -1.10333929e+00, -1.02900383e+01,\n",
       "       -2.90344069e+00, -1.22689902e+01, -1.12442694e+01, -1.68791000e-08,\n",
       "       -2.42723819e+00, -2.37337662e+00, -2.30979603e+00, -2.24534304e+00,\n",
       "       -2.18364053e+00, -2.12319029e+00, -2.06695638e+00, -2.01485007e+00,\n",
       "       -1.96322006e+00, -1.92882204e+00, -1.89536225e+00, -1.87824406e+00,\n",
       "       -1.86843261e+00, -1.87227153e+00, -1.85707265e+00, -1.82777031e+00,\n",
       "       -1.90606462e+00, -1.87779296e+00, -1.90946366e+00, -1.87748775e+00,\n",
       "       -1.83471747e+00, -2.38934091e+00, -2.06909406e+00, -2.33702993e+00,\n",
       "       -3.56176862e+00, -4.48150152e+00, -3.74660162e+00, -4.82960772e+00,\n",
       "       -2.44161670e+00, -2.19111604e+00, -2.19243879e+00, -8.11550359e+00,\n",
       "       -1.00000000e-06, -1.90782971e+00, -1.86070120e+00, -1.80590126e+00,\n",
       "       -1.75040141e+00, -1.69780511e+00, -1.64726342e+00, -1.59963474e+00,\n",
       "       -1.55563932e+00, -1.51610704e+00, -1.48779365e+00, -1.46039605e+00,\n",
       "       -1.44684718e+00, -1.44233989e+00, -1.44691190e+00, -1.43726756e+00,\n",
       "       -1.41531984e+00, -1.44784681e+00, -1.45260945e+00, -1.48145289e+00,\n",
       "       -1.49700478e+00, -1.47713224e+00, -1.86813918e+00, -1.65059919e+00,\n",
       "       -1.78537360e+00, -2.36807624e+00, -2.28502727e+00, -2.62762533e+00,\n",
       "       -1.93012845e+00, -2.27625858e+00, -2.02762966e+00, -2.03824554e+00,\n",
       "       -2.21618653e+00, -1.00000000e-07, -1.55603204e+00, -1.54599567e+00,\n",
       "       -1.56894801e+00, -1.53746890e+00, -1.54192688e+00, -1.54635311e+00,\n",
       "       -1.57366951e+00, -1.55668849e+00, -1.56148074e+00, -1.56542278e+00,\n",
       "       -1.56836012e+00, -1.51904812e+00, -1.56965696e+00, -1.48969486e+00,\n",
       "       -1.56069794e+00, -1.52646097e+00, -1.48725502e+00, -1.42441246e+00,\n",
       "       -1.51216408e+00, -1.51769141e+00, -1.46535744e+00, -1.31374351e+00,\n",
       "       -1.30518179e+00, -7.82302543e-01, -1.41378332e+00, -9.11790737e-01,\n",
       "       -3.64985392e-01, -1.10316780e+00, -4.74818465e-01, -5.20659260e-01,\n",
       "       -5.28725989e-01, -2.90077302e+00, -1.00000000e-09, -3.86766361e+00,\n",
       "       -3.75945300e+00, -3.97013616e+00, -3.15030721e+00, -3.94336351e+00,\n",
       "       -3.24950466e+00, -4.08292674e+00, -3.34267303e+00, -2.99926065e+00,\n",
       "       -3.43082536e+00, -3.45614598e+00, -3.49324438e+00, -3.51438914e+00,\n",
       "       -3.11645483e+00, -3.13077086e+00, -3.17144894e+00, -3.02701023e+00,\n",
       "       -3.13224352e+00, -3.04475343e+00, -1.43649315e+00, -2.22583802e+00,\n",
       "       -1.41883289e+00, -1.48741548e+00, -1.29204983e+00, -1.31433675e+00,\n",
       "       -1.02544154e+00, -1.97584825e+00, -1.53990942e+00, -1.05494578e+00,\n",
       "       -8.99281266e-01, -1.27052489e+00, -1.43108912e+00, -1.00000000e-11,\n",
       "       -3.14518097e+00, -3.16644035e+00, -3.15326694e+00, -3.12490374e+00,\n",
       "       -3.08940462e+00, -3.05175217e+00, -3.01487338e+00, -2.97855288e+00,\n",
       "       -2.94969267e+00, -2.91172433e+00, -2.87364005e+00, -2.84136794e+00,\n",
       "       -2.82093054e+00, -2.78485662e+00, -2.73866309e+00, -2.75812226e+00,\n",
       "       -2.67729606e+00, -2.72006467e+00, -2.64191242e+00, -2.73835109e+00,\n",
       "       -2.66194677e+00, -2.44546630e+00, -2.62339162e+00, -2.76845393e+00,\n",
       "       -2.58554273e+00, -2.71220326e+00, -4.29009862e+00, -3.63353380e+00,\n",
       "       -3.65535176e+00, -3.44906770e+00, -3.76219375e+00, -1.01664039e+01,\n",
       "       -4.99996000e-07, -3.11576089e+00, -3.54616820e+00, -3.65578595e+00,\n",
       "       -3.38216678e+00, -3.03148297e+00, -2.76436114e+00, -2.59074766e+00,\n",
       "       -2.49032807e+00, -2.43638997e+00, -2.42008736e+00, -2.41614504e+00,\n",
       "       -2.40296195e+00, -2.43715221e+00, -2.47021264e+00, -2.46488482e+00,\n",
       "       -2.46914423e+00, -2.68753964e+00, -2.52227845e+00, -2.44621019e+00,\n",
       "       -2.35803826e+00, -2.46847840e+00, -3.16598151e+00, -2.07433135e+00,\n",
       "       -3.08539185e+00, -2.08339423e+00, -2.32864878e+00, -4.04153384e+00,\n",
       "       -4.73515542e+00, -4.74682525e+00, -3.34617952e+00, -4.02021399e+00,\n",
       "       -3.98599368e+00, -5.76616000e-01, -1.30385062e+00, -1.41886322e+00,\n",
       "       -1.52242314e+00, -1.58284914e+00, -1.58484783e+00, -1.53623534e+00,\n",
       "       -1.46012811e+00, -1.37111011e+00, -1.28128149e+00, -1.20383523e+00,\n",
       "       -1.12940935e+00, -1.07766989e+00, -1.04952534e+00, -1.02502099e+00,\n",
       "       -1.02697677e+00, -1.00454482e+00, -1.03792014e+00, -1.03970565e+00,\n",
       "       -1.02326747e+00, -1.03175359e+00, -9.45222220e-01, -1.05688887e+00,\n",
       "       -9.84062011e-01, -1.29605087e+00, -1.25857022e+00, -1.23387690e+00,\n",
       "       -1.05342253e+00, -1.42128115e+00, -1.39388810e+00, -1.02783309e+00,\n",
       "       -1.18381145e+00, -7.83957470e-01, -7.51591000e-01, -1.17958948e-01,\n",
       "       -1.11459389e-01, -1.14755729e-01, -1.17922057e-01, -1.38056517e-01,\n",
       "       -1.22051431e-01, -1.54729249e-01, -1.98452522e-01, -2.52469905e-01,\n",
       "       -2.26018586e-01, -2.49905249e-01, -2.98905100e-01, -2.71701059e-01,\n",
       "       -3.41933349e-01, -3.21315354e-01, -3.71237232e-01, -4.10477167e-01,\n",
       "       -4.26170954e-01, -3.29626748e-01, -4.37737425e-01, -3.57080390e-01,\n",
       "       -4.91305078e-01, -3.97007409e-01, -4.18779305e-01, -4.56655499e-01,\n",
       "       -4.73516388e-01, -3.08851925e-01, -6.11718261e-01, -5.57142017e-01,\n",
       "       -1.11660518e+00, -8.10863187e-01, -8.74672836e-01, -1.72441000e+01,\n",
       "       -1.22474507e+01, -1.21149885e+01, -1.14345116e+01, -1.21139773e+01,\n",
       "       -1.23568064e+01, -1.28165117e+01, -1.12968643e+01, -1.15838781e+01,\n",
       "       -1.19547350e+01, -1.17260575e+01, -9.96062797e+00, -8.86300749e+00,\n",
       "       -8.13838727e+00, -6.61349907e+00, -6.08562162e+00, -5.68147590e+00,\n",
       "       -5.59615810e+00, -4.53027717e+00, -4.48200096e+00, -3.72681993e+00,\n",
       "       -3.12228666e+00, -2.57248951e+00, -2.61481292e+00, -3.40916297e+00,\n",
       "       -2.28743877e+00, -1.99379726e+00, -8.39015078e-01, -1.41203329e+00,\n",
       "       -1.00075132e+00, -1.04196502e+00, -1.00708242e+00, -1.00817631e+00,\n",
       "       -1.00000000e-03, -3.99257493e+00, -4.03539944e+00, -4.20759344e+00,\n",
       "       -4.22360325e+00, -4.26663471e+00, -4.32474467e+00, -4.33535025e+00,\n",
       "       -4.31296422e+00, -4.24464602e+00, -4.13930864e+00, -4.01480093e+00,\n",
       "       -3.83935794e+00, -3.67332333e+00, -3.43021275e+00, -3.16870979e+00,\n",
       "       -2.90011960e+00, -3.05734512e+00, -2.92770762e+00, -2.58165908e+00,\n",
       "       -2.34530376e+00, -2.02798124e+00, -2.53537648e+00, -2.05944522e+00,\n",
       "       -1.94622942e+00, -2.03768264e+00, -2.37711801e+00, -1.07330374e+00,\n",
       "       -1.41488938e+00, -1.00202282e+00, -1.21721108e+00, -1.00413954e+00,\n",
       "       -1.00700832e+00, -1.00000000e-03, -3.68478261e-01, -3.37513149e-01,\n",
       "       -3.19962592e-01, -3.45033197e-01, -3.95601572e-01, -4.57654956e-01,\n",
       "       -5.06083788e-01, -5.51102366e-01, -5.76559636e-01, -5.92125159e-01,\n",
       "       -5.99465823e-01, -5.84314942e-01, -5.79695471e-01, -5.10064800e-01,\n",
       "       -4.52008957e-01, -4.34415196e-01, -5.31107984e-01, -4.84739501e-01,\n",
       "       -4.67733029e-01, -5.28037153e-01, -3.82011993e-01, -5.33611876e-01,\n",
       "       -3.43241594e-01, -4.69387552e-01, -5.06026664e-01, -4.91460137e-01,\n",
       "       -4.05888844e-01, -6.90057708e-01, -6.35741176e-01, -1.09697582e+00,\n",
       "       -6.98485068e-01, -1.36571291e+00, -7.61980000e+00, -1.92383246e+00,\n",
       "       -2.11795573e+00, -2.29067693e+00, -2.38533334e+00, -2.36603853e+00,\n",
       "       -2.26603762e+00, -2.13761101e+00, -2.00777315e+00, -1.89040453e+00,\n",
       "       -1.79210605e+00, -1.69961211e+00, -1.61893163e+00, -1.56503311e+00,\n",
       "       -1.50647285e+00, -1.48984211e+00, -1.44004833e+00, -1.44194089e+00,\n",
       "       -1.44239497e+00, -1.38881760e+00, -1.40860947e+00, -1.21553130e+00,\n",
       "       -1.34810971e+00, -1.24728728e+00, -1.63507192e+00, -1.55524283e+00,\n",
       "       -1.45011884e+00, -1.36505739e+00, -1.66896710e+00, -1.70547760e+00,\n",
       "       -1.17205693e+00, -1.36524977e+00, -8.64241621e-01, -2.00000000e+00,\n",
       "       -2.55079062e+00, -2.58748079e+00, -2.50039877e+00, -2.42123011e+00,\n",
       "       -2.33579169e+00, -2.23357355e+00, -2.12316874e+00, -2.01460501e+00,\n",
       "       -1.91370319e+00, -1.83084752e+00, -1.75036390e+00, -1.67865892e+00,\n",
       "       -1.63822488e+00, -1.58303340e+00, -1.55686794e+00, -1.48990549e+00,\n",
       "       -1.49959241e+00, -1.48847529e+00, -1.46656838e+00, -1.46821938e+00,\n",
       "       -1.26108114e+00, -1.34633871e+00, -1.25317052e+00, -1.69982219e+00,\n",
       "       -1.55516210e+00, -1.50655133e+00, -1.18780440e+00, -1.59739187e+00,\n",
       "       -1.59374562e+00, -1.01918104e+00, -1.34894716e+00, -8.27317196e-01,\n",
       "       -4.55793000e-02])"
      ]
     },
     "execution_count": 368,
     "metadata": {},
     "output_type": "execute_result"
    }
   ],
   "source": [
    "all_scaled_defaults = get_all_defaults(scaled=False, old=False)\n",
    "\n",
    "for i in range(941):\n",
    "    all_scaled_defaults[i] = all_the_scalers[i].transform(all_scaled_defaults[i].reshape(1, -1))\n",
    "\n",
    "np.save(defaults_path+'all_scaled_defaults.npy', all_scaled_defaults)\n",
    "all_scaled_defaults"
   ]
  },
  {
   "cell_type": "code",
   "execution_count": 369,
   "metadata": {
    "scrolled": true
   },
   "outputs": [
    {
     "data": {
      "text/plain": [
       "array([-2.68771825e+00, -2.20531961e+00, -1.43435124e+00, -5.52270751e-01,\n",
       "       -5.20628201e-01, -2.02641782e-01, -2.47709478e-01, -8.06466477e-01,\n",
       "       -6.11756335e-01, -1.89240835e+00, -1.96493416e+00, -7.95656559e-01,\n",
       "       -2.05953082e+00, -1.33896640e+00, -4.65264374e-01, -1.21666085e+00,\n",
       "       -1.77710507e+00, -2.06165409e+01, -4.23211524e+01, -4.18137157e+01,\n",
       "       -3.28382430e+01, -2.63348779e+01, -2.24139809e+01, -1.96496869e+01,\n",
       "       -1.76053132e+01, -1.60689738e+01, -1.50964120e+01, -1.45371519e+01,\n",
       "       -1.35719891e+01, -1.31965659e+01, -1.32496793e+01, -1.34172481e+01,\n",
       "       -1.35280753e+01, -1.30844969e+01, -1.26810217e+01, -1.04408429e+01,\n",
       "       -8.80461743e+00, -9.10968117e+00, -8.79438548e+00, -6.84805061e+00,\n",
       "       -4.80606126e+00, -4.28630713e+00, -2.69319157e+00, -3.46397803e+00,\n",
       "       -2.17454450e+00, -1.47284020e+00, -1.24215797e+00, -1.24716454e+00,\n",
       "       -1.37494567e+00, -1.00000000e-03, -2.96728695e+02, -2.30162743e+02,\n",
       "       -3.07855080e+02, -2.58476149e+02, -2.01542721e+02, -2.44743749e+02,\n",
       "       -1.82755696e+02, -2.13554548e+02, -9.27650025e+01, -1.44223769e+02,\n",
       "       -2.21344928e+02, -1.03166994e+02, -5.57306729e+01, -3.24946373e+01,\n",
       "       -3.14727027e+01, -3.50419468e+01, -1.06101594e+01, -6.94411716e+00,\n",
       "       -5.79711710e+00, -4.29274727e+00, -6.62755564e+00, -1.51017735e+01,\n",
       "       -3.36617519e+00, -5.28305260e+00, -1.96633614e+00, -5.57224232e+00,\n",
       "       -2.71683611e+00, -2.20778169e+00, -1.46000166e+00, -1.92438390e+00,\n",
       "       -1.49454728e+00, -1.37321218e+00, -1.00000000e-03, -3.28832144e+00,\n",
       "       -3.23260172e+00, -3.06645306e+00, -2.91519701e+00, -2.79476731e+00,\n",
       "       -2.70189445e+00, -2.63881122e+00, -2.59374600e+00, -2.57181828e+00,\n",
       "       -2.57669811e+00, -2.58685695e+00, -2.58667112e+00, -2.60562103e+00,\n",
       "       -2.60965105e+00, -2.57275094e+00, -2.65483702e+00, -2.72238751e+00,\n",
       "       -2.60364725e+00, -2.66508193e+00, -2.53862750e+00, -2.26224756e+00,\n",
       "       -2.55343793e+00, -2.03512749e+00, -1.69699298e+00, -1.65510087e+00,\n",
       "       -1.96795767e+00, -1.45511714e+00, -1.57447964e+00, -1.56178876e+00,\n",
       "       -1.27092047e+00, -1.68234737e+00, -1.19653492e+00, -1.00000000e-03,\n",
       "       -4.92216443e+00, -4.79070799e+00, -4.62293420e+00, -4.47741071e+00,\n",
       "       -4.37845240e+00, -4.30432048e+00, -4.25782951e+00, -4.23348260e+00,\n",
       "       -4.21275852e+00, -4.19615336e+00, -4.17197267e+00, -4.11010759e+00,\n",
       "       -4.12550837e+00, -3.98986069e+00, -3.87087920e+00, -3.66141979e+00,\n",
       "       -3.88894331e+00, -3.91335489e+00, -3.53944536e+00, -3.43853048e+00,\n",
       "       -3.17636909e+00, -3.76580686e+00, -2.68459847e+00, -3.00440992e+00,\n",
       "       -1.86974051e+00, -1.84359406e+00, -2.06524617e+00, -1.94588460e+00,\n",
       "       -1.48486383e+00, -1.76311057e+00, -1.72409034e+00, -1.19733755e+00,\n",
       "       -1.00000000e-03, -4.92360352e+00, -4.82193133e+00, -4.62160052e+00,\n",
       "       -4.44913463e+00, -4.31038699e+00, -4.17947461e+00, -4.07585638e+00,\n",
       "       -3.97832864e+00, -3.90945575e+00, -3.88331685e+00, -3.87025482e+00,\n",
       "       -3.89923772e+00, -3.94861574e+00, -3.91521314e+00, -3.96431293e+00,\n",
       "       -4.02855019e+00, -4.11492313e+00, -4.15157193e+00, -3.97582576e+00,\n",
       "       -3.76047796e+00, -3.40424488e+00, -3.63570145e+00, -2.76183202e+00,\n",
       "       -3.57981675e+00, -2.03038059e+00, -2.19842465e+00, -1.16547382e+00,\n",
       "       -2.84833369e+00, -1.88719228e+00, -1.53953381e+00, -1.56690089e+00,\n",
       "       -9.71860878e-01, -1.00000000e-03, -1.69853391e+00, -1.75880508e+00,\n",
       "       -1.81933343e+00, -1.87970674e+00, -1.93835162e+00, -1.99312347e+00,\n",
       "       -2.04594476e+00, -2.09375469e+00, -2.12821072e+00, -2.15271544e+00,\n",
       "       -2.16859042e+00, -2.16794494e+00, -2.14501861e+00, -2.10487764e+00,\n",
       "       -2.08190007e+00, -2.07499554e+00, -2.07879036e+00, -2.05832924e+00,\n",
       "       -1.93977707e+00, -1.93150913e+00, -1.93409163e+00, -1.68330931e+00,\n",
       "       -1.89513310e+00, -1.81842396e+00, -2.02096611e+00, -2.21963749e+00,\n",
       "       -2.91800146e+00, -3.97471560e+00, -2.59469080e+00, -2.33266997e+00,\n",
       "       -2.40565109e+00, -9.96495428e+00, -3.12036000e-04, -4.82447464e+00,\n",
       "       -4.81285677e+00, -4.81401047e+00, -4.82663708e+00, -4.85086828e+00,\n",
       "       -4.88130513e+00, -4.91827359e+00, -4.95987574e+00, -4.99345603e+00,\n",
       "       -5.03580217e+00, -5.07146352e+00, -5.10943153e+00, -5.12101497e+00,\n",
       "       -5.11777749e+00, -5.13645827e+00, -5.15879705e+00, -5.22644105e+00,\n",
       "       -5.15429799e+00, -5.13361561e+00, -5.04290619e+00, -4.96410613e+00,\n",
       "       -5.34675060e+00, -4.95427512e+00, -5.31372062e+00, -6.02296322e+00,\n",
       "       -6.48903197e+00, -5.82772811e+00, -8.36538132e+00, -5.22695525e+00,\n",
       "       -4.89016241e+00, -4.61998926e+00, -2.08756023e+01, -1.00000000e-03,\n",
       "       -7.53519039e-01, -7.66585855e-01, -7.81953837e-01, -7.98709292e-01,\n",
       "       -8.16310400e-01, -8.34704892e-01, -8.53878989e-01, -8.73058187e-01,\n",
       "       -8.90540325e-01, -9.05175158e-01, -9.19123977e-01, -9.27466752e-01,\n",
       "       -9.29191152e-01, -9.24767053e-01, -9.29434198e-01, -9.44512606e-01,\n",
       "       -9.35849149e-01, -9.25195188e-01, -9.12059878e-01, -8.88884616e-01,\n",
       "       -8.89912800e-01, -7.84961823e-01, -8.22379919e-01, -8.19722341e-01,\n",
       "       -7.31142878e-01, -8.97387298e-01, -6.79191844e-01, -1.46028276e+00,\n",
       "       -6.78167918e-01, -7.14766547e-01, -6.93741107e-01, -3.26001445e+00,\n",
       "       -6.07636000e-03, -1.65633318e+02, -1.65577036e+02, -1.65478356e+02,\n",
       "       -1.65537205e+02, -1.65841741e+02, -1.66233626e+02, -1.66752180e+02,\n",
       "       -1.67327399e+02, -1.67579900e+02, -1.68134008e+02, -1.68200089e+02,\n",
       "       -1.68779929e+02, -1.68404704e+02, -1.67488576e+02, -1.66505995e+02,\n",
       "       -1.66707735e+02, -1.69333078e+02, -1.69069359e+02, -1.65778770e+02,\n",
       "       -1.65807763e+02, -1.59627749e+02, -1.74748605e+02, -1.65162749e+02,\n",
       "       -1.78040488e+02, -2.09744348e+02, -2.25591649e+02, -2.58289228e+02,\n",
       "       -3.78218190e+02, -2.11234090e+02, -1.87807360e+02, -1.93330401e+02,\n",
       "       -9.78661448e+02, -1.00000000e-03, -1.34105689e+03, -1.33751070e+03,\n",
       "       -1.33649233e+03, -1.33871268e+03, -1.34494422e+03, -1.35398116e+03,\n",
       "       -1.36569190e+03, -1.37834672e+03, -1.39124940e+03, -1.40582281e+03,\n",
       "       -1.41742878e+03, -1.43434775e+03, -1.44217553e+03, -1.43718541e+03,\n",
       "       -1.44326371e+03, -1.44712477e+03, -1.46537225e+03, -1.47480437e+03,\n",
       "       -1.44416978e+03, -1.42090649e+03, -1.42209608e+03, -1.42103901e+03,\n",
       "       -1.42325606e+03, -1.45433672e+03, -1.76077799e+03, -1.49880083e+03,\n",
       "       -2.14437732e+03, -2.14877352e+03, -1.93203643e+03, -1.68560722e+03,\n",
       "       -1.78078398e+03, -1.81380929e+04, -1.00000000e-03, -1.80973549e+00,\n",
       "       -1.83886809e+00, -1.87860447e+00, -1.92430912e+00, -1.97411745e+00,\n",
       "       -2.02572955e+00, -2.07814853e+00, -2.13131961e+00, -2.17709523e+00,\n",
       "       -2.22130644e+00, -2.25765050e+00, -2.29410792e+00, -2.30709748e+00,\n",
       "       -2.29457019e+00, -2.29873876e+00, -2.33939940e+00, -2.34853839e+00,\n",
       "       -2.34074615e+00, -2.26837347e+00, -2.29408431e+00, -2.15930751e+00,\n",
       "       -2.13919239e+00, -2.07138629e+00, -2.32202438e+00, -2.32343592e+00,\n",
       "       -2.67800140e+00, -2.78919892e+00, -4.05011787e+00, -2.45023285e+00,\n",
       "       -2.21631982e+00, -2.27652676e+00, -9.68740766e+00, -1.18222000e-07,\n",
       "       -1.82483806e+04, -1.82768804e+04, -1.84900554e+04, -1.88274486e+04,\n",
       "       -1.92800407e+04, -1.98441271e+04, -2.04635918e+04, -2.11458723e+04,\n",
       "       -2.18664474e+04, -2.26645241e+04, -2.33627955e+04, -2.41502764e+04,\n",
       "       -2.45770768e+04, -2.47670325e+04, -2.53509005e+04, -2.61863764e+04,\n",
       "       -2.58378830e+04, -2.52184653e+04, -2.59576557e+04, -2.48522359e+04,\n",
       "       -2.59730257e+04, -2.57043732e+04, -2.33657341e+04, -2.47929578e+04,\n",
       "       -2.56227715e+04, -2.15285448e+04, -4.89637480e+04, -3.55214288e+04,\n",
       "       -4.13649156e+04, -3.59008950e+04, -3.80442324e+04, -7.95868296e+04,\n",
       "       -1.00000000e-03, -4.66755633e+01, -4.69869509e+01, -4.74874045e+01,\n",
       "       -4.79700641e+01, -4.84376794e+01, -4.87850000e+01, -4.90349524e+01,\n",
       "       -4.92253518e+01, -4.92140735e+01, -4.92387993e+01, -4.92049566e+01,\n",
       "       -4.92707371e+01, -4.92440418e+01, -4.95128274e+01, -4.93660408e+01,\n",
       "       -4.91658347e+01, -5.03299009e+01, -5.01896542e+01, -4.95544705e+01,\n",
       "       -4.99218263e+01, -4.73997413e+01, -5.42571914e+01, -4.90374640e+01,\n",
       "       -5.03065636e+01, -7.02096672e+01, -8.31494001e+01, -7.28193309e+01,\n",
       "       -1.83423131e+02, -5.45974084e+01, -5.11471943e+01, -5.01412912e+01,\n",
       "       -5.59434513e+02, -1.00000000e-03, -1.93257354e+06, -1.96505705e+06,\n",
       "       -2.01279436e+06, -2.06845542e+06, -2.13045344e+06, -2.19548613e+06,\n",
       "       -2.26252377e+06, -2.32561155e+06, -2.39302890e+06, -2.44705186e+06,\n",
       "       -2.49218471e+06, -2.55431989e+06, -2.58433745e+06, -2.57656739e+06,\n",
       "       -2.61558390e+06, -2.62351095e+06, -2.57098879e+06, -2.67182137e+06,\n",
       "       -2.52370003e+06, -2.49736764e+06, -2.68719808e+06, -2.13569523e+06,\n",
       "       -2.41410968e+06, -2.30887466e+06, -2.56809381e+06, -1.91279856e+06,\n",
       "       -4.03465418e+06, -2.39849911e+06, -9.53231289e+06, -8.61440443e+06,\n",
       "       -8.99381908e+06, -1.01299860e+08, -1.00000000e-03, -6.29693772e-01,\n",
       "       -6.21032494e-01, -6.08116875e-01, -5.94559320e-01, -5.81977441e-01,\n",
       "       -5.71340520e-01, -5.63368551e-01, -5.59043072e-01, -5.57227912e-01,\n",
       "       -5.55882178e-01, -5.56182472e-01, -5.63936464e-01, -5.68936954e-01,\n",
       "       -5.96882716e-01, -6.05299520e-01, -5.87868590e-01, -6.17194731e-01,\n",
       "       -6.55826723e-01, -5.75439488e-01, -8.16189926e-01, -5.52698533e-01,\n",
       "       -5.99012132e-01, -5.55072247e-01, -4.87184863e-01, -7.14148697e-01,\n",
       "       -6.92914496e-01, -3.92378033e+00, -1.10333929e+00, -1.02900383e+01,\n",
       "       -2.90344069e+00, -1.22689902e+01, -1.12442694e+01, -1.68791000e-08,\n",
       "       -2.05199808e+02, -2.03066131e+02, -2.00174820e+02, -1.97129571e+02,\n",
       "       -1.94163091e+02, -1.91208678e+02, -1.88477739e+02, -1.85924580e+02,\n",
       "       -1.83332154e+02, -1.81547130e+02, -1.79729012e+02, -1.78732535e+02,\n",
       "       -1.77953823e+02, -1.77715188e+02, -1.76516667e+02, -1.75464354e+02,\n",
       "       -1.79124826e+02, -1.77885002e+02, -1.78293527e+02, -1.76304237e+02,\n",
       "       -1.72571937e+02, -2.00753925e+02, -1.84374317e+02, -1.99161088e+02,\n",
       "       -2.73566436e+02, -3.39632093e+02, -2.95498587e+02, -3.16394833e+03,\n",
       "       -2.08564647e+02, -1.94756629e+02, -1.94896002e+02, -7.40910392e+03,\n",
       "       -1.00000000e-03, -4.18140664e+02, -4.13064582e+02, -4.07760199e+02,\n",
       "       -4.02930430e+02, -3.98850006e+02, -3.95347539e+02, -3.92587214e+02,\n",
       "       -3.90445633e+02, -3.88417250e+02, -3.87864228e+02, -3.87396251e+02,\n",
       "       -3.88044518e+02, -3.88508856e+02, -3.89198937e+02, -3.89556619e+02,\n",
       "       -3.90544362e+02, -3.98113271e+02, -3.93403778e+02, -3.96233329e+02,\n",
       "       -3.88815648e+02, -3.81085818e+02, -4.31067171e+02, -3.89761612e+02,\n",
       "       -4.21936821e+02, -4.89353887e+02, -5.02711044e+02, -5.03622259e+02,\n",
       "       -6.59571380e+02, -4.33218626e+02, -4.17465765e+02, -4.01184590e+02,\n",
       "       -8.02114387e+03, -1.00000000e-03, -1.43641081e+04, -1.42438534e+04,\n",
       "       -1.40750452e+04, -1.38916532e+04, -1.37008950e+04, -1.35031138e+04,\n",
       "       -1.33174691e+04, -1.31490468e+04, -1.29698842e+04, -1.28461105e+04,\n",
       "       -1.27376668e+04, -1.26447083e+04, -1.25910615e+04, -1.25553135e+04,\n",
       "       -1.24702058e+04, -1.23367164e+04, -1.25717961e+04, -1.24106838e+04,\n",
       "       -1.23884352e+04, -1.24395704e+04, -1.23238458e+04, -1.34557288e+04,\n",
       "       -1.29694980e+04, -1.39651722e+04, -1.95962062e+04, -2.51737687e+04,\n",
       "       -2.09558107e+04, -2.53053878e+05, -1.48830374e+04, -1.38248630e+04,\n",
       "       -1.38832374e+04, -1.48656087e+06, -1.00000000e-03, -6.31909732e+05,\n",
       "       -6.41776809e+05, -6.56245660e+05, -6.73116416e+05, -6.91443048e+05,\n",
       "       -7.10671483e+05, -7.29123321e+05, -7.47103771e+05, -7.64341390e+05,\n",
       "       -7.79414195e+05, -7.90988535e+05, -8.04822824e+05, -8.11345195e+05,\n",
       "       -8.20545709e+05, -8.32761365e+05, -8.47747300e+05, -8.23147529e+05,\n",
       "       -8.31648230e+05, -8.09960297e+05, -8.82152175e+05, -8.34555406e+05,\n",
       "       -9.09279167e+05, -8.05796326e+05, -7.79503930e+05, -7.70274243e+05,\n",
       "       -7.13261000e+05, -9.11772001e+05, -8.85034074e+05, -1.57506809e+06,\n",
       "       -1.82512466e+06, -1.59969185e+06, -1.68755742e+06, -1.00000000e-03,\n",
       "       -3.14518097e+00, -3.16644035e+00, -3.15326694e+00, -3.12490374e+00,\n",
       "       -3.08940462e+00, -3.05175217e+00, -3.01487338e+00, -2.97855288e+00,\n",
       "       -2.94969267e+00, -2.91172433e+00, -2.87364005e+00, -2.84136794e+00,\n",
       "       -2.82093054e+00, -2.78485662e+00, -2.73866309e+00, -2.75812226e+00,\n",
       "       -2.67729606e+00, -2.72006467e+00, -2.64191242e+00, -2.73835109e+00,\n",
       "       -2.66194677e+00, -2.44546630e+00, -2.62339162e+00, -2.76845393e+00,\n",
       "       -2.58554273e+00, -2.71220326e+00, -4.29009862e+00, -3.63353380e+00,\n",
       "       -3.65535176e+00, -3.44906770e+00, -3.76219375e+00, -1.01664039e+01,\n",
       "       -4.99996000e-07, -3.11576089e+00, -3.54616820e+00, -3.65578595e+00,\n",
       "       -3.38216678e+00, -3.03148297e+00, -2.76436114e+00, -2.59074766e+00,\n",
       "       -2.49032807e+00, -2.43638997e+00, -2.42008736e+00, -2.41614504e+00,\n",
       "       -2.40296195e+00, -2.43715221e+00, -2.47021264e+00, -2.46488482e+00,\n",
       "       -2.46914423e+00, -2.68753964e+00, -2.52227845e+00, -2.44621019e+00,\n",
       "       -2.35803826e+00, -2.46847840e+00, -3.16598151e+00, -2.07433135e+00,\n",
       "       -3.08539185e+00, -2.08339423e+00, -2.32864878e+00, -4.04153384e+00,\n",
       "       -4.73515542e+00, -4.74682525e+00, -3.34617952e+00, -4.02021399e+00,\n",
       "       -3.98599368e+00, -5.76616000e-01, -1.30385062e+00, -1.41886322e+00,\n",
       "       -1.52242314e+00, -1.58284914e+00, -1.58484783e+00, -1.53623534e+00,\n",
       "       -1.46012811e+00, -1.37111011e+00, -1.28128149e+00, -1.20383523e+00,\n",
       "       -1.12940935e+00, -1.07766989e+00, -1.04952534e+00, -1.02502099e+00,\n",
       "       -1.02697677e+00, -1.00454482e+00, -1.03792014e+00, -1.03970565e+00,\n",
       "       -1.02326747e+00, -1.03175359e+00, -9.45222220e-01, -1.05688887e+00,\n",
       "       -9.84062011e-01, -1.29605087e+00, -1.25857022e+00, -1.23387690e+00,\n",
       "       -1.05342253e+00, -1.42128115e+00, -1.39388810e+00, -1.02783309e+00,\n",
       "       -1.18381145e+00, -7.83957470e-01, -7.51591000e-01, -1.17958948e-01,\n",
       "       -1.11459389e-01, -1.14755729e-01, -1.17922057e-01, -1.38056517e-01,\n",
       "       -1.22051431e-01, -1.54729249e-01, -1.98452522e-01, -2.52469905e-01,\n",
       "       -2.26018586e-01, -2.49905249e-01, -2.98905100e-01, -2.71701059e-01,\n",
       "       -3.41933349e-01, -3.21315354e-01, -3.71237232e-01, -4.10477167e-01,\n",
       "       -4.26170954e-01, -3.29626748e-01, -4.37737425e-01, -3.57080390e-01,\n",
       "       -4.91305078e-01, -3.97007409e-01, -4.18779305e-01, -4.56655499e-01,\n",
       "       -4.73516388e-01, -3.08851925e-01, -6.11718261e-01, -5.57142017e-01,\n",
       "       -1.11660518e+00, -8.10863187e-01, -8.74672836e-01, -1.72441000e+01,\n",
       "       -1.22474507e+01, -1.21149885e+01, -1.14345116e+01, -1.21139773e+01,\n",
       "       -1.23568064e+01, -1.28165117e+01, -1.12968643e+01, -1.15838781e+01,\n",
       "       -1.19547350e+01, -1.17260575e+01, -9.96062797e+00, -8.86300749e+00,\n",
       "       -8.13838727e+00, -6.61349907e+00, -6.08562162e+00, -5.68147590e+00,\n",
       "       -5.59615810e+00, -4.53027717e+00, -4.48200096e+00, -3.72681993e+00,\n",
       "       -3.12228666e+00, -2.57248951e+00, -2.61481292e+00, -3.40916297e+00,\n",
       "       -2.28743877e+00, -1.99379726e+00, -8.39015078e-01, -1.41203329e+00,\n",
       "       -1.00075132e+00, -1.04196502e+00, -1.00708242e+00, -1.00817631e+00,\n",
       "       -1.00000000e-03, -3.99257493e+00, -4.03539944e+00, -4.20759344e+00,\n",
       "       -4.22360325e+00, -4.26663471e+00, -4.32474467e+00, -4.33535025e+00,\n",
       "       -4.31296422e+00, -4.24464602e+00, -4.13930864e+00, -4.01480093e+00,\n",
       "       -3.83935794e+00, -3.67332333e+00, -3.43021275e+00, -3.16870979e+00,\n",
       "       -2.90011960e+00, -3.05734512e+00, -2.92770762e+00, -2.58165908e+00,\n",
       "       -2.34530376e+00, -2.02798124e+00, -2.53537648e+00, -2.05944522e+00,\n",
       "       -1.94622942e+00, -2.03768264e+00, -2.37711801e+00, -1.07330374e+00,\n",
       "       -1.41488938e+00, -1.00202282e+00, -1.21721108e+00, -1.00413954e+00,\n",
       "       -1.00700832e+00, -1.00000000e-03, -3.68478261e-01, -3.37513149e-01,\n",
       "       -3.19962592e-01, -3.45033197e-01, -3.95601572e-01, -4.57654956e-01,\n",
       "       -5.06083788e-01, -5.51102366e-01, -5.76559636e-01, -5.92125159e-01,\n",
       "       -5.99465823e-01, -5.84314942e-01, -5.79695471e-01, -5.10064800e-01,\n",
       "       -4.52008957e-01, -4.34415196e-01, -5.31107984e-01, -4.84739501e-01,\n",
       "       -4.67733029e-01, -5.28037153e-01, -3.82011993e-01, -5.33611876e-01,\n",
       "       -3.43241594e-01, -4.69387552e-01, -5.06026664e-01, -4.91460137e-01,\n",
       "       -4.05888844e-01, -6.90057708e-01, -6.35741176e-01, -1.09697582e+00,\n",
       "       -6.98485068e-01, -1.36571291e+00, -7.61980000e+00, -1.92383246e+00,\n",
       "       -2.11795573e+00, -2.29067693e+00, -2.38533334e+00, -2.36603853e+00,\n",
       "       -2.26603762e+00, -2.13761101e+00, -2.00777315e+00, -1.89040453e+00,\n",
       "       -1.79210605e+00, -1.69961211e+00, -1.61893163e+00, -1.56503311e+00,\n",
       "       -1.50647285e+00, -1.48984211e+00, -1.44004833e+00, -1.44194089e+00,\n",
       "       -1.44239497e+00, -1.38881760e+00, -1.40860947e+00, -1.21553130e+00,\n",
       "       -1.34810971e+00, -1.24728728e+00, -1.63507192e+00, -1.55524283e+00,\n",
       "       -1.45011884e+00, -1.36505739e+00, -1.66896710e+00, -1.70547760e+00,\n",
       "       -1.17205693e+00, -1.36524977e+00, -8.64241621e-01, -2.00000000e+00,\n",
       "       -2.55079062e+00, -2.58748079e+00, -2.50039877e+00, -2.42123011e+00,\n",
       "       -2.33579169e+00, -2.23357355e+00, -2.12316874e+00, -2.01460501e+00,\n",
       "       -1.91370319e+00, -1.83084752e+00, -1.75036390e+00, -1.67865892e+00,\n",
       "       -1.63822488e+00, -1.58303340e+00, -1.55686794e+00, -1.48990549e+00,\n",
       "       -1.49959241e+00, -1.48847529e+00, -1.46656838e+00, -1.46821938e+00,\n",
       "       -1.26108114e+00, -1.34633871e+00, -1.25317052e+00, -1.69982219e+00,\n",
       "       -1.55516210e+00, -1.50655133e+00, -1.18780440e+00, -1.59739187e+00,\n",
       "       -1.59374562e+00, -1.01918104e+00, -1.34894716e+00, -8.27317196e-01,\n",
       "       -4.55793000e-02])"
      ]
     },
     "execution_count": 369,
     "metadata": {},
     "output_type": "execute_result"
    }
   ],
   "source": [
    "all_scaled_defaults_OLD = get_all_defaults(scaled=False, old=True)\n",
    "\n",
    "for i in range(941):\n",
    "    all_scaled_defaults_OLD[i] = all_the_scalers[i].transform(all_scaled_defaults_OLD[i].reshape(1, -1))\n",
    "\n",
    "np.save(defaults_path+'all_scaled_defaults_OLD.npy', all_scaled_defaults_OLD)\n",
    "all_scaled_defaults_OLD"
   ]
  },
  {
   "cell_type": "code",
   "execution_count": 388,
   "metadata": {
    "scrolled": true
   },
   "outputs": [
    {
     "name": "stdout",
     "output_type": "stream",
     "text": [
      "feature                                    mean                 variance             default (NEW)        scaled default (NEW) default (OLD)        scaled default (OLD)\n",
      "--------------------------------------------------------------------------------------------------------------------------------------------------------------------------------\n",
      "jet_pt                                     [33.82514418]        [158.38419179]       0.0                  -2.6877182490335687  0.0                  -2.6877182490335687 \n",
      "jet_eta                                    [0.00104774]         [1.85183688]         -3.0                 -2.2053196101228676  -3.0                 -2.2053196101228676 \n",
      "flavor                                     [2.44464758]         [5.76737997]         -1.0                 -1.4343512404828216  -1.0                 -1.4343512404828216 \n",
      "track_2_d0_significance                    [3.97768268]         [51.87476977]        0.0                  -0.552270750526215   0.0                  -0.552270750526215  \n",
      "track_3_d0_significance                    [2.51115898]         [23.26446339]        0.0                  -0.5206282007035612  0.0                  -0.5206282007035612 \n",
      "track_2_z0_significance                    [3.67691401]         [329.23724035]       0.0                  -0.20264178248897852 0.0                  -0.20264178248897852\n",
      "track_3_z0_significance                    [2.53065727]         [104.37137762]       0.0                  -0.24770947842976918 0.0                  -0.24770947842976918\n",
      "n_tracks_over_d0_threshold                 [1.29590253]         [2.58608046]         -0.001               -0.8064664767839731  -0.001               -0.8064664767839731 \n",
      "jet_prob                                   [0.0434004]          [0.00526765]         -0.001               -0.6117563350242116  -0.001               -0.6117563350242116 \n",
      "jet_width_eta                              [0.08966462]         [0.00224498]         0.0                  -1.8924083461049672  0.0                  -1.8924083461049672 \n",
      "jet_width_phi                              [0.09876942]         [0.00252667]         0.0                  -1.964934159045767   0.0                  -1.964934159045767  \n",
      "vertex_significance                        [101.15660002]       [16163.56498634]     0.0                  -0.795656558545949   0.0                  -0.795656558545949  \n",
      "n_secondary_vertices                       [1.44143018]         [0.48983592]         0.0                  -2.059530824055883   0.0                  -2.059530824055883  \n",
      "n_secondary_vertex_tracks                  [4.19696033]         [9.82495042]         0.0                  -1.3389664043760288  0.0                  -1.3389664043760288 \n",
      "delta_r_vertex                             [0.46629718]         [1.00444456]         0.0                  -0.46526437430244266 0.0                  -0.46526437430244266\n",
      "vertex_mass                                [1.71270967]         [1.98165675]         0.0                  -1.2166608502676517  0.0                  -1.2166608502676517 \n",
      "vertex_energy_fraction                     [0.76124328]         [0.18349352]         0.0                  -1.7771050733064555  0.0                  -1.7771050733064555 \n",
      "track_0_D0                                 [0.1378084]          [0.15309656]         -7.928940000000001   -20.616540860494     -7.928940000000001   -20.616540860494    \n",
      "track_1_D0                                 [0.03494055]         [0.03600651]         -7.99566             -42.32115237356563   -7.99566             -42.32115237356563  \n",
      "track_2_D0                                 [-0.01843894]        [0.03643681]         -8.00002             -41.81371573734567   -8.00002             -41.81371573734567  \n",
      "track_3_D0                                 [-0.06175692]        [0.05844715]         -8.00068             -32.838242995067475  -8.00068             -32.838242995067475 \n",
      "track_4_D0                                 [-0.10271084]        [0.08990242]         -7.99889             -26.334877884094688  -7.99889             -26.334877884094688 \n",
      "track_5_D0                                 [-0.14304979]        [0.12288559]         -8.00028             -22.413980948067387  -8.00028             -22.413980948067387 \n",
      "track_6_D0                                 [-0.18072193]        [0.15829273]         -7.998550000000001   -19.649686856968817  -7.998550000000001   -19.649686856968817 \n",
      "track_7_D0                                 [-0.21590909]        [0.19540329]         -7.99824             -17.60531318464962   -7.99824             -17.60531318464962  \n",
      "track_8_D0                                 [-0.24521049]        [0.23281524]         -7.99864             -16.06897379809873   -7.99864             -16.06897379809873  \n",
      "track_9_D0                                 [-0.26482207]        [0.26189952]         -7.9905800000000005  -15.096412035672637  -7.9905800000000005  -15.096412035672637 \n",
      "track_10_D0                                [-0.2786106]         [0.28211529]         -7.99995             -14.537151852304783  -7.99995             -14.537151852304783 \n",
      "track_11_D0                                [-0.28863392]        [0.32253414]         -7.99645             -13.571989055050267  -7.99645             -13.571989055050267 \n",
      "track_12_D0                                [-0.28900972]        [0.33845494]         -7.966360000000001   -13.196565876005279  -7.966360000000001   -13.196565876005279 \n",
      "track_13_D0                                [-0.27700754]        [0.33595789]         -7.956770000000001   -13.249679292898177  -7.956770000000001   -13.249679292898177 \n",
      "track_14_D0                                [-0.2588996]         [0.31783396]         -7.823110000000001   -13.417248104035865  -7.823110000000001   -13.417248104035865 \n",
      "track_15_D0                                [-0.23574681]        [0.29059914]         -7.52836             -13.528075346849262  -7.52836             -13.528075346849262 \n",
      "track_16_D0                                [-0.22876017]        [0.26208041]         -6.9272100000000005  -13.084496922881694  -6.9272100000000005  -13.084496922881694 \n",
      "track_17_D0                                [-0.2323749]         [0.35979772]         -7.838850000000001   -12.681021721915261  -7.838850000000001   -12.681021721915261 \n",
      "track_18_D0                                [-0.26744147]        [0.47816637]         -7.48724             -10.440842933569689  -7.48724             -10.440842933569689 \n",
      "track_19_D0                                [-0.26676004]        [0.474206]           -6.32985             -8.80461743476522    -6.32985             -8.80461743476522   \n",
      "track_20_D0                                [-0.30395814]        [0.64116798]         -7.59835             -9.10968117095946    -7.59835             -9.10968117095946   \n",
      "track_21_D0                                [-0.21709106]        [0.28706668]         -4.929               -8.794385480500576   -4.929               -8.794385480500576  \n",
      "track_22_D0                                [-0.33850455]        [1.05790999]         -7.3820500000000004  -6.848050614067407   -7.3820500000000004  -6.848050614067407  \n",
      "track_23_D0                                [-0.17220353]        [0.09993769]         -1.6915399999999998  -4.80606125557777    -1.6915399999999998  -4.80606125557777   \n",
      "track_24_D0                                [-0.19871663]        [0.16601503]         -1.9451699999999998  -4.286307126255523   -1.9451699999999998  -4.286307126255523  \n",
      "track_25_D0                                [-0.23075963]        [0.17708681]         -1.3640999999999999  -2.693191572802376   -1.3640999999999999  -2.693191572802376  \n",
      "track_26_D0                                [-0.51214178]        [2.44189573]         -5.92515             -3.4639780308736556  -5.92515             -3.4639780308736556 \n",
      "track_27_D0                                [-0.0556244]         [0.00018089]         -0.0848711           -2.1745445038094964  -0.0848711           -2.1745445038094964 \n",
      "track_28_D0                                [-0.05890052]        [0.00012585]         -0.0754234           -1.4728401962067772  -0.0754234           -1.4728401962067772 \n",
      "track_29_D0                                [-0.06286424]        [0.00010554]         -0.0756253           -1.2421579673830967  -0.0756253           -1.2421579673830967 \n",
      "track_30_D0                                [-0.12281446]        [0.00470916]         -0.208399            -1.2471645403533531  -0.208399            -1.2471645403533531 \n",
      "track_31_D0                                [-0.30688183]        [0.06648153]         -0.661398            -1.374945667772524   -0.661398            -1.374945667772524  \n",
      "track_32_D0                                [-0.344903]          [0.]                 -0.345903            -0.0010000000000000009 -0.345903            -0.0010000000000000009\n",
      "track_0_Z0                                 [0.00251949]         [1.76225783]         -393.905             -296.728695284057    -393.905             -296.728695284057   \n",
      "track_1_Z0                                 [0.00140414]         [0.65073068]         -185.666             -230.16274251881634  -185.666             -230.16274251881634 \n",
      "track_2_Z0                                 [-0.00058693]        [0.67582572]         -253.084             -307.85507978069734  -253.084             -307.85507978069734 \n",
      "track_3_Z0                                 [-0.00116323]        [0.84732411]         -237.929             -258.47614913529304  -237.929             -258.47614913529304 \n",
      "track_4_Z0                                 [-0.00174962]        [1.07757695]         -209.216             -201.54272068175197  -209.216             -201.54272068175197 \n",
      "track_5_Z0                                 [-0.00286134]        [1.23904502]         -272.433             -244.74374911252693  -272.433             -244.74374911252693 \n",
      "track_6_Z0                                 [-0.00174156]        [1.37654301]         -214.422             -182.7556961337386   -214.422             -182.7556961337386  \n",
      "track_7_Z0                                 [-0.00163946]        [1.7477366]          -282.325             -213.5545476152173   -282.325             -213.5545476152173  \n",
      "track_8_Z0                                 [-0.00414898]        [1.36922285]         -108.552             -92.76500253969687   -108.552             -92.76500253969687  \n",
      "track_9_Z0                                 [-0.00260334]        [1.62762517]         -184.001             -144.22376854879798  -184.001             -144.22376854879798 \n",
      "track_10_Z0                                [-0.0105851]         [1.16435056]         -238.853             -221.3449279059164   -238.853             -221.3449279059164  \n",
      "track_11_Z0                                [-0.00176569]        [1.33479439]         -119.194             -103.16699350408406  -119.194             -103.16699350408406 \n",
      "track_12_Z0                                [-0.01797523]        [1.338007]           -64.4829             -55.73067290034661   -64.4829             -55.73067290034661  \n",
      "track_13_Z0                                [-0.01612821]        [1.80817117]         -43.711099999999995  -32.49463728471899   -43.711099999999995  -32.49463728471899  \n",
      "track_14_Z0                                [-0.02725489]        [1.42115819]         -37.5466             -31.472702664027064  -37.5466             -31.472702664027064 \n",
      "track_15_Z0                                [-0.03783679]        [1.29494188]         -39.913999999999994  -35.041946783629975  -39.913999999999994  -35.041946783629975 \n",
      "track_16_Z0                                [0.02029476]         [1.01675841]         -10.6784             -10.610159444840344  -10.6784             -10.610159444840344 \n",
      "track_17_Z0                                [0.03390243]         [1.11646693]         -7.30346             -6.944117156388858   -7.30346             -6.944117156388858  \n",
      "track_18_Z0                                [0.08943007]         [0.62222016]         -4.48339             -5.797117101080561   -4.48339             -5.797117101080561  \n",
      "track_19_Z0                                [0.03063565]         [1.01951701]         -4.303800000000001   -4.292747268644586   -4.303800000000001   -4.292747268644586  \n",
      "track_20_Z0                                [0.16871111]         [2.47644944]         -10.2609             -6.62755563731932    -10.2609             -6.62755563731932   \n",
      "track_21_Z0                                [0.11047646]         [0.70710113]         -12.5885             -15.101773505684795  -12.5885             -15.101773505684795 \n",
      "track_22_Z0                                [-0.05172213]        [0.50095521]         -2.43424             -3.3661751933550055  -2.43424             -3.3661751933550055 \n",
      "track_23_Z0                                [-0.1033913]         [0.56255373]         -4.06587             -5.283052604578433   -4.06587             -5.283052604578433  \n",
      "track_24_Z0                                [-0.02079027]        [0.05044713]         -0.462438            -1.9663361350619155  -0.462438            -1.9663361350619155 \n",
      "track_25_Z0                                [0.07887822]         [0.06202155]         -1.3088399999999998  -5.572242319798094   -1.3088399999999998  -5.572242319798094  \n",
      "track_26_Z0                                [-0.00339288]        [0.0501923]          -0.612063            -2.7168361110276367  -0.612063            -2.7168361110276367 \n",
      "track_27_Z0                                [-0.01280917]        [0.01312964]         -0.265787            -2.2077816869273357  -0.265787            -2.2077816869273357 \n",
      "track_28_Z0                                [0.09531277]         [0.04928503]         -0.22881100000000001 -1.4600016639898046  -0.22881100000000001 -1.4600016639898046 \n",
      "track_29_Z0                                [-0.2150373]         [0.17195053]         -1.0130199999999998  -1.9243839034773265  -1.0130199999999998  -1.9243839034773265 \n",
      "track_30_Z0                                [0.13424602]         [0.0751424]          -0.275441            -1.494547278250296   -0.275441            -1.494547278250296  \n",
      "track_31_Z0                                [0.79622733]         [0.3160078]          0.024281999999999998 -1.373212182759931   0.024281999999999998 -1.373212182759931  \n",
      "track_32_Z0                                [-0.308003]          [0.]                 -0.309003            -0.0010000000000000009 -0.309003            -0.0010000000000000009\n",
      "track_0_PHI                                [0.03469314]         [0.01755017]         -0.400934            -3.2883214390701188  -0.400934            -3.2883214390701188 \n",
      "track_1_PHI                                [0.0111098]          [0.01625137]         -0.400985            -3.232601723095566   -0.400985            -3.232601723095566  \n",
      "track_2_PHI                                [-0.00411591]        [0.01674783]         -0.400956            -3.066453059721374   -0.400956            -3.066453059721374  \n",
      "track_3_PHI                                [-0.0165575]         [0.01738739]         -0.400959            -2.9151970116977712  -0.400959            -2.9151970116977712 \n",
      "track_4_PHI                                [-0.02836764]        [0.0177725]          -0.400948            -2.7947673089702096  -0.400948            -2.7947673089702096 \n",
      "track_5_PHI                                [-0.03969286]        [0.01787508]         -0.40093             -2.7018944497303043  -0.40093             -2.7018944497303043 \n",
      "track_6_PHI                                [-0.04923116]        [0.01775306]         -0.400828            -2.6388112153323124  -0.400828            -2.6388112153323124 \n",
      "track_7_PHI                                [-0.05691174]        [0.01758087]         -0.400824            -2.5937460033945348  -0.400824            -2.5937460033945348 \n",
      "track_8_PHI                                [-0.06155774]        [0.0174112]          -0.400913            -2.5718182816791058  -0.400913            -2.5718182816791058 \n",
      "track_9_PHI                                [-0.06287487]        [0.01721225]         -0.400926            -2.5766981095396244  -0.400926            -2.5766981095396244 \n",
      "track_10_PHI                               [-0.06197995]        [0.01712889]         -0.400541            -2.5868569462618822  -0.400541            -2.5868569462618822 \n",
      "track_11_PHI                               [-0.05911242]        [0.01739727]         -0.400291            -2.5866711153088566  -0.400291            -2.5866711153088566 \n",
      "track_12_PHI                               [-0.05526916]        [0.0175282]          -0.400238            -2.60562103117116    -0.400238            -2.60562103117116   \n",
      "track_13_PHI                               [-0.05231415]        [0.01753839]         -0.397917            -2.609651053388683   -0.397917            -2.609651053388683  \n",
      "track_14_PHI                               [-0.04421246]        [0.01909187]         -0.399698            -2.5727509427772333  -0.399698            -2.5727509427772333 \n",
      "track_15_PHI                               [-0.03396602]        [0.01846447]         -0.394716            -2.6548370234799337  -0.394716            -2.6548370234799337 \n",
      "track_16_PHI                               [-0.034175]          [0.01809943]         -0.400429            -2.72238750841249    -0.400429            -2.72238750841249   \n",
      "track_17_PHI                               [-0.03891542]        [0.01923436]         -0.40001             -2.60364725340884    -0.40001             -2.60364725340884   \n",
      "track_18_PHI                               [-0.02923776]        [0.01716724]         -0.378427            -2.6650819271601143  -0.378427            -2.6650819271601143 \n",
      "track_19_PHI                               [-0.02148531]        [0.02012079]         -0.381584            -2.538627499677635   -0.381584            -2.538627499677635  \n",
      "track_20_PHI                               [-0.02530647]        [0.0231103]          -0.369215            -2.2622475568815363  -0.369215            -2.2622475568815363 \n",
      "track_21_PHI                               [-0.04179669]        [0.0173725]          -0.378352            -2.5534379295461034  -0.378352            -2.5534379295461034 \n",
      "track_22_PHI                               [-0.00896995]        [0.01786039]         -0.28095             -2.0351274852293075  -0.28095             -2.0351274852293075 \n",
      "track_23_PHI                               [-0.02001944]        [0.02494867]         -0.288062            -1.696992975885169   -0.288062            -1.696992975885169  \n",
      "track_24_PHI                               [-0.0003205]         [0.03465733]         -0.308442            -1.6551008705766257  -0.308442            -1.6551008705766257 \n",
      "track_25_PHI                               [-0.0305018]         [0.02096777]         -0.315467            -1.9679576696095482  -0.315467            -1.9679576696095482 \n",
      "track_26_PHI                               [-0.16669058]        [0.01350033]         -0.335762            -1.4551171407504437  -0.335762            -1.4551171407504437 \n",
      "track_27_PHI                               [-0.06281324]        [0.03238798]         -0.346167            -1.5744796432686141  -0.346167            -1.5744796432686141 \n",
      "track_28_PHI                               [0.08087853]         [0.02313022]         -0.156648            -1.5617887583554866  -0.156648            -1.5617887583554866 \n",
      "track_29_PHI                               [-0.08043916]        [0.0208859]          -0.264112            -1.27092047355316    -0.264112            -1.27092047355316   \n",
      "track_30_PHI                               [-0.04632652]        [0.02132273]         -0.291988            -1.6823473672341798  -0.291988            -1.6823473672341798 \n",
      "track_31_PHI                               [-0.17922677]        [0.02536111]         -0.369777            -1.1965349152045492  -0.369777            -1.1965349152045492 \n",
      "track_32_PHI                               [0.0072896]          [0.]                 0.0062896            -0.001               0.0062896            -0.001              \n",
      "track_0_THETA                              [6.53551433e-06]     [0.0065327]          -0.397828            -4.9221644281404275  -0.397828            -4.9221644281404275 \n",
      "track_1_THETA                              [3.12862074e-05]     [0.00690386]         -0.398026            -4.790707990677334   -0.398026            -4.790707990677334  \n",
      "track_2_THETA                              [-3.64958494e-06]    [0.00740586]         -0.397841            -4.622934204585433   -0.397841            -4.622934204585433  \n",
      "track_3_THETA                              [-4.28869455e-05]    [0.00786847]         -0.397209            -4.477410705097363   -0.397209            -4.477410705097363  \n",
      "track_4_THETA                              [-6.96565326e-06]    [0.00824255]         -0.39752             -4.378452402412821   -0.39752             -4.378452402412821  \n",
      "track_5_THETA                              [0.00013024]         [0.00849994]         -0.396707            -4.304320484349556   -0.396707            -4.304320484349556  \n",
      "track_6_THETA                              [0.00012134]         [0.00864302]         -0.39572             -4.257829512947654   -0.39572             -4.257829512947654  \n",
      "track_7_THETA                              [0.0001294]          [0.00877372]         -0.396413            -4.2334825998630174  -0.396413            -4.2334825998630174 \n",
      "track_8_THETA                              [-4.97362992e-05]    [0.0088451]          -0.396253            -4.2127585218270704  -0.396253            -4.2127585218270704 \n",
      "track_9_THETA                              [0.00043137]         [0.00889915]         -0.395414            -4.1961533559784145  -0.395414            -4.1961533559784145 \n",
      "track_10_THETA                             [-0.00013733]        [0.00894177]         -0.394643            -4.171972671421553   -0.394643            -4.171972671421553  \n",
      "track_11_THETA                             [0.0006222]          [0.00909498]         -0.391349            -4.11010759287626    -0.391349            -4.11010759287626   \n",
      "track_12_THETA                             [4.47778382e-05]     [0.00911454]         -0.393818            -4.12550837346061    -0.393818            -4.12550837346061   \n",
      "track_13_THETA                             [-0.00078602]        [0.00936008]         -0.386795            -3.989860689324075   -0.386795            -3.989860689324075  \n",
      "track_14_THETA                             [0.00155513]         [0.0099888]          -0.385316            -3.8708792049840683  -0.385316            -3.8708792049840683 \n",
      "track_15_THETA                             [-0.00027366]        [0.00997365]         -0.365933            -3.661419789421598   -0.365933            -3.661419789421598  \n",
      "track_16_THETA                             [0.00061885]         [0.00988204]         -0.385975            -3.8889433140957945  -0.385975            -3.8889433140957945 \n",
      "track_17_THETA                             [0.0017773]          [0.0095705]          -0.381062            -3.9133548898737267  -0.381062            -3.9133548898737267 \n",
      "track_18_THETA                             [-0.00084375]        [0.01026973]         -0.35953             -3.5394453595668596  -0.35953             -3.5394453595668596 \n",
      "track_19_THETA                             [-0.0060483]         [0.01071952]         -0.362057            -3.4385304818805924  -0.362057            -3.4385304818805924 \n",
      "track_20_THETA                             [0.00159043]         [0.0085776]          -0.29259             -3.1763690906230364  -0.29259             -3.1763690906230364 \n",
      "track_21_THETA                             [0.00536381]         [0.00867603]         -0.345403            -3.7658068586584617  -0.345403            -3.7658068586584617 \n",
      "track_22_THETA                             [-0.00015408]        [0.01155173]         -0.288692            -2.6845984749555387  -0.288692            -2.6845984749555387 \n",
      "track_23_THETA                             [-0.00056401]        [0.0071744]          -0.255043            -3.004409924772952   -0.255043            -3.004409924772952  \n",
      "track_24_THETA                             [0.02725372]         [0.005569]           -0.112277            -1.869740514203888   -0.112277            -1.869740514203888  \n",
      "track_25_THETA                             [-0.00612569]        [0.01120616]         -0.201287            -1.8435940617822828  -0.201287            -1.8435940617822828 \n",
      "track_26_THETA                             [-0.00063892]        [0.01010169]         -0.208211            -2.0652461658967396  -0.208211            -2.0652461658967396 \n",
      "track_27_THETA                             [-0.00308534]        [0.0092143]          -0.18987300000000001 -1.9458845984111586  -0.18987300000000001 -1.9458845984111586 \n",
      "track_28_THETA                             [-0.00800208]        [0.00570948]         -0.1202              -1.484863830600567   -0.1202              -1.484863830600567  \n",
      "track_29_THETA                             [-0.03998942]        [0.00651776]         -0.18233             -1.763110573209861   -0.18233             -1.763110573209861  \n",
      "track_30_THETA                             [0.00778141]         [0.00080296]         -0.0410735           -1.7240903430249774  -0.0410735           -1.7240903430249774 \n",
      "track_31_THETA                             [0.01899147]         [0.00232235]         -0.0387092           -1.1973375537818916  -0.0387092           -1.1973375537818916 \n",
      "track_32_THETA                             [0.0147951]          [0.]                 0.013795100000000001 -0.0009999999999999992 0.013795100000000001 -0.0009999999999999992\n",
      "track_0_QOVERP                             [0.00435376]         [0.16587014]         -2.00089             -4.923603520253546   -2.00089             -4.923603520253546  \n",
      "track_1_QOVERP                             [0.00161233]         [0.17246621]         -2.00089             -4.821931327526052   -2.00089             -4.821931327526052  \n",
      "track_2_QOVERP                             [-0.00043659]        [0.18730548]         -2.00061             -4.621600523596956   -2.00061             -4.621600523596956  \n",
      "track_3_QOVERP                             [-0.00216366]        [0.20171503]         -2.00039             -4.449134629741278   -2.00039             -4.449134629741278  \n",
      "track_4_QOVERP                             [-0.00363485]        [0.21465395]         -2.00067             -4.31038698512583    -2.00067             -4.31038698512583   \n",
      "track_5_QOVERP                             [-0.00509431]        [0.22752131]         -1.99867             -4.179474605162612   -1.99867             -4.179474605162612  \n",
      "track_6_QOVERP                             [-0.00592283]        [0.23937143]         -2.00006             -4.075856384211294   -2.00006             -4.075856384211294  \n",
      "track_7_QOVERP                             [-0.00638263]        [0.2506648]          -1.99819             -3.9783286428601157  -1.99819             -3.9783286428601157 \n",
      "track_8_QOVERP                             [-0.00475604]        [0.26031178]         -1.99939             -3.9094557471613407  -1.99939             -3.9094557471613407 \n",
      "track_9_QOVERP                             [-0.00443288]        [0.26331581]         -1.9971299999999998  -3.883316853545133   -1.9971299999999998  -3.883316853545133  \n",
      "track_10_QOVERP                            [-0.00339967]        [0.26384268]         -1.99138             -3.870254818735188   -1.99138             -3.870254818735188  \n",
      "track_11_QOVERP                            [-0.00453568]        [0.25938977]         -1.99043             -3.8992377171969173  -1.99043             -3.8992377171969173 \n",
      "track_12_QOVERP                            [-0.0011194]         [0.25428367]         -1.99227             -3.9486157429213775  -1.99227             -3.9486157429213775 \n",
      "track_13_QOVERP                            [-0.0041073]         [0.24660341]         -1.94837             -3.91521314226118    -1.94837             -3.91521314226118   \n",
      "track_14_QOVERP                            [0.00201093]         [0.24111649]         -1.94461             -3.9643129299716646  -1.94461             -3.9643129299716646 \n",
      "track_15_QOVERP                            [0.00180369]         [0.2296356]          -1.9286899999999998  -4.028550190898801   -1.9286899999999998  -4.028550190898801  \n",
      "track_16_QOVERP                            [-0.00427118]        [0.2136224]          -1.9061599999999999  -4.114923132825066   -1.9061599999999999  -4.114923132825066  \n",
      "track_17_QOVERP                            [0.01552684]         [0.20555717]         -1.86673             -4.151571926837076   -1.86673             -4.151571926837076  \n",
      "track_18_QOVERP                            [0.0313421]          [0.19559911]         -1.7270299999999998  -3.975825755083748   -1.7270299999999998  -3.975825755083748  \n",
      "track_19_QOVERP                            [-0.03165964]        [0.22546166]         -1.81724             -3.7604779553442143  -1.81724             -3.7604779553442143 \n",
      "track_20_QOVERP                            [-0.01241772]        [0.18163971]         -1.46328             -3.4042448848815603  -1.46328             -3.4042448848815603 \n",
      "track_21_QOVERP                            [-0.04347687]        [0.18602327]         -1.61157             -3.635701449589754   -1.61157             -3.635701449589754  \n",
      "track_22_QOVERP                            [0.04546665]         [0.12455071]         -0.929232            -2.7618320209408336  -0.929232            -2.7618320209408336 \n",
      "track_23_QOVERP                            [0.03773094]         [0.08778231]         -1.0229              -3.5798167488443307  -1.0229              -3.5798167488443307 \n",
      "track_24_QOVERP                            [-0.0716162]         [0.20815762]         -0.997963            -2.030380585348112   -0.997963            -2.030380585348112  \n",
      "track_25_QOVERP                            [0.13178491]         [0.1226517]          -0.63814             -2.198424653781651   -0.63814             -2.198424653781651  \n",
      "track_26_QOVERP                            [0.06614918]         [0.24624175]         -0.512191            -1.16547382024183    -0.512191            -1.16547382024183   \n",
      "track_27_QOVERP                            [0.08970909]         [0.02012142]         -0.314327            -2.848333692293779   -0.314327            -2.848333692293779  \n",
      "track_28_QOVERP                            [-0.08577848]        [0.20311614]         -0.936306            -1.887192284502129   -0.936306            -1.887192284502129  \n",
      "track_29_QOVERP                            [-0.114992]          [0.01500006]         -0.303546            -1.5395338149000863  -0.303546            -1.5395338149000863 \n",
      "track_30_QOVERP                            [-0.00061748]        [0.02248476]         -0.235573            -1.5669008877721462  -0.235573            -1.5669008877721462 \n",
      "track_31_QOVERP                            [-0.05432067]        [0.04166291]         -0.252692            -0.9718608777844489  -0.252692            -0.9718608777844489 \n",
      "track_32_QOVERP                            [0.066167]           [0.]                 0.065167             -0.0010000000000000009 0.065167             -0.0010000000000000009\n",
      "track_0_D0D0                               [0.00118073]         [4.83226613e-07]     0.0                  -1.6985339068265932  0.0                  -1.6985339068265932 \n",
      "track_1_D0D0                               [0.00121383]         [4.76303562e-07]     0.0                  -1.7588050832485722  0.0                  -1.7588050832485722 \n",
      "track_2_D0D0                               [0.00124964]         [4.71788869e-07]     0.0                  -1.8193334292314314  0.0                  -1.8193334292314314 \n",
      "track_3_D0D0                               [0.00128553]         [4.67715265e-07]     0.0                  -1.8797067359552004  0.0                  -1.8797067359552004 \n",
      "track_4_D0D0                               [0.00131986]         [4.63647305e-07]     0.0                  -1.938351617311053   0.0                  -1.938351617311053  \n",
      "track_5_D0D0                               [0.00135235]         [4.60376292e-07]     0.0                  -1.9931234717090796  0.0                  -1.9931234717090796 \n",
      "track_6_D0D0                               [0.00138317]         [4.57047857e-07]     0.0                  -2.045944759607121   0.0                  -2.045944759607121  \n",
      "track_7_D0D0                               [0.00141155]         [4.54506925e-07]     0.0                  -2.0937546892917442  0.0                  -2.0937546892917442 \n",
      "track_8_D0D0                               [0.00143545]         [4.54932748e-07]     0.0                  -2.128210716232882   0.0                  -2.128210716232882  \n",
      "track_9_D0D0                               [0.00145281]         [4.55454318e-07]     0.0                  -2.152715436410346   0.0                  -2.152715436410346  \n",
      "track_10_D0D0                              [0.0014682]          [4.58366426e-07]     0.0                  -2.1685904218904954  0.0                  -2.1685904218904954 \n",
      "track_11_D0D0                              [0.00147404]         [4.62295922e-07]     0.0                  -2.1679449449180956  0.0                  -2.1679449449180956 \n",
      "track_12_D0D0                              [0.00147154]         [4.70630998e-07]     0.0                  -2.1450186142647234  0.0                  -2.1450186142647234 \n",
      "track_13_D0D0                              [0.00146121]         [4.8191398e-07]      0.0                  -2.104877636154444   0.0                  -2.104877636154444  \n",
      "track_14_D0D0                              [0.00146134]         [4.92698361e-07]     0.0                  -2.0819000651995454  0.0                  -2.0819000651995454 \n",
      "track_15_D0D0                              [0.0014682]          [5.00649985e-07]     0.0                  -2.0749955423773314  0.0                  -2.0749955423773314 \n",
      "track_16_D0D0                              [0.00145271]         [4.88357365e-07]     0.0                  -2.078790362575918   0.0                  -2.078790362575918  \n",
      "track_17_D0D0                              [0.00144488]         [4.92760912e-07]     0.0                  -2.058329239434863   0.0                  -2.058329239434863  \n",
      "track_18_D0D0                              [0.0014036]          [5.23577219e-07]     0.0                  -1.9397770731663206  0.0                  -1.9397770731663206 \n",
      "track_19_D0D0                              [0.00139917]         [5.24740534e-07]     0.0                  -1.9315091263426944  0.0                  -1.9315091263426944 \n",
      "track_20_D0D0                              [0.00141793]         [5.37473019e-07]     0.0                  -1.9340916282903882  0.0                  -1.9340916282903882 \n",
      "track_21_D0D0                              [0.00119317]         [5.02428705e-07]     0.0                  -1.683309312815739   0.0                  -1.683309312815739  \n",
      "track_22_D0D0                              [0.00133797]         [4.98436905e-07]     0.0                  -1.895133099731238   0.0                  -1.895133099731238  \n",
      "track_23_D0D0                              [0.00125976]         [4.79939681e-07]     0.0                  -1.8184239601282055  0.0                  -1.8184239601282055 \n",
      "track_24_D0D0                              [0.00115983]         [3.29359483e-07]     0.0                  -2.02096610500297    0.0                  -2.02096610500297   \n",
      "track_25_D0D0                              [0.00120248]         [2.93488713e-07]     0.0                  -2.2196374888054526  0.0                  -2.2196374888054526 \n",
      "track_26_D0D0                              [0.00123886]         [1.80249132e-07]     0.0                  -2.9180014592987655  0.0                  -2.9180014592987655 \n",
      "track_27_D0D0                              [0.00118566]         [8.89825904e-08]     0.0                  -3.9747155969647645  0.0                  -3.9747155969647645 \n",
      "track_28_D0D0                              [0.00133363]         [2.64181048e-07]     0.0                  -2.5946908043531813  0.0                  -2.5946908043531813 \n",
      "track_29_D0D0                              [0.00135173]         [3.357928e-07]       0.0                  -2.332669973200035   0.0                  -2.332669973200035  \n",
      "track_30_D0D0                              [0.00135073]         [3.15263071e-07]     0.0                  -2.4056510868303085  0.0                  -2.4056510868303085 \n",
      "track_31_D0D0                              [0.00109302]         [1.20311072e-08]     0.0                  -9.964954280202681   0.0                  -9.964954280202681  \n",
      "track_32_D0D0                              [0.00031204]         [0.]                 0.0                  -0.000312036         0.0                  -0.000312036        \n",
      "track_0_Z0D0                               [0.00021285]         [6.68500823e-08]     -3.5540399999999996e-05 -0.9606757337824089  -0.0010345404        -4.824474639312702  \n",
      "track_1_Z0D0                               [0.00022111]         [6.80657387e-08]     -3.5540399999999996e-05 -0.9837171046207359  -0.0010345404        -4.812856768991256  \n",
      "track_2_Z0D0                               [0.00023161]         [6.91757709e-08]     -3.5540399999999996e-05 -1.015717284208105   -0.0010345404        -4.814010469725223  \n",
      "track_3_Z0D0                               [0.000243]           [7.00582065e-08]     -3.5540399999999996e-05 -1.0523408698501129  -0.0010345404        -4.8266370770295355 \n",
      "track_4_Z0D0                               [0.00025457]         [7.06221139e-08]     -3.5540399999999996e-05 -1.091670881610078   -0.0010345404        -4.85086828118686   \n",
      "track_5_Z0D0                               [0.00026613]         [7.10003486e-08]     -3.5540399999999996e-05 -1.132134147352488   -0.0010345404        -4.881305134977302  \n",
      "track_6_Z0D0                               [0.00027754]         [7.11693438e-08]     -3.5540399999999996e-05 -1.173556550495715   -0.0010345404        -4.918273594462486  \n",
      "track_7_Z0D0                               [0.00028853]         [7.11578453e-08]     -3.5540399999999996e-05 -1.2148561540063083  -0.0010345404        -4.959875743926814  \n",
      "track_8_Z0D0                               [0.0002982]          [7.12337243e-08]     -3.5540399999999996e-05 -1.2504315921109033  -0.0010345404        -4.993456029679312  \n",
      "track_9_Z0D0                               [0.00030602]         [7.08656771e-08]     -3.5540399999999996e-05 -1.2830704499676155  -0.0010345404        -5.035802166230072  \n",
      "track_10_Z0D0                              [0.00031339]         [7.06430662e-08]     -3.5540399999999996e-05 -1.3128236345022641  -0.0010345404        -5.071463517105188  \n",
      "track_11_Z0D0                              [0.00031771]         [7.00435772e-08]     -3.5540399999999996e-05 -1.3347411901753574  -0.0010345404        -5.109431525866584  \n",
      "track_12_Z0D0                              [0.00031896]         [6.98563204e-08]     -3.5540399999999996e-05 -1.341268801676936   -0.0010345404        -5.12101496759364   \n",
      "track_13_Z0D0                              [0.00031753]         [6.97973572e-08]     -3.5540399999999996e-05 -1.3364351429418815  -0.0010345404        -5.1177774948975685 \n",
      "track_14_Z0D0                              [0.00032036]         [6.95809477e-08]     -3.5540399999999996e-05 -1.349240149236565   -0.0010345404        -5.136458269075419  \n",
      "track_15_Z0D0                              [0.0003257]          [6.95243044e-08]     -3.5540399999999996e-05 -1.3700364714399387  -0.0010345404        -5.158797051788081  \n",
      "track_16_Z0D0                              [0.00032163]         [6.73314207e-08]     -3.5540399999999996e-05 -1.3764776634549791  -0.0010345404        -5.22644104746516   \n",
      "track_17_Z0D0                              [0.00031645]         [6.87016417e-08]     -3.5540399999999996e-05 -1.3429207998238633  -0.0010345404        -5.154297991921321  \n",
      "track_18_Z0D0                              [0.00030855]         [6.84485127e-08]     -3.5540399999999996e-05 -1.3151975073378446  -0.0010345404        -5.133615609960969  \n",
      "track_19_Z0D0                              [0.00030173]         [7.02148439e-08]     -3.5540399999999996e-05 -1.2728222382463708  -0.0010345404        -5.042906187160688  \n",
      "track_20_Z0D0                              [0.00030454]         [7.27666543e-08]     -3.5540399999999996e-05 -1.2607175390645011  -0.0010345404        -4.964106132683598  \n",
      "track_21_Z0D0                              [0.0002438]          [5.71624456e-08]     -3.5540399999999996e-05 -1.1683498745796994  -0.0010345404        -5.346750595026244  \n",
      "track_22_Z0D0                              [0.00026807]         [6.91304766e-08]     -3.5540399999999996e-05 -1.1547378202495628  -0.0010345404        -4.954275122602096  \n",
      "track_23_Z0D0                              [0.00025924]         [5.92825044e-08]     -3.5540399999999996e-05 -1.2107140038908804  -0.0010345404        -5.313720617126199  \n",
      "track_24_Z0D0                              [0.00020165]         [4.21262549e-08]     -3.5540399999999996e-05 -1.1556525988712358  -0.0010345404        -6.022963218594954  \n",
      "track_25_Z0D0                              [0.00022884]         [3.79062486e-08]     -3.5540399999999996e-05 -1.357936622694446   -0.0010345404        -6.489031969531253  \n",
      "track_26_Z0D0                              [0.00018132]         [3.75869836e-08]     5.0479700000000004e-05 -0.6748870059450806  -0.0009485203        -5.827728114331441  \n",
      "track_27_Z0D0                              [0.00016811]         [1.95669711e-08]     -3.06042e-06         -1.223647051973427   -0.00100206042       -8.365381319691572  \n",
      "track_28_Z0D0                              [0.00020573]         [5.18067125e-08]     1.5015499999999999e-05 -0.8378856213965115  -0.0009839845        -5.226955254315461  \n",
      "track_29_Z0D0                              [0.00023154]         [5.8232408e-08]      5.0479700000000004e-05 -0.7503266285602764  -0.0009485203        -4.890162408032802  \n",
      "track_30_Z0D0                              [0.00021302]         [6.18485711e-08]     6.306210000000001e-05 -0.6030001653929444  -0.0009359379000000001 -4.619989263374275  \n",
      "track_31_Z0D0                              [9.91220667e-05]     [2.45840253e-09]     6.306210000000001e-05 -0.7272752767219081  -0.0009359379000000001 -20.875602316546846 \n",
      "track_32_Z0D0                              [4.23105e-05]        [0.]                 4.1310500000000004e-05 -9.999999999999972e-07 -0.0009576895        -0.001              \n",
      "track_0_Z0Z0                               [0.05652316]         [0.00562684]         0.0                  -0.7535190394816403  0.0                  -0.7535190394816403 \n",
      "track_1_Z0Z0                               [0.05837651]         [0.00579902]         0.0                  -0.7665858545000909  0.0                  -0.7665858545000909 \n",
      "track_2_Z0Z0                               [0.06056309]         [0.00599865]         0.0                  -0.7819538374021967  0.0                  -0.7819538374021967 \n",
      "track_3_Z0Z0                               [0.06288945]         [0.00619981]         0.0                  -0.7987092916315645  0.0                  -0.7987092916315645 \n",
      "track_4_Z0Z0                               [0.06524864]         [0.00638899]         0.0                  -0.8163103999184352  0.0                  -0.8163103999184352 \n",
      "track_5_Z0Z0                               [0.06766939]         [0.00657232]         0.0                  -0.8347048924372931  0.0                  -0.8347048924372931 \n",
      "track_6_Z0Z0                               [0.07009187]         [0.00673818]         0.0                  -0.8538789894272167  0.0                  -0.8538789894272167 \n",
      "track_7_Z0Z0                               [0.07245983]         [0.00688824]         0.0                  -0.8730581867108603  0.0                  -0.8730581867108603 \n",
      "track_8_Z0Z0                               [0.07474305]         [0.00704424]         0.0                  -0.8905403248658594  0.0                  -0.8905403248658594 \n",
      "track_9_Z0Z0                               [0.07644237]         [0.00713186]         0.0                  -0.9051751577660835  0.0                  -0.9051751577660835 \n",
      "track_10_Z0Z0                              [0.07810346]         [0.00722092]         0.0                  -0.9191239769662755  0.0                  -0.9191239769662755 \n",
      "track_11_Z0Z0                              [0.07897352]         [0.00725047]         0.0                  -0.9274667516737177  0.0                  -0.9274667516737177 \n",
      "track_12_Z0Z0                              [0.07927905]         [0.00727959]         0.0                  -0.9291911524617539  0.0                  -0.9291911524617539 \n",
      "track_13_Z0Z0                              [0.07883844]         [0.00726794]         0.0                  -0.9247670529402173  0.0                  -0.9247670529402173 \n",
      "track_14_Z0Z0                              [0.07944881]         [0.00730697]         0.0                  -0.9294341984890496  0.0                  -0.9294341984890496 \n",
      "track_15_Z0Z0                              [0.08106842]         [0.00736695]         0.0                  -0.9445126064646922  0.0                  -0.9445126064646922 \n",
      "track_16_Z0Z0                              [0.07840011]         [0.00701813]         0.0                  -0.9358491486148273  0.0                  -0.9358491486148273 \n",
      "track_17_Z0Z0                              [0.07848567]         [0.00719638]         0.0                  -0.9251951881834357  0.0                  -0.9251951881834357 \n",
      "track_18_Z0Z0                              [0.07666188]         [0.007065]           0.0                  -0.9120598780676973  0.0                  -0.9120598780676973 \n",
      "track_19_Z0Z0                              [0.07624413]         [0.00735736]         0.0                  -0.8888846164689663  0.0                  -0.8888846164689663 \n",
      "track_20_Z0Z0                              [0.07753763]         [0.00759155]         0.0                  -0.8899128000345014  0.0                  -0.8899128000345014 \n",
      "track_21_Z0Z0                              [0.0580518]          [0.00546933]         0.0                  -0.7849618225921794  0.0                  -0.7849618225921794 \n",
      "track_22_Z0Z0                              [0.06750037]         [0.00673701]         0.0                  -0.8223799191378637  0.0                  -0.8223799191378637 \n",
      "track_23_Z0Z0                              [0.06162769]         [0.00565221]         0.0                  -0.81972234063357    0.0                  -0.81972234063357   \n",
      "track_24_Z0Z0                              [0.04077335]         [0.00310991]         0.0                  -0.7311428779586685  0.0                  -0.7311428779586685 \n",
      "track_25_Z0Z0                              [0.04164774]         [0.00215389]         0.0                  -0.8973872976493739  0.0                  -0.8973872976493739 \n",
      "track_26_Z0Z0                              [0.03779018]         [0.0030958]          0.0                  -0.6791918435153317  0.0                  -0.6791918435153317 \n",
      "track_27_Z0Z0                              [0.0267334]          [0.00033515]         0.0                  -1.4602827626113544  0.0                  -1.4602827626113544 \n",
      "track_28_Z0Z0                              [0.05172603]         [0.0058176]          0.0                  -0.6781679177524945  0.0                  -0.6781679177524945 \n",
      "track_29_Z0Z0                              [0.05854751]         [0.00670947]         0.0                  -0.714766546946517   0.0                  -0.714766546946517  \n",
      "track_30_Z0Z0                              [0.05721016]         [0.00680067]         0.0                  -0.6937411071052274  0.0                  -0.6937411071052274 \n",
      "track_31_Z0Z0                              [0.01695167]         [2.7038697e-05]      0.0                  -3.2600144468335244  0.0                  -3.2600144468335244 \n",
      "track_32_Z0Z0                              [0.00607636]         [0.]                 0.0                  -0.00607636          0.0                  -0.00607636         \n",
      "track_0_PHID0                              [-9.70426349e-06]    [3.72978726e-11]     -2.22598e-05         -2.055858618533551   -0.0010212598000000001 -165.63331773216865 \n",
      "track_1_PHID0                              [-9.94981624e-06]    [3.7305115e-11]      -2.22598e-05         -2.015455847888994   -0.0010212598000000001 -165.57703567690842 \n",
      "track_2_PHID0                              [-1.02360367e-05]    [3.73284821e-11]     -2.22598e-05         -1.9679780706343908  -0.0010212598000000001 -165.47835633270668 \n",
      "track_3_PHID0                              [-1.05337897e-05]    [3.7279978e-11]      -2.22598e-05         -1.9204917580093395  -0.0010212598000000001 -165.53720507805966 \n",
      "track_4_PHID0                              [-1.08289772e-05]    [3.71214964e-11]     -2.22598e-05         -1.8761378865247949  -0.0010212598000000001 -165.84174102020566 \n",
      "track_5_PHID0                              [-1.1117335e-05]     [3.69255951e-11]     -2.22598e-05         -1.8336545798962054  -0.0010212598000000001 -166.23362566048925 \n",
      "track_6_PHID0                              [-1.13945351e-05]    [3.66761575e-11]     -2.22598e-05         -1.7941072691569875  -0.0010212598000000001 -166.75217995549102 \n",
      "track_7_PHID0                              [-1.16553277e-05]    [3.64056184e-11]     -2.22598e-05         -1.7575385270714323  -0.0010212598000000001 -167.32739869371193 \n",
      "track_8_PHID0                              [-1.18840904e-05]    [3.62795459e-11]     -2.22598e-05         -1.7226096922804146  -0.0010212598000000001 -167.5799003291914  \n",
      "track_9_PHID0                              [-1.20612192e-05]    [3.60281639e-11]     -2.22598e-05         -1.6990989632067457  -0.0010212598000000001 -168.13400817566415 \n",
      "track_10_PHID0                             [-1.22157206e-05]    [3.59888386e-11]     -2.22598e-05         -1.674272790679179   -0.0010212598000000001 -168.20008943046608 \n",
      "track_11_PHID0                             [-1.23095395e-05]    [3.57353395e-11]     -2.22598e-05         -1.664506493727951   -0.0010212598000000001 -168.779929271597   \n",
      "track_12_PHID0                             [-1.23220729e-05]    [3.589387e-11]       -2.22598e-05         -1.6587346769988371  -0.0010212598000000001 -168.40470417409097 \n",
      "track_13_PHID0                             [-1.22637748e-05]    [3.62918018e-11]     -2.22598e-05         -1.6592929884171626  -0.0010212598000000001 -167.4885761079763  \n",
      "track_14_PHID0                             [-1.22909447e-05]    [3.67194165e-11]     -2.22598e-05         -1.6451193416744814  -0.0010212598000000001 -166.50599511095996 \n",
      "track_15_PHID0                             [-1.24173713e-05]    [3.66214199e-11]     -2.22598e-05         -1.62642742809774    -0.0010212598000000001 -166.7077345141621  \n",
      "track_16_PHID0                             [-1.22766527e-05]    [3.55045669e-11]     -2.22598e-05         -1.6754264598453734  -0.0010212598000000001 -169.33307813834344 \n",
      "track_17_PHID0                             [-1.22536168e-05]    [3.56170417e-11]     -2.22598e-05         -1.6766388520876108  -0.0010212598000000001 -169.0693585501826  \n",
      "track_18_PHID0                             [-1.19622563e-05]    [3.70664169e-11]     -2.22598e-05         -1.6913883694379948  -0.0010212598000000001 -165.77876998959232 \n",
      "track_19_PHID0                             [-1.19392737e-05]    [3.70551428e-11]     -2.22598e-05         -1.695421154115978   -0.0010212598000000001 -165.80776287773415 \n",
      "track_20_PHID0                             [-1.19148175e-05]    [3.99818126e-11]     -2.22598e-05         -1.6360573384577481  -0.0010212598000000001 -159.62774885725725 \n",
      "track_21_PHID0                             [-1.03298246e-05]    [3.34668404e-11]     -2.22598e-05         -2.06220668754617    -0.0010212598000000001 -174.74860508267653 \n",
      "track_22_PHID0                             [-1.11642264e-05]    [3.74025083e-11]     -2.22598e-05         -1.8142594587137977  -0.0010212598000000001 -165.1627494651375  \n",
      "track_23_PHID0                             [-1.07937314e-05]    [3.22111266e-11]     -2.22598e-05         -2.020280059570275   -0.0010212598000000001 -178.04048846298534 \n",
      "track_24_PHID0                             [-9.478165e-06]      [2.32698214e-11]     -2.22598e-05         -2.6496583925516384  -0.0010212598000000001 -209.74434809062916 \n",
      "track_25_PHID0                             [-9.8125285e-06]     [2.01020551e-11]     -2.22598e-05         -2.7762203504625282  -0.0010212598000000001 -225.59164862420639 \n",
      "track_26_PHID0                             [-9.87446385e-06]    [1.53327734e-11]     -2.22598e-05         -3.162987243238671   -0.0010212598000000001 -258.2892282063617  \n",
      "track_27_PHID0                             [-9.38679e-06]       [7.04535017e-12]     -1.4294300000000001e-05 -1.8488850108649553  -0.0010132943        -378.2181895775576  \n",
      "track_28_PHID0                             [-1.07857617e-05]    [2.28834922e-11]     -2.22598e-05         -2.3985851782257392  -0.0010212598000000001 -211.23409046726857 \n",
      "track_29_PHID0                             [-1.0968682e-05]     [2.8937956e-11]      -2.22598e-05         -2.0989544784088032  -0.0010212598000000001 -187.807360318326   \n",
      "track_30_PHID0                             [-1.0944238e-05]     [2.73095021e-11]     -2.22598e-05         -2.1653057899264114  -0.0010212598000000001 -193.33040073938494 \n",
      "track_31_PHID0                             [-8.54624e-06]       [1.04710709e-12]     -1.099338e-05        -2.3914607964852714  -0.00100999338       -978.6614476745495  \n",
      "track_32_PHID0                             [-4.99669e-06]       [0.]                 -5.99669e-06         -9.999999999999997e-07 -0.00100499669       -0.001              \n",
      "track_0_PHIZ0                              [-7.7991729e-07]     [5.57924022e-13]     -2.57313e-06         -2.400735298011728   -0.00100247313       -1341.0568863954313 \n",
      "track_1_PHIZ0                              [-8.03359056e-07]    [5.60860181e-13]     -2.57313e-06         -2.363141661251829   -0.00100247313       -1337.5106953611744 \n",
      "track_2_PHIZ0                              [-8.34721776e-07]    [5.61680052e-13]     -2.57313e-06         -2.3195688494196265  -0.00100247313       -1336.4923255558854 \n",
      "track_3_PHIZ0                              [-8.69710112e-07]    [5.59779312e-13]     -2.57313e-06         -2.276739232812113   -0.00100247313       -1338.712678963527  \n",
      "track_4_PHIZ0                              [-9.06150047e-07]    [5.54563714e-13]     -2.57313e-06         -2.238487390535309   -0.00100247313       -1344.9442216465507 \n",
      "track_5_PHIZ0                              [-9.4277337e-07]     [5.47145704e-13]     -2.57313e-06         -2.2040990988398605  -0.00100247313       -1353.9811570860263 \n",
      "track_6_PHIZ0                              [-9.78870324e-07]    [5.37763671e-13]     -2.57313e-06         -2.174018982221398   -0.00100247313       -1365.691903162249  \n",
      "track_7_PHIZ0                              [-1.01344978e-06]    [5.27897962e-13]     -2.57313e-06         -2.1466466868094174  -0.00100247313       -1378.3467170626604 \n",
      "track_8_PHIZ0                              [-1.04414386e-06]    [5.18119972e-13]     -2.57313e-06         -2.1241656517639966  -0.00100247313       -1391.2494028245624 \n",
      "track_9_PHIZ0                              [-1.06945054e-06]    [5.07407863e-13]     -2.57313e-06         -2.110943793745808   -0.00100247313       -1405.8228119291398 \n",
      "track_10_PHIZ0                             [-1.09315527e-06]    [4.99108898e-13]     -2.57313e-06         -2.0948679120487608  -0.00100247313       -1417.4287782550632 \n",
      "track_11_PHIZ0                             [-1.10912442e-06]    [4.87388235e-13]     -2.57313e-06         -2.097032748669899   -0.00100247313       -1434.3477475011716 \n",
      "track_12_PHIZ0                             [-1.11741544e-06]    [4.82103758e-13]     -2.57313e-06         -2.0965535898524084  -0.00100247313       -1442.175529913765  \n",
      "track_13_PHIZ0                             [-1.11393056e-06]    [4.85460817e-13]     -2.57313e-06         -2.0942935857740856  -0.00100247313       -1437.185413263038  \n",
      "track_14_PHIZ0                             [-1.12503485e-06]    [4.8136972e-13]      -2.57313e-06         -2.0871694718290437  -0.00100247313       -1443.2637106655245 \n",
      "track_15_PHIZ0                             [-1.13940109e-06]    [4.78790735e-13]     -2.57313e-06         -2.072021100140394   -0.00100247313       -1447.1247665553776 \n",
      "track_16_PHIZ0                             [-1.13241549e-06]    [4.66900332e-13]     -2.52282e-06         -2.034834429303437   -0.00100242282       -1465.3722498782595 \n",
      "track_17_PHIZ0                             [-1.12184139e-06]    [4.61003358e-13]     -2.57313e-06         -2.1374784343973814  -0.00100247313       -1474.8043732723481 \n",
      "track_18_PHIZ0                             [-1.11966458e-06]    [4.80771045e-13]     -2.57313e-06         -2.0962136876916695  -0.00100247313       -1444.1697803553288 \n",
      "track_19_PHIZ0                             [-1.08408767e-06]    [4.96627813e-13]     -2.52282e-06         -2.041570980107697   -0.00100242282       -1420.906485204406  \n",
      "track_20_PHIZ0                             [-1.07965106e-06]    [4.95801687e-13]     -2.52282e-06         -2.0495719716542204  -0.00100242282       -1422.0960799166862 \n",
      "track_21_PHIZ0                             [-9.53111644e-07]    [4.96665087e-13]     -2.52282e-06         -2.2273432681236507  -0.00100242282       -1421.0390134524791 \n",
      "track_22_PHIZ0                             [-9.71733388e-07]    [4.94706894e-13]     -2.12462e-06         -1.639127040639131   -0.00100202462       -1423.2560585786985 \n",
      "track_23_PHIZ0                             [-1.00355555e-06]    [4.74134924e-13]     -2.52282e-06         -2.206390617867925   -0.00100242282       -1454.33671650064   \n",
      "track_24_PHIZ0                             [-8.27584242e-07]    [3.23575252e-13]     -2.52282e-06         -2.980179723915583   -0.00100242282       -1760.7779918699077 \n",
      "track_25_PHIZ0                             [-9.71680515e-07]    [4.46493678e-13]     -2.57313e-06         -2.3966553623004283  -0.00100247313       -1498.8008312106558 \n",
      "track_26_PHIZ0                             [-8.30322692e-07]    [2.17988871e-13]     -2.12462e-06         -2.772151023139239   -0.00100202462       -2144.3773228511564 \n",
      "track_27_PHIZ0                             [-7.29225444e-07]    [2.16885352e-13]     -1.5334999999999998e-06 -1.7269875955833018  -0.0010014335        -2148.7735215132707 \n",
      "track_28_PHIZ0                             [-8.71841e-07]       [2.68515953e-13]     -2.12462e-06         -2.4176276730691795  -0.00100202462       -1932.0364273990158 \n",
      "track_29_PHIZ0                             [-8.72039e-07]       [3.52766859e-13]     -2.12462e-06         -2.1089288637336105  -0.00100202462       -1685.60721827355   \n",
      "track_30_PHIZ0                             [-9.039166e-07]      [3.16046079e-13]     -2.12462e-06         -2.1713755871965574  -0.00100202462       -1780.7839768446663 \n",
      "track_31_PHIZ0                             [-6.33487667e-07]    [3.0400763e-15]      -8.11463e-07         -3.2278814261929725  -0.001000711463      -18138.092851761136 \n",
      "track_32_PHIZ0                             [-3.55731e-07]       [0.]                 -4.55731e-07         -1e-07               -0.001000355731      -0.001              \n",
      "track_0_PHIPHI                             [1.1985924e-07]      [4.38644646e-15]     0.0                  -1.8097354910111738  0.0                  -1.8097354910111738 \n",
      "track_1_PHIPHI                             [1.21743485e-07]     [4.38319007e-15]     0.0                  -1.8388680926145966  0.0                  -1.8388680926145966 \n",
      "track_2_PHIPHI                             [1.24266393e-07]     [4.3755906e-15]      0.0                  -1.8786044676532758  0.0                  -1.8786044676532758 \n",
      "track_3_PHIPHI                             [1.2705741e-07]      [4.35963692e-15]     0.0                  -1.9243091217872323  0.0                  -1.9243091217872323 \n",
      "track_4_PHIPHI                             [1.29988914e-07]     [4.33577419e-15]     0.0                  -1.974117450910871   0.0                  -1.974117450910871  \n",
      "track_5_PHIPHI                             [1.32990139e-07]     [4.30998695e-15]     0.0                  -2.0257295481633     0.0                  -2.0257295481633    \n",
      "track_6_PHIPHI                             [1.35930739e-07]     [4.27840789e-15]     0.0                  -2.0781485298427897  0.0                  -2.0781485298427897 \n",
      "track_7_PHIPHI                             [1.38771547e-07]     [4.23939316e-15]     0.0                  -2.1313196130199348  0.0                  -2.1313196130199348 \n",
      "track_8_PHIPHI                             [1.4140106e-07]      [4.21842643e-15]     0.0                  -2.1770952331555447  0.0                  -2.1770952331555447 \n",
      "track_9_PHIPHI                             [1.43592121e-07]     [4.17872958e-15]     0.0                  -2.2213064438951635  0.0                  -2.2213064438951635 \n",
      "track_10_PHIPHI                            [1.45439254e-07]     [4.15001681e-15]     0.0                  -2.2576504993324935  0.0                  -2.2576504993324935 \n",
      "track_11_PHIPHI                            [1.47097344e-07]     [4.11132654e-15]     0.0                  -2.2941079236911532  0.0                  -2.2941079236911532 \n",
      "track_12_PHIPHI                            [1.4777948e-07]      [4.10295144e-15]     0.0                  -2.3070974777839575  0.0                  -2.3070974777839575 \n",
      "track_13_PHIPHI                            [1.47640827e-07]     [4.14009442e-15]     0.0                  -2.294570188844385   0.0                  -2.294570188844385  \n",
      "track_14_PHIPHI                            [1.48256897e-07]     [4.15959048e-15]     0.0                  -2.298738763784314   0.0                  -2.298738763784314  \n",
      "track_15_PHIPHI                            [1.50759409e-07]     [4.15298253e-15]     0.0                  -2.339399397462112   0.0                  -2.339399397462112  \n",
      "track_16_PHIPHI                            [1.49214972e-07]     [4.0367279e-15]      0.0                  -2.348538388298928   0.0                  -2.348538388298928  \n",
      "track_17_PHIPHI                            [1.49933526e-07]     [4.10288056e-15]     0.0                  -2.3407461524316786  0.0                  -2.3407461524316786 \n",
      "track_18_PHIPHI                            [1.47943892e-07]     [4.25368145e-15]     0.0                  -2.268373465780388   0.0                  -2.268373465780388  \n",
      "track_19_PHIPHI                            [1.48081283e-07]     [4.1665979e-15]      0.0                  -2.294084306138392   0.0                  -2.294084306138392  \n",
      "track_20_PHIPHI                            [1.44024524e-07]     [4.44881051e-15]     0.0                  -2.159307507414497   0.0                  -2.159307507414497  \n",
      "track_21_PHIPHI                            [1.34695637e-07]     [3.96467295e-15]     0.0                  -2.139192386320588   0.0                  -2.139192386320588  \n",
      "track_22_PHIPHI                            [1.35688309e-07]     [4.29104101e-15]     0.0                  -2.071386293192479   0.0                  -2.071386293192479  \n",
      "track_23_PHIPHI                            [1.37925326e-07]     [3.52821049e-15]     0.0                  -2.3220243782199224  0.0                  -2.3220243782199224 \n",
      "track_24_PHIPHI                            [1.16461473e-07]     [2.51248316e-15]     0.0                  -2.32343591967014    0.0                  -2.32343591967014   \n",
      "track_25_PHIPHI                            [1.19505805e-07]     [1.99139037e-15]     0.0                  -2.678001400779654   0.0                  -2.678001400779654  \n",
      "track_26_PHIPHI                            [1.17258146e-07]     [1.76736834e-15]     0.0                  -2.7891989195244835  0.0                  -2.7891989195244835 \n",
      "track_27_PHIPHI                            [1.11532944e-07]     [7.58352303e-16]     0.0                  -4.050117870091449   0.0                  -4.050117870091449  \n",
      "track_28_PHIPHI                            [1.2749545e-07]      [2.70753859e-15]     0.0                  -2.4502328533956015  0.0                  -2.4502328533956015 \n",
      "track_29_PHIPHI                            [1.295101e-07]       [3.41462029e-15]     0.0                  -2.2163198216861777  0.0                  -2.2163198216861777 \n",
      "track_30_PHIPHI                            [1.2935014e-07]      [3.22840706e-15]     0.0                  -2.2765267576383375  0.0                  -2.2765267576383375 \n",
      "track_31_PHIPHI                            [1.03161933e-07]     [1.13402804e-16]     0.0                  -9.687407663575799   0.0                  -9.687407663575799  \n",
      "track_32_PHIPHI                            [1.18222e-07]        [0.]                 0.0                  -1.18222e-07         0.0                  -1.18222e-07        \n",
      "track_0_THETAD0                            [-1.28285718e-08]    [3.00381942e-15]     -1.63849e-07         -2.755489669881177   -0.001000153849      -18248.380584864022 \n",
      "track_1_THETAD0                            [-1.2128032e-08]     [2.99446298e-15]     -1.63849e-07         -2.7725930523859454  -0.001000153849      -18276.880407354856 \n",
      "track_2_THETAD0                            [-1.06744656e-08]    [2.92582217e-15]     -1.63849e-07         -2.831800186172207   -0.001000153849      -18490.055400348905 \n",
      "track_3_THETAD0                            [-8.81650282e-09]    [2.82190911e-15]     -1.63849e-07         -2.9184431076447686  -0.001000153849      -18827.44863037186  \n",
      "track_4_THETAD0                            [-6.6776197e-09]     [2.69098904e-15]     -1.63849e-07         -3.0298247094244593  -0.001000153849      -19280.040724877155 \n",
      "track_5_THETAD0                            [-4.38910086e-09]    [2.54018772e-15]     -1.63849e-07         -3.1638696272805475  -0.001000153849      -19844.127055959943 \n",
      "track_6_THETAD0                            [-2.1276575e-09]     [2.3887354e-15]      -1.63849e-07         -3.308897504277824   -0.001000153849      -20463.59177750838  \n",
      "track_7_THETAD0                            [6.41086291e-11]     [2.23708489e-15]     -1.63849e-07         -3.465552277051814   -0.001000153849      -21145.872346422035 \n",
      "track_8_THETAD0                            [2.13328161e-09]     [2.0920835e-15]      -1.63849e-07         -3.628876785922217   -0.001000153849      -21866.44737694338  \n",
      "track_9_THETAD0                            [3.98078205e-09]     [1.94734935e-15]     -1.63849e-07         -3.803181885966996   -0.001000153849      -22664.524108676324 \n",
      "track_10_THETAD0                           [5.56202611e-09]     [1.83268926e-15]     -1.63849e-07         -3.957284331588294   -0.001000153849      -23362.795546073594 \n",
      "track_11_THETAD0                           [6.93423135e-09]     [1.71512364e-15]     -1.63849e-07         -4.123799201923246   -0.001000153849      -24150.27638878886  \n",
      "track_12_THETAD0                           [7.75656271e-09]     [1.65607463e-15]     -1.63849e-07         -4.216881619085679   -0.001000153849      -24577.076780713356 \n",
      "track_13_THETAD0                           [7.80230194e-09]     [1.63076901e-15]     -1.63849e-07         -4.250606250035041   -0.001000153849      -24767.032455492477 \n",
      "track_14_THETAD0                           [8.89931861e-09]     [1.55651951e-15]     -1.63849e-07         -4.378612822157829   -0.001000153849      -25350.90048553462  \n",
      "track_15_THETAD0                           [1.02014577e-08]     [1.45878627e-15]     -1.63849e-07         -4.557003224550127   -0.001000153849      -26186.376434937483 \n",
      "track_16_THETAD0                           [8.87231809e-09]     [1.49839899e-15]     -1.63849e-07         -4.4620271479218285  -0.001000153849      -25837.883037713713 \n",
      "track_17_THETAD0                           [8.63612374e-09]     [1.57290979e-15]     -1.63849e-07         -4.3491034368495765  -0.001000153849      -25218.465263414502 \n",
      "track_18_THETAD0                           [9.68452202e-09]     [1.48460561e-15]     -1.63849e-07         -4.503786894890597   -0.001000153849      -25957.655688332405 \n",
      "track_19_THETAD0                           [8.36594758e-09]     [1.61960815e-15]     -1.63849e-07         -4.2792323425608485  -0.001000153849      -24852.235872050125 \n",
      "track_20_THETAD0                           [9.01453235e-09]     [1.48284706e-15]     -1.63849e-07         -4.489057860146457   -0.001000153849      -25973.02567437733  \n",
      "track_21_THETAD0                           [5.92392085e-09]     [1.513996e-15]       -1.63849e-07         -4.363209402337963   -0.001000153849      -25704.37324883134  \n",
      "track_22_THETAD0                           [2.38294015e-09]     [1.83221667e-15]     -1.63849e-07         -3.8835245831022696  -0.001000153849      -23365.734107069016 \n",
      "track_23_THETAD0                           [6.87442e-09]        [1.62735727e-15]     -1.63849e-07         -4.232058364615265   -0.001000153849      -24792.957846728157 \n",
      "track_24_THETAD0                           [-5.36363769e-09]    [1.52362032e-15]     -1.63849e-07         -4.0602313419192155  -0.001000153849      -25622.771514741806 \n",
      "track_25_THETAD0                           [-3.2064725e-09]     [2.15824869e-15]     -1.63849e-07         -3.457878949175472   -0.001000153849      -21528.544817001617 \n",
      "track_26_THETAD0                           [-2.08666615e-09]    [4.17131858e-16]     -3.8184299999999996e-08 -1.7674293212908752  -0.0010000281843     -48963.74799930199  \n",
      "track_27_THETAD0                           [-7.07466222e-09]    [7.92651248e-16]     -8.96081e-08         -2.931492999358978   -0.0010000796081000001 -35521.4287634267   \n",
      "track_28_THETAD0                           [6.23728333e-09]     [5.84457783e-16]     -2.38305e-08         -1.2437263601013626  -0.0010000138305     -41364.915569071985 \n",
      "track_29_THETAD0                           [7.38008e-09]        [7.75926064e-16]     -3.8184299999999996e-08 -1.6357438459571538  -0.0010000281843     -35900.894957264296 \n",
      "track_30_THETAD0                           [4.91996e-09]        [6.90937295e-16]     -2.38305e-08         -1.0937686722001385  -0.0010000138305     -38044.23236587783  \n",
      "track_31_THETAD0                           [-4.9457e-09]        [1.57879342e-16]     -2.38305e-08         -1.5029680061849127  -0.0010000138305     -79586.82960661771  \n",
      "track_32_THETAD0                           [6.41196e-09]        [0.]                 -3.58804e-09         -1e-08               -0.00099999358804    -0.001              \n",
      "track_0_THETAZ0                            [3.01973433e-05]     [4.84885816e-10]     1.3957000000000002e-06 -1.3079692285716822  -0.0009976043000000001 -46.67556325566905  \n",
      "track_1_THETAZ0                            [3.02943541e-05]     [4.78655817e-10]     1.30425e-06          -1.3250678127415374  -0.00099769575       -46.98695088606079  \n",
      "track_2_THETAZ0                            [3.02234462e-05]     [4.69001074e-10]     8.156700000000001e-07 -1.35792338004587    -0.00099818433       -47.48740450332683  \n",
      "track_3_THETAZ0                            [3.0116748e-05]      [4.58972775e-10]     1.42289e-06          -1.3393543200987068  -0.00099757711       -47.97006407549729  \n",
      "track_4_THETAZ0                            [3.00265855e-05]     [4.5007476e-10]      1.42289e-06          -1.3482791447879896  -0.00099757711       -48.43767938118409  \n",
      "track_5_THETAZ0                            [2.99986355e-05]     [4.43664899e-10]     1.42289e-06          -1.3566569211005637  -0.00099757711       -48.785000033972544 \n",
      "track_6_THETAZ0                            [3.00534092e-05]     [4.39200141e-10]     1.42289e-06          -1.3661487459787462  -0.00099757711       -49.034952402477806 \n",
      "track_7_THETAZ0                            [3.01530077e-05]     [4.35893618e-10]     1.42289e-06          -1.3760909850619196  -0.00099757711       -49.22535178997377  \n",
      "track_8_THETAZ0                            [3.03099379e-05]     [4.36226617e-10]     1.42289e-06          -1.3830793009063171  -0.00099757711       -49.21407347395659  \n",
      "track_9_THETAZ0                            [3.04139361e-05]     [4.35876801e-10]     1.42289e-06          -1.3886155019330764  -0.00099757711       -49.23879934535029  \n",
      "track_10_THETAZ0                           [3.05642779e-05]     [4.36604269e-10]     1.42289e-06          -1.3946532485391558  -0.00099757711       -49.20495663031589  \n",
      "track_11_THETAZ0                           [3.05287103e-05]     [4.35409115e-10]     1.42289e-06          -1.3948614918046331  -0.00099757711       -49.27073709870087  \n",
      "track_12_THETAZ0                           [3.04523734e-05]     [4.35816589e-10]     1.42289e-06          -1.3905526249477977  -0.00099757711       -49.24404183657351  \n",
      "track_13_THETAZ0                           [3.01572703e-05]     [4.30605442e-10]     1.7148700000000001e-06 -1.3706497387476426  -0.00099728513       -49.51282738671769  \n",
      "track_14_THETAZ0                           [3.0129216e-05]      [4.33392573e-10]     1.42289e-06          -1.3789130475729456  -0.00099757711       -49.36604077231364  \n",
      "track_15_THETAZ0                           [3.05691151e-05]     [4.37303485e-10]     1.42289e-06          -1.3937691424805174  -0.00099757711       -49.16583465403167  \n",
      "track_16_THETAZ0                           [2.99453535e-05]     [4.16565833e-10]     1.7148700000000001e-06 -1.3831729685389222  -0.00099728513       -50.32990093491675  \n",
      "track_17_THETAZ0                           [2.98279046e-05]     [4.18801352e-10]     1.7148700000000001e-06 -1.3737372967920216  -0.00099728513       -50.189654161971234 \n",
      "track_18_THETAZ0                           [2.95846329e-05]     [4.29402978e-10]     1.7148700000000001e-06 -1.3449333039468028  -0.00099728513       -49.55447049602924  \n",
      "track_19_THETAZ0                           [2.89570864e-05]     [4.22830117e-10]     1.42289e-06          -1.3390273556705907  -0.00099757711       -49.92182630079015  \n",
      "track_20_THETAZ0                           [2.96468938e-05]     [4.69654379e-10]     1.42289e-06          -1.3023551545389505  -0.00099757711       -47.3997412741999   \n",
      "track_21_THETAZ0                           [2.50480949e-05]     [3.55034316e-10]     1.7148700000000001e-06 -1.238339143567064   -0.00099728513       -54.25719142075016  \n",
      "track_22_THETAZ0                           [2.77723447e-05]     [4.36958739e-10]     1.7148700000000001e-06 -1.2465569082863799  -0.00099728513       -49.03746396509777  \n",
      "track_23_THETAZ0                           [2.73123634e-05]     [4.12341631e-10]     4.7773800000000005e-06 -1.109758935857281   -0.00099422262       -50.30656355901048  \n",
      "track_24_THETAZ0                           [2.03464473e-05]     [2.09788904e-10]     2.42321e-06          -1.2374429856983435  -0.00099657679       -70.20966722680069  \n",
      "track_25_THETAZ0                           [2.1589412e-05]      [1.4869067e-10]      6.67574e-06          -1.2230458210120825  -0.00099232426       -83.14940005430019  \n",
      "track_26_THETAZ0                           [1.83602077e-05]     [1.91160303e-10]     1.05548e-05          -0.564542622859551   -0.0009884452        -72.81933090156758  \n",
      "track_27_THETAZ0                           [1.68831222e-05]     [3.02728027e-11]     6.67574e-06          -1.855188579989843   -0.00099232426       -183.42313137486343 \n",
      "track_28_THETAZ0                           [2.13574833e-05]     [3.46006542e-10]     4.7773800000000005e-06 -0.8913434504144154  -0.00099422262       -54.597408428537854 \n",
      "track_29_THETAZ0                           [2.335286e-05]       [3.91330821e-10]     1.05548e-05          -0.6469520822497034  -0.0009884452        -51.1471943195461   \n",
      "track_30_THETAZ0                           [2.255868e-05]       [4.0655061e-10]      1.05548e-05          -0.595339004094448   -0.0009884452        -50.141291237068586 \n",
      "track_31_THETAZ0                           [1.28203667e-05]     [3.20331798e-12]     1.05548e-05          -1.265834187502466   -0.0009884452        -559.4345130971036  \n",
      "track_32_THETAZ0                           [7.67574e-06]        [0.]                 6.67574e-06          -9.999999999999997e-07 -0.00099232426       -0.001              \n",
      "track_0_THETAPHI                           [2.90781955e-10]     [2.67749947e-19]     -1.48111e-09         -3.424305787952973   -0.00100000138111    -1932573.542420325  \n",
      "track_1_THETAPHI                           [2.91847304e-10]     [2.58970891e-19]     -1.27775e-09         -3.0843437135035523  -0.00100000117775    -1965057.048468904  \n",
      "track_2_THETAPHI                           [2.89294526e-10]     [2.46832667e-19]     -1.48111e-09         -3.563454297855286   -0.00100000138111    -2012794.36324938   \n",
      "track_3_THETAPHI                           [2.83142631e-10]     [2.33727029e-19]     -1.27775e-09         -3.2286321026835463  -0.00100000117775    -2068455.417284685  \n",
      "track_4_THETAPHI                           [2.74078649e-10]     [2.20321646e-19]     -1.27775e-09         -3.3060938756984033  -0.00100000117775    -2130453.4350373377 \n",
      "track_5_THETAPHI                           [2.62990881e-10]     [2.07462619e-19]     -1.27775e-09         -3.3826703623837444  -0.00100000117775    -2195486.131277346  \n",
      "track_6_THETAPHI                           [2.50020099e-10]     [1.95350685e-19]     -1.27775e-09         -3.456611235964682   -0.00100000117775    -2262523.7740969397 \n",
      "track_7_THETAPHI                           [2.368891e-10]       [1.84895728e-19]     -1.27775e-09         -3.5224572086604673  -0.00100000117775    -2325611.554157683  \n",
      "track_8_THETAPHI                           [2.24919127e-10]     [1.74624562e-19]     -1.27775e-09         -3.5959256087590017  -0.00100000117775    -2393028.9036937216 \n",
      "track_9_THETAPHI                           [2.12411385e-10]     [1.66999381e-19]     -1.27775e-09         -3.646497117165288   -0.00100000117775    -2447051.8583557857 \n",
      "track_10_THETAPHI                          [1.99885759e-10]     [1.61005511e-19]     -1.27775e-09         -3.6825361742985447  -0.00100000117775    -2492184.7113899584 \n",
      "track_11_THETAPHI                          [1.90194748e-10]     [1.53267692e-19]     -1.27775e-09         -3.749595344175601   -0.00100000117775    -2554319.8944350365 \n",
      "track_12_THETAPHI                          [1.83235934e-10]     [1.49727902e-19]     -1.27775e-09         -3.77567552671379    -0.00100000117775    -2584337.4513664423 \n",
      "track_13_THETAPHI                          [1.84617481e-10]     [1.50632322e-19]     -1.27775e-09         -3.767883230218575   -0.00100000117775    -2576567.389682074  \n",
      "track_14_THETAPHI                          [1.75303813e-10]     [1.46171891e-19]     -1.27775e-09         -3.800579011728482   -0.00100000117775    -2615583.8961292654 \n",
      "track_15_THETAPHI                          [1.69221491e-10]     [1.45289894e-19]     -1.27775e-09         -3.796140440064613   -0.00100000117775    -2623510.9515091134 \n",
      "track_16_THETAPHI                          [1.54383623e-10]     [1.51286689e-19]     -1.1923000000000001e-09 -3.462304175532353   -0.0010000010923     -2570988.7851081793 \n",
      "track_17_THETAPHI                          [1.69247512e-10]     [1.4008329e-19]      -1.27775e-09         -3.8661136645021     -0.00100000117775    -2671821.368519339  \n",
      "track_18_THETAPHI                          [1.51199185e-10]     [1.57009412e-19]     -1.27775e-09         -3.606234312744445   -0.00100000117775    -2523700.0321668796 \n",
      "track_19_THETAPHI                          [2.07874088e-10]     [1.60337892e-19]     -1.1923000000000001e-09 -3.4967449100095895  -0.0010000010923     -2497367.638538585  \n",
      "track_20_THETAPHI                          [1.96374431e-10]     [1.38484688e-19]     -1.1923000000000001e-09 -3.7316384571879917  -0.0010000010923     -2687198.080613934  \n",
      "track_21_THETAPHI                          [2.07818819e-10]     [2.19241404e-19]     -1.1923000000000001e-09 -2.990223194716153   -0.0010000010923     -2135695.2296229894 \n",
      "track_22_THETAPHI                          [2.52199558e-10]     [1.71587951e-19]     -7.50385e-10         -2.420346903156726   -0.001000000650385   -2414109.6822564797 \n",
      "track_23_THETAPHI                          [1.64436029e-10]     [1.87585981e-19]     -1.1923000000000001e-09 -3.132529496769399   -0.0010000010923     -2308874.657681546  \n",
      "track_24_THETAPHI                          [2.22972e-10]        [1.51627989e-19]     -1.1923000000000001e-09 -3.6345464846999     -0.0010000010923     -2568093.811731684  \n",
      "track_25_THETAPHI                          [1.4569865e-10]      [2.73314503e-19]     -1.27775e-09         -2.7227669247527184  -0.00100000117775    -1912798.5601692966 \n",
      "track_26_THETAPHI                          [2.79311538e-10]     [6.14310374e-20]     -3.7518500000000003e-10 -2.640665728941396   -0.001000000275185   -4034654.1776806987 \n",
      "track_27_THETAPHI                          [3.47370333e-10]     [1.73828674e-19]     -3.7518500000000003e-10 -1.7330472475124594  -0.001000000275185   -2398499.1134661883 \n",
      "track_28_THETAPHI                          [3.60213167e-10]     [1.1005344e-20]      2.6571999999999996e-11 -3.1803712521998633  -0.000999999873428   -9532312.894838154  \n",
      "track_29_THETAPHI                          [3.58006e-10]        [1.34756489e-20]     2.6571999999999996e-11 -2.8551058560103044  -0.000999999873428   -8614404.4267603    \n",
      "track_30_THETAPHI                          [3.483546e-10]       [1.23626592e-20]     2.6571999999999996e-11 -2.8940538455533127  -0.000999999873428   -8993819.079726804  \n",
      "track_31_THETAPHI                          [4.05545333e-10]     [9.74501069e-23]     2.98565e-10          -10.837092663234415  -0.000999999601435   -101299859.52758545 \n",
      "track_32_THETAPHI                          [4.19506e-10]        [0.]                 3.19506e-10          -1.0000000000000002e-10 -0.000999999580494   -0.001              \n",
      "track_0_THETATHETA                         [7.94499642e-08]     [1.59194704e-14]     0.0                  -0.6296937721792776  0.0                  -0.6296937721792776 \n",
      "track_1_THETATHETA                         [7.57253326e-08]     [1.48680403e-14]     0.0                  -0.6210324939711898  0.0                  -0.6210324939711898 \n",
      "track_2_THETATHETA                         [7.03035105e-08]     [1.33653369e-14]     0.0                  -0.608116875195353   0.0                  -0.608116875195353  \n",
      "track_3_THETATHETA                         [6.4489374e-08]      [1.17648377e-14]     0.0                  -0.5945593198531663  0.0                  -0.5945593198531663 \n",
      "track_4_THETATHETA                         [5.88210884e-08]     [1.02153632e-14]     0.0                  -0.5819774411679083  0.0                  -0.5819774411679083 \n",
      "track_5_THETATHETA                         [5.35581627e-08]     [8.78741807e-15]     0.0                  -0.571340520124256   0.0                  -0.571340520124256  \n",
      "track_6_THETATHETA                         [4.89374248e-08]     [7.54565639e-15]     0.0                  -0.5633685508014267  0.0                  -0.5633685508014267 \n",
      "track_7_THETATHETA                         [4.48373745e-08]     [6.43264831e-15]     0.0                  -0.559043072371465   0.0                  -0.559043072371465  \n",
      "track_8_THETATHETA                         [4.14661982e-08]     [5.53761442e-15]     0.0                  -0.5572279119820122  0.0                  -0.5572279119820122 \n",
      "track_9_THETATHETA                         [3.87385842e-08]     [4.85648427e-15]     0.0                  -0.5558821783768486  0.0                  -0.5558821783768486 \n",
      "track_10_THETATHETA                        [3.66122654e-08]     [4.33329851e-15]     0.0                  -0.556182471516632   0.0                  -0.556182471516632  \n",
      "track_11_THETATHETA                        [3.43213484e-08]     [3.70397741e-15]     0.0                  -0.56393646415418    0.0                  -0.56393646415418   \n",
      "track_12_THETATHETA                        [3.31759329e-08]     [3.400306e-15]       0.0                  -0.5689369535932991  0.0                  -0.5689369535932991 \n",
      "track_13_THETATHETA                        [3.2095025e-08]      [2.89132845e-15]     0.0                  -0.5968827157164509  0.0                  -0.5968827157164509 \n",
      "track_14_THETATHETA                        [3.0723308e-08]      [2.57629322e-15]     0.0                  -0.6052995197526639  0.0                  -0.6052995197526639 \n",
      "track_15_THETATHETA                        [3.05173716e-08]     [2.69484468e-15]     0.0                  -0.5878685900376079  0.0                  -0.5878685900376079 \n",
      "track_16_THETATHETA                        [2.98001152e-08]     [2.33126405e-15]     0.0                  -0.6171947306119905  0.0                  -0.6171947306119905 \n",
      "track_17_THETATHETA                        [2.89890217e-08]     [1.95383957e-15]     0.0                  -0.6558267232759667  0.0                  -0.6558267232759667 \n",
      "track_18_THETATHETA                        [3.07139105e-08]     [2.84885868e-15]     0.0                  -0.5754394882725794  0.0                  -0.5754394882725794 \n",
      "track_19_THETATHETA                        [2.81311485e-08]     [1.18793442e-15]     0.0                  -0.8161899255972367  0.0                  -0.8161899255972367 \n",
      "track_20_THETATHETA                        [3.35726784e-08]     [3.68973655e-15]     0.0                  -0.5526985325985336  0.0                  -0.5526985325985336 \n",
      "track_21_THETATHETA                        [3.1522318e-08]      [2.76926844e-15]     0.0                  -0.5990121317712511  0.0                  -0.5990121317712511 \n",
      "track_22_THETATHETA                        [3.77395217e-08]     [4.6226792e-15]      0.0                  -0.5550722470519018  0.0                  -0.5550722470519018 \n",
      "track_23_THETATHETA                        [4.08518486e-08]     [7.03130366e-15]     0.0                  -0.48718486305778835 0.0                  -0.48718486305778835\n",
      "track_24_THETATHETA                        [3.01357438e-08]     [1.78068268e-15]     0.0                  -0.7141486974306132  0.0                  -0.7141486974306132 \n",
      "track_25_THETATHETA                        [3.2902605e-08]      [2.25476494e-15]     0.0                  -0.6929144963290705  0.0                  -0.6929144963290705 \n",
      "track_26_THETATHETA                        [2.07819462e-08]     [2.80519501e-17]     0.0                  -3.923780333946195   0.0                  -3.923780333946195  \n",
      "track_27_THETATHETA                        [2.66912778e-08]     [5.85221895e-16]     0.0                  -1.103339285372137   0.0                  -1.103339285372137  \n",
      "track_28_THETATHETA                        [1.94974167e-08]     [3.59021258e-18]     0.0                  -10.29003827929992   0.0                  -10.29003827929992  \n",
      "track_29_THETATHETA                        [2.279122e-08]       [6.16182312e-17]     0.0                  -2.903440694600446   0.0                  -2.903440694600446  \n",
      "track_30_THETATHETA                        [2.002108e-08]       [2.66291538e-18]     0.0                  -12.268990151790378  0.0                  -12.268990151790378 \n",
      "track_31_THETATHETA                        [1.93074333e-08]     [2.94840139e-18]     0.0                  -11.244269351248194  0.0                  -11.244269351248194 \n",
      "track_32_THETATHETA                        [1.68791e-08]        [0.]                 0.0                  -1.68791e-08         0.0                  -1.68791e-08        \n",
      "track_0_QOVERPD0                           [-6.74752106e-06]    [2.42723914e-11]     -1.87058e-05         -2.427238186300089   -0.0010177058        -205.19980775443324 \n",
      "track_1_QOVERPD0                           [-6.89170514e-06]    [2.47780764e-11]     -1.87058e-05         -2.373376619303726   -0.0010177058        -203.06613144658638 \n",
      "track_2_QOVERPD0                           [-7.0438792e-06]     [2.54913545e-11]     -1.87058e-05         -2.3097960335563976  -0.0010177058        -200.17481984804263 \n",
      "track_3_QOVERPD0                           [-7.19590143e-06]    [2.62771095e-11]     -1.87058e-05         -2.245343038966394   -0.0010177058        -197.12957091329855 \n",
      "track_4_QOVERPD0                           [-7.34282921e-06]    [2.70783057e-11]     -1.87058e-05         -2.183640530706067   -0.0010177058        -194.16309126912083 \n",
      "track_5_QOVERPD0                           [-7.4882966e-06]     [2.79135183e-11]     -1.87058e-05         -2.1231902942257213  -0.0010177058        -191.20867827026785 \n",
      "track_6_QOVERPD0                           [-7.62870778e-06]    [2.87202965e-11]     -1.87058e-05         -2.066956382359179   -0.0010177058        -188.47773856955516 \n",
      "track_7_QOVERPD0                           [-7.76110872e-06]    [2.95067626e-11]     -1.87058e-05         -2.014850069430268   -0.0010177058        -185.9245801326425  \n",
      "track_8_QOVERPD0                           [-7.89216836e-06]    [3.03392734e-11]     -1.87058e-05         -1.963220063532545   -0.0010177058        -183.33215403423068 \n",
      "track_9_QOVERPD0                           [-7.97808946e-06]    [3.09335508e-11]     -1.87058e-05         -1.928822036948409   -0.0010177058        -181.54713000813658 \n",
      "track_10_QOVERPD0                          [-8.05839506e-06]    [3.15575364e-11]     -1.87058e-05         -1.8953622452695422  -0.0010177058        -179.72901227324587 \n",
      "track_11_QOVERPD0                          [-8.09612918e-06]    [3.19080138e-11]     -1.87058e-05         -1.8782440585289955  -0.0010177058        -178.73253544285336 \n",
      "track_12_QOVERPD0                          [-8.10546467e-06]    [3.21872838e-11]     -1.87058e-05         -1.8684326137072071  -0.0010177058        -177.95382263368973 \n",
      "track_13_QOVERPD0                          [-8.06903796e-06]    [3.22761126e-11]     -1.87058e-05         -1.8722715278445374  -0.0010177058        -177.71518767522375 \n",
      "track_14_QOVERPD0                          [-8.08390672e-06]    [3.27149364e-11]     -1.87058e-05         -1.857072647073883   -0.0010177058        -176.51666728448131 \n",
      "track_15_QOVERPD0                          [-8.18991388e-06]    [3.3101564e-11]      -1.87058e-05         -1.8277703068106337  -0.0010177058        -175.4643535709766  \n",
      "track_16_QOVERPD0                          [-7.96112181e-06]    [3.17769042e-11]     -1.87058e-05         -1.9060646217671597  -0.0010177058        -179.1248257160067  \n",
      "track_17_QOVERPD0                          [-8.04762762e-06]    [3.22158849e-11]     -1.87058e-05         -1.877792964454325   -0.0010177058        -177.88500184217799 \n",
      "track_18_QOVERPD0                          [-7.89102365e-06]    [3.20783698e-11]     -1.87058e-05         -1.9094636625157972  -0.0010177058        -178.29352716373083 \n",
      "track_19_QOVERPD0                          [-7.95280326e-06]    [3.28023382e-11]     -1.87058e-05         -1.8774877545514563  -0.0010177058        -176.304237134242   \n",
      "track_20_QOVERPD0                          [-7.97069049e-06]    [3.42353338e-11]     -1.87058e-05         -1.8347174681924157  -0.0010177058        -172.57193721615    \n",
      "track_21_QOVERPD0                          [-6.67264608e-06]    [2.53631217e-11]     -1.87058e-05         -2.389340907261764   -0.0010177058        -200.75392455646784 \n",
      "track_22_QOVERPD0                          [-7.36753477e-06]    [3.00284388e-11]     -1.87058e-05         -2.069094064651183   -0.0010177058        -184.37431705542858 \n",
      "track_23_QOVERPD0                          [-6.84397314e-06]    [2.57617056e-11]     -1.87058e-05         -2.3370299302798467  -0.0010177058        -199.16108818600128 \n",
      "track_24_QOVERPD0                          [-5.52748392e-06]    [1.36895267e-11]     -1.87058e-05         -3.5617686205975505  -0.0010177058        -273.56643622815557 \n",
      "track_25_QOVERPD0                          [-5.347566e-06]      [8.88486835e-12]     -1.87058e-05         -4.481501521950612   -0.0010177058        -339.6320925677926  \n",
      "track_26_QOVERPD0                          [-5.87690692e-06]    [1.17247432e-11]     -1.87058e-05         -3.7466016210329474  -0.0010177058        -295.4985865327049  \n",
      "track_27_QOVERPD0                          [-4.86597556e-06]    [9.99997886e-14]     -6.39323e-06         -4.829607716971211   -0.00100539323       -3163.9483300784614 \n",
      "track_28_QOVERPD0                          [-6.87221167e-06]    [2.34897254e-11]     -1.87058e-05         -2.4416167042142423  -0.0010177058        -208.5646470820127  \n",
      "track_29_QOVERPD0                          [-7.33863e-06]       [2.69137339e-11]     -1.87058e-05         -2.1911160394627642  -0.0010177058        -194.75662912876305 \n",
      "track_30_QOVERPD0                          [-7.339916e-06]      [2.68751864e-11]     -1.87058e-05         -2.1924387889277277  -0.0010177058        -194.89600237789276 \n",
      "track_31_QOVERPD0                          [-4.72458333e-06]    [1.82201324e-14]     -5.82003e-06         -8.115503594623858   -0.0010048200300000001 -7409.103920218499  \n",
      "track_32_QOVERPD0                          [-2.26685e-06]       [0.]                 -3.26685e-06         -9.999999999999997e-07 -0.00100226685       -0.001              \n",
      "track_0_QOVERPZ0                           [-1.89722465e-06]    [5.77085902e-12]     -6.48033e-06         -1.9078297092355447  -0.00100638033       -418.14066353229055 \n",
      "track_1_QOVERPZ0                           [-1.95577364e-06]    [5.9128754e-12]      -6.48033e-06         -1.8607012040252906  -0.00100638033       -413.06458181218306 \n",
      "track_2_QOVERPZ0                           [-2.03224145e-06]    [6.06678842e-12]     -6.48033e-06         -1.8059012555901413  -0.00100638033       -407.76019936066376 \n",
      "track_3_QOVERPZ0                           [-2.11763433e-06]    [6.21204406e-12]     -6.48033e-06         -1.7504014122148333  -0.00100638033       -402.93042973838396 \n",
      "track_4_QOVERPZ0                           [-2.20580923e-06]    [6.33868528e-12]     -6.48033e-06         -1.6978051117977344  -0.00100638033       -398.85000607073397 \n",
      "track_5_QOVERPZ0                           [-2.29669389e-06]    [6.45032653e-12]     -6.48033e-06         -1.6472634159391926  -0.00100638033       -395.34753863286676 \n",
      "track_6_QOVERPZ0                           [-2.38947171e-06]    [6.54014256e-12]     -6.48033e-06         -1.5996347418793184  -0.00100638033       -392.58721378515054 \n",
      "track_7_QOVERPZ0                           [-2.48052601e-06]    [6.61088494e-12]     -6.48033e-06         -1.555639315236806   -0.00100638033       -390.44563336007155 \n",
      "track_8_QOVERPZ0                           [-2.56213164e-06]    [6.67902565e-12]     -6.48033e-06         -1.5161070353391575  -0.00100638033       -388.4172498769968  \n",
      "track_9_QOVERPZ0                           [-2.63008257e-06]    [6.69717851e-12]     -6.48033e-06         -1.48779365316077    -0.00100638033       -387.8642283941157  \n",
      "track_10_QOVERPZ0                          [-2.69667012e-06]    [6.71247807e-12]     -6.48033e-06         -1.4603960498903759  -0.00100638033       -387.3962512228304  \n",
      "track_11_QOVERPZ0                          [-2.73819029e-06]    [6.68951559e-12]     -6.48033e-06         -1.44684718139002    -0.00100638033       -388.0445182175543  \n",
      "track_12_QOVERPZ0                          [-2.75436664e-06]    [6.67331969e-12]     -6.48033e-06         -1.4423398902141547  -0.00100638033       -388.5088556168466  \n",
      "track_13_QOVERPZ0                          [-2.7491639e-06]     [6.64974492e-12]     -6.48033e-06         -1.4469119039713354  -0.00100638033       -389.19893740679566 \n",
      "track_14_QOVERPZ0                          [-2.77754161e-06]    [6.63716391e-12]     -6.48033e-06         -1.4372675569919462  -0.00100638033       -389.55661895897236 \n",
      "track_15_QOVERPZ0                          [-2.8435459e-06]     [6.60276511e-12]     -6.48033e-06         -1.415319842783012   -0.00100638033       -390.54436162958245 \n",
      "track_16_QOVERPZ0                          [-2.8306496e-06]     [6.35425216e-12]     -6.48033e-06         -1.4478468087725918  -0.00100638033       -398.1132705754037  \n",
      "track_17_QOVERPZ0                          [-2.77460259e-06]    [6.50802494e-12]     -6.48033e-06         -1.4526094496024207  -0.00100638033       -393.4037784362167  \n",
      "track_18_QOVERPZ0                          [-2.72783422e-06]    [6.41600556e-12]     -6.48033e-06         -1.481452893703503   -0.00100638033       -396.2333288724675  \n",
      "track_19_QOVERPZ0                          [-2.61566945e-06]    [6.66463446e-12]     -6.48033e-06         -1.497004779838415   -0.00100638033       -388.81564751648676 \n",
      "track_20_QOVERPZ0                          [-2.58952196e-06]    [6.9381048e-12]      -6.48033e-06         -1.477132237914685   -0.00100638033       -381.0858177345372  \n",
      "track_21_QOVERPZ0                          [-2.12814785e-06]    [5.42744797e-12]     -6.48033e-06         -1.8681391799316744  -0.00100638033       -431.0671714925834  \n",
      "track_22_QOVERPZ0                          [-2.22785047e-06]    [6.63744912e-12]     -6.48033e-06         -1.6505991942365787  -0.00100638033       -389.7616116800949  \n",
      "track_23_QOVERPZ0                          [-2.23139767e-06]    [5.66371523e-12]     -6.48033e-06         -1.7853736049963653  -0.00100638033       -421.9368209772077  \n",
      "track_24_QOVERPZ0                          [-1.61809504e-06]    [4.21580506e-12]     -6.48033e-06         -2.368076242666839   -0.00100638033       -489.35388742740355 \n",
      "track_25_QOVERPZ0                          [-1.91462261e-06]    [3.99239383e-12]     -6.48033e-06         -2.28502726558452    -0.00100638033       -502.71104402308015 \n",
      "track_26_QOVERPZ0                          [-1.23603716e-06]    [3.98333643e-12]     -6.48033e-06         -2.6276253326674213  -0.00100638033       -503.62225913059916 \n",
      "track_27_QOVERPZ0                          [-1.02921743e-06]    [2.311719e-12]       -3.96385e-06         -1.93012844823819    -0.00100386385       -659.5713804791537  \n",
      "track_28_QOVERPZ0                          [-1.19880948e-06]    [5.38362437e-12]     -6.48033e-06         -2.276258581746274   -0.00100638033       -433.21862616428746 \n",
      "track_29_QOVERPZ0                          [-1.60011626e-06]    [5.79295849e-12]     -6.48033e-06         -2.027629658194178   -0.00100638033       -417.46576479781595 \n",
      "track_30_QOVERPZ0                          [-1.37432878e-06]    [6.2755071e-12]      -6.48033e-06         -2.0382455444462493  -0.00100638033       -401.1845896363509  \n",
      "track_31_QOVERPZ0                          [-1.448712e-07]      [1.55482152e-14]     -4.21213e-07         -2.216186527587863   -0.001000321213      -8021.14386571005   \n",
      "track_32_QOVERPZ0                          [-1.60606e-07]       [0.]                 -2.60606e-07         -1e-07               -0.0010001606060000001 -0.001              \n",
      "track_0_QOVERPPHI                          [1.16694975e-07]     [4.84770185e-15]     8.35556e-09          -1.5560320377276389  -0.00099999064444    -14364.108063019692 \n",
      "track_1_QOVERPPHI                          [1.18055114e-07]     [4.9299035e-15]      9.5057e-09           -1.545995667026377   -0.0009999894943     -14243.853435961242 \n",
      "track_2_QOVERPPHI                          [1.19711679e-07]     [5.04889529e-15]     8.22917e-09          -1.5689480110150174  -0.00099999077083    -14075.0451754418   \n",
      "track_3_QOVERPPHI                          [1.21492072e-07]     [5.18307389e-15]     1.08042e-08          -1.537468896610603   -0.0009999881958     -13891.653244782214 \n",
      "track_4_QOVERPPHI                          [1.2335881e-07]      [5.32842693e-15]     1.08042e-08          -1.541926875880789   -0.0009999881958     -13700.894981810123 \n",
      "track_5_QOVERPPHI                          [1.25335462e-07]     [5.48568351e-15]     1.08042e-08          -1.5463531092745677  -0.0009999881958     -13503.11384224697  \n",
      "track_6_QOVERPPHI                          [1.27289355e-07]     [5.63973087e-15]     9.109699999999999e-09 -1.5736695061737715  -0.0009999898903000001 -13317.469092845553 \n",
      "track_7_QOVERPPHI                          [1.29206033e-07]     [5.78513402e-15]     1.08042e-08          -1.55668848773322    -0.0009999881958     -13149.046818996938 \n",
      "track_8_QOVERPPHI                          [1.3121138e-07]      [5.94609044e-15]     1.08042e-08          -1.5614807389734706  -0.0009999881958     -12969.884228926248 \n",
      "track_9_QOVERPPHI                          [1.32678599e-07]     [6.06124277e-15]     1.08042e-08          -1.5654227798626663  -0.0009999881958     -12846.110470417612 \n",
      "track_10_QOVERPPHI                         [1.33946979e-07]     [6.16490403e-15]     1.08042e-08          -1.568360117786976   -0.0009999881958     -12737.666758816405 \n",
      "track_11_QOVERPPHI                         [1.35037423e-07]     [6.25584321e-15]     1.4889999999999998e-08 -1.5190481248741927  -0.00099998411       -12644.7082760349   \n",
      "track_12_QOVERPPHI                         [1.35592805e-07]     [6.30932254e-15]     1.0913e-08           -1.569656957067433   -0.000999988087      -12591.06150775098  \n",
      "track_13_QOVERPPHI                         [1.35511411e-07]     [6.34522565e-15]     1.68469e-08          -1.4896948564586368  -0.0009999821531     -12555.313529051333 \n",
      "track_14_QOVERPPHI                         [1.35973886e-07]     [6.43221579e-15]     1.08042e-08          -1.5606979431253596  -0.0009999881958     -12470.205770687153 \n",
      "track_15_QOVERPPHI                         [1.38638353e-07]     [6.57214969e-15]     1.4889999999999998e-08 -1.5264609736322352  -0.00099998411       -12336.716433928927 \n",
      "track_16_QOVERPPHI                         [1.35161697e-07]     [6.32859402e-15]     1.68469e-08          -1.487255024237201   -0.0009999821531     -12571.796074360394 \n",
      "track_17_QOVERPPHI                         [1.37067744e-07]     [6.49392704e-15]     2.2281600000000002e-08 -1.4244124576969848  -0.0009999767184     -12410.683814775823 \n",
      "track_18_QOVERPPHI                         [1.36021336e-07]     [6.51736816e-15]     1.3944e-08           -1.5121640764644422  -0.000999985056      -12388.43518165642  \n",
      "track_19_QOVERPPHI                         [1.36909896e-07]     [6.46389579e-15]     1.4889999999999998e-08 -1.5176914141654623  -0.00099998411       -12439.570390938943 \n",
      "track_20_QOVERPPHI                         [1.33808255e-07]     [6.58582078e-15]     1.4889999999999998e-08 -1.465357443419167   -0.00099998411       -12323.845755957458 \n",
      "track_21_QOVERPPHI                         [1.22480047e-07]     [5.52420123e-15]     2.48361e-08          -1.3137435051211377  -0.0009999741639     -13455.728783619385 \n",
      "track_22_QOVERPPHI                         [1.25480847e-07]     [5.94620961e-15]     2.48361e-08          -1.305181787415907   -0.0009999741639     -12969.497974075875 \n",
      "track_23_QOVERPPHI                         [1.22873791e-07]     [5.1280848e-15]      6.68526e-08          -0.7823025425930771  -0.0009999321474     -13965.172211814528 \n",
      "track_24_QOVERPPHI                         [9.73813e-08]        [2.60446064e-15]     2.52304e-08          -1.4137833208317507  -0.0009999737696     -19596.206184364062 \n",
      "track_25_QOVERPPHI                         [9.602405e-08]       [1.57809854e-15]     5.98029e-08          -0.9117907369390587  -0.0009999391971     -25173.76867541127  \n",
      "track_26_QOVERPPHI                         [1.00757192e-07]     [2.27722177e-15]     8.334e-08            -0.364985392480273   -0.00099991566       -20955.81067646892  \n",
      "track_27_QOVERPPHI                         [8.78845333e-08]     [1.56162562e-17]     8.352510000000001e-08 -1.103167803218637   -0.0009999154749     -253053.87762262576 \n",
      "track_28_QOVERPPHI                         [1.15429417e-07]     [4.51485384e-15]     8.352510000000001e-08 -0.47481846474372486 -0.0009999154749     -14883.03741606288  \n",
      "track_29_QOVERPPHI                         [1.2100246e-07]      [5.23251128e-15]     8.334e-08            -0.5206592597895809  -0.00099991566       -13824.86296537366  \n",
      "track_30_QOVERPPHI                         [1.2161028e-07]      [5.18860618e-15]     8.352510000000001e-08 -0.5287259889235646  -0.0009999154749     -13883.237438343069 \n",
      "track_31_QOVERPPHI                         [8.54764333e-08]     [4.52517556e-19]     8.352510000000001e-08 -2.9007730182663174  -0.0009999154749     -1486560.8701067911 \n",
      "track_32_QOVERPPHI                         [8.45251e-08]        [0.]                 8.352510000000001e-08 -9.999999999999957e-10 -0.0009999154749     -0.001              \n",
      "track_0_QOVERPTHETA                        [4.36222504e-10]     [2.50435113e-18]     -5.68441e-09         -3.867663611563387   -0.00100000567441    -631909.7319910153  \n",
      "track_1_QOVERPTHETA                        [4.11606545e-10]     [2.42793491e-18]     -5.44631e-09         -3.7594530033130056  -0.00100000543631    -641776.8091619819  \n",
      "track_2_QOVERPTHETA                        [3.65397839e-10]     [2.32205423e-18]     -5.68441e-09         -3.970136157748726   -0.00100000567441    -656245.6597071723  \n",
      "track_3_QOVERPTHETA                        [3.11513664e-10]     [2.20710854e-18]     -4.36869e-09         -3.1503072061602957  -0.00100000435869    -673116.4164585917  \n",
      "track_4_QOVERPTHETA                        [2.56814757e-10]     [2.09166494e-18]     -5.44631e-09         -3.9433635147627424  -0.00100000543631    -691443.0479871166  \n",
      "track_5_QOVERPTHETA                        [2.03773597e-10]     [1.98000453e-18]     -4.36869e-09         -3.249504661772728   -0.00100000435869    -710671.4834970126  \n",
      "track_6_QOVERPTHETA                        [1.53496565e-10]     [1.88106099e-18]     -5.44631e-09         -4.08292673711512    -0.00100000543631    -729123.3209894266  \n",
      "track_7_QOVERPTHETA                        [1.05504996e-10]     [1.79160399e-18]     -4.36869e-09         -3.3426730321585114  -0.00100000435869    -747103.7711312722  \n",
      "track_8_QOVERPTHETA                        [6.98857839e-11]     [1.71170391e-18]     -3.85411e-09         -2.9992606545781326  -0.00100000384411    -764341.3904756306  \n",
      "track_9_QOVERPTHETA                        [3.31292777e-11]     [1.64614161e-18]     -4.36869e-09         -3.430825360719581   -0.00100000435869    -779414.1948758202  \n",
      "track_10_QOVERPTHETA                       [7.29906077e-13]     [1.59831881e-18]     -4.36869e-09         -3.4561459826106065  -0.00100000435869    -790988.5347927712  \n",
      "track_11_QOVERPTHETA                       [-2.82818928e-11]    [1.54384321e-18]     -4.36869e-09         -3.4932443829088493  -0.00100000435869    -804822.8239926696  \n",
      "track_12_QOVERPTHETA                       [-3.71128214e-11]    [1.51912117e-18]     -4.36869e-09         -3.5143891448696305  -0.00100000435869    -811345.1954528982  \n",
      "track_13_QOVERPTHETA                       [-5.60685187e-11]    [1.48524375e-18]     -3.85411e-09         -3.1164548332852693  -0.00100000384411    -820545.7085875196  \n",
      "track_14_QOVERPTHETA                       [-7.43304895e-11]    [1.44198957e-18]     -3.83385e-09         -3.130770861374403   -0.0010000038238500001 -832761.3652549097  \n",
      "track_15_QOVERPTHETA                       [-9.28050313e-11]    [1.39145899e-18]     -3.83385e-09         -3.171448939685081   -0.0010000038238500001 -847747.3003068737  \n",
      "track_16_QOVERPTHETA                       [-1.56475984e-10]    [1.47586906e-18]     -3.83385e-09         -3.0270102339207416  -0.0010000038238500001 -823147.5290924701  \n",
      "track_17_QOVERPTHETA                       [-8.77876815e-11]    [1.44585229e-18]     -3.85411e-09         -3.132243524206277   -0.00100000384411    -831648.2300353266  \n",
      "track_18_QOVERPTHETA                       [-7.46967926e-11]    [1.52431876e-18]     -3.83385e-09         -3.0447534346638756  -0.0010000038238500001 -809960.297421323   \n",
      "track_19_QOVERPTHETA                       [-4.13812758e-11]    [1.28503332e-18]     -1.66978e-09         -1.436493150981461   -0.00100000165978    -882152.1746936963  \n",
      "track_20_QOVERPTHETA                       [5.12114482e-11]     [1.43579342e-18]     -2.61589e-09         -2.2258380175284644  -0.0010000026058900001 -834555.4059365195  \n",
      "track_21_QOVERPTHETA                       [-1.09384529e-10]    [1.20950276e-18]     -1.66978e-09         -1.4188328939435906  -0.00100000165978    -909279.166908524   \n",
      "track_22_QOVERPTHETA                       [1.76118477e-10]     [1.54010748e-18]     -1.66978e-09         -1.487415480493      -0.00100000165978    -805796.326044129   \n",
      "track_23_QOVERPTHETA                       [-1.224896e-11]      [1.6457536e-18]      -1.66978e-09         -1.2920498313262623  -0.00100000165978    -779503.930145685   \n",
      "track_24_QOVERPTHETA                       [3.65460154e-11]     [1.68543001e-18]     -1.66978e-09         -1.3143367508914015  -0.00100000165978    -770274.2433653664  \n",
      "track_25_QOVERPTHETA                       [-2.3523729e-10]     [1.96564137e-18]     -1.67292e-09         -1.0254415438210998  -0.00100000166292    -713261.0002844522  \n",
      "track_26_QOVERPTHETA                       [4.97266708e-10]     [1.20289957e-18]     -1.66978e-09         -1.9758482503855692  -0.00100000165978    -911772.0007459469  \n",
      "track_27_QOVERPTHETA                       [7.01666667e-11]     [1.27667843e-18]     -1.66978e-09         -1.5399094230715988  -0.00100000165978    -885034.0740517558  \n",
      "track_28_QOVERPTHETA                       [7.42339533e-10]     [4.03089894e-19]     7.25612e-11          -1.0549457810088554  -0.0009999999174388  -1575068.0852708356 \n",
      "track_29_QOVERPTHETA                       [3.0427344e-10]      [3.00203225e-19]     -1.8844999999999998e-10 -0.8992812663396742  -0.00100000017845    -1825124.659065988  \n",
      "track_30_QOVERPTHETA                       [8.6679284e-10]      [3.90776119e-19]     7.25612e-11          -1.2705248868633614  -0.0009999999174388  -1599691.852177001  \n",
      "track_31_QOVERPTHETA                       [9.58097667e-10]     [3.51142671e-19]     1.10073e-10          -1.4310891224684592  -0.000999999879927   -1687557.4237499905 \n",
      "track_32_QOVERPTHETA                       [1.20073e-10]        [0.]                 1.10073e-10          -1.0000000000000004e-11 -0.000999999879927   -0.001              \n",
      "track_0_QOVERPQOVERP                       [7.5125809e-07]      [5.70541243e-14]     0.0                  -3.1451809716623234  0.0                  -3.1451809716623234 \n",
      "track_1_QOVERPQOVERP                       [7.50434119e-07]     [5.61671671e-14]     0.0                  -3.1664403520561053  0.0                  -3.1664403520561053 \n",
      "track_2_QOVERPQOVERP                       [7.46251838e-07]     [5.6007908e-14]      0.0                  -3.1532669423355295  0.0                  -3.1532669423355295 \n",
      "track_3_QOVERPQOVERP                       [7.40604916e-07]     [5.6169414e-14]      0.0                  -3.1249037397397643  0.0                  -3.1249037397397643 \n",
      "track_4_QOVERPQOVERP                       [7.34303953e-07]     [5.64939768e-14]     0.0                  -3.089404623449593   0.0                  -3.089404623449593  \n",
      "track_5_QOVERPQOVERP                       [7.28232562e-07]     [5.69431732e-14]     0.0                  -3.051752166920673   0.0                  -3.051752166920673  \n",
      "track_6_QOVERPQOVERP                       [7.22555677e-07]     [5.7438684e-14]      0.0                  -3.014873380219065   0.0                  -3.014873380219065  \n",
      "track_7_QOVERPQOVERP                       [7.17413935e-07]     [5.80134894e-14]     0.0                  -2.9785528757717006  0.0                  -2.9785528757717006 \n",
      "track_8_QOVERPQOVERP                       [7.13889698e-07]     [5.85745136e-14]     0.0                  -2.9496926748516854  0.0                  -2.9496926748516854 \n",
      "track_9_QOVERPQOVERP                       [7.09487759e-07]     [5.93730424e-14]     0.0                  -2.9117243283947603  0.0                  -2.9117243283947603 \n",
      "track_10_QOVERPQOVERP                      [7.05685737e-07]     [6.03056419e-14]     0.0                  -2.8736400498785204  0.0                  -2.8736400498785204 \n",
      "track_11_QOVERPQOVERP                      [7.016305e-07]       [6.09764263e-14]     0.0                  -2.841367937025984   0.0                  -2.841367937025984  \n",
      "track_12_QOVERPQOVERP                      [6.99485156e-07]     [6.14854308e-14]     0.0                  -2.8209305403923923  0.0                  -2.8209305403923923 \n",
      "track_13_QOVERPQOVERP                      [6.97283807e-07]     [6.26921956e-14]     0.0                  -2.7848566161346664  0.0                  -2.7848566161346664 \n",
      "track_14_QOVERPQOVERP                      [6.93474532e-07]     [6.4118568e-14]      0.0                  -2.738663091453817   0.0                  -2.738663091453817  \n",
      "track_15_QOVERPQOVERP                      [6.99323025e-07]     [6.42878097e-14]     0.0                  -2.758122257646393   0.0                  -2.758122257646393  \n",
      "track_16_QOVERPQOVERP                      [6.84727167e-07]     [6.54097247e-14]     0.0                  -2.6772960572296682  0.0                  -2.6772960572296682 \n",
      "track_17_QOVERPQOVERP                      [6.91960414e-07]     [6.47148635e-14]     0.0                  -2.720064673479501   0.0                  -2.720064673479501  \n",
      "track_18_QOVERPQOVERP                      [6.86050775e-07]     [6.74334972e-14]     0.0                  -2.6419124247416397  0.0                  -2.6419124247416397 \n",
      "track_19_QOVERPQOVERP                      [6.97782597e-07]     [6.49324829e-14]     0.0                  -2.738351087310829   0.0                  -2.738351087310829  \n",
      "track_20_QOVERPQOVERP                      [6.90275022e-07]     [6.72427683e-14]     0.0                  -2.6619467682446993  0.0                  -2.6619467682446993 \n",
      "track_21_QOVERPQOVERP                      [6.55790708e-07]     [7.19129577e-14]     0.0                  -2.4454663028407913  0.0                  -2.4454663028407913 \n",
      "track_22_QOVERPQOVERP                      [6.84917545e-07]     [6.81632564e-14]     0.0                  -2.6233916176898835  0.0                  -2.6233916176898835 \n",
      "track_23_QOVERPQOVERP                      [6.62291514e-07]     [5.72300044e-14]     0.0                  -2.768453931796382   0.0                  -2.768453931796382  \n",
      "track_24_QOVERPQOVERP                      [5.91566038e-07]     [5.23483537e-14]     0.0                  -2.585542727802616   0.0                  -2.585542727802616  \n",
      "track_25_QOVERPQOVERP                      [5.7958065e-07]      [4.56649818e-14]     0.0                  -2.712203258353599   0.0                  -2.712203258353599  \n",
      "track_26_QOVERPQOVERP                      [6.20231692e-07]     [2.09013027e-14]     0.0                  -4.290098624929889   0.0                  -4.290098624929889  \n",
      "track_27_QOVERPQOVERP                      [5.86684111e-07]     [2.6070553e-14]      0.0                  -3.6335338017591776  0.0                  -3.6335338017591776 \n",
      "track_28_QOVERPQOVERP                      [6.48220167e-07]     [3.14475433e-14]     0.0                  -3.655351758875456   0.0                  -3.655351758875456  \n",
      "track_29_QOVERPQOVERP                      [6.847268e-07]       [3.94122488e-14]     0.0                  -3.449067698006502   0.0                  -3.449067698006502  \n",
      "track_30_QOVERPQOVERP                      [6.77865e-07]        [3.24641552e-14]     0.0                  -3.762193753893961   0.0                  -3.762193753893961  \n",
      "track_31_QOVERPQOVERP                      [5.80787333e-07]     [3.26361977e-15]     0.0                  -10.166403867426     0.0                  -10.166403867426    \n",
      "track_32_QOVERPQOVERP                      [4.99996e-07]        [0.]                 0.0                  -4.99996e-07         0.0                  -4.99996e-07        \n",
      "track_0_weight                             [0.80317925]         [0.06645027]         0.0                  -3.115760891415227   0.0                  -3.115760891415227  \n",
      "track_1_weight                             [0.84430231]         [0.05668619]         0.0                  -3.5461682041922686  0.0                  -3.5461682041922686 \n",
      "track_2_weight                             [0.85469504]         [0.0546589]          0.0                  -3.6557859459353286  0.0                  -3.6557859459353286 \n",
      "track_3_weight                             [0.83428585]         [0.06084708]         0.0                  -3.3821667798698387  0.0                  -3.3821667798698387 \n",
      "track_4_weight                             [0.79844922]         [0.06937202]         0.0                  -3.0314829693896166  0.0                  -3.0314829693896166 \n",
      "track_5_weight                             [0.75917625]         [0.07542159]         0.0                  -2.76436114308551    0.0                  -2.76436114308551   \n",
      "track_6_weight                             [0.72390154]         [0.07807442]         0.0                  -2.5907476601073696  0.0                  -2.5907476601073696 \n",
      "track_7_weight                             [0.69580197]         [0.07806533]         0.0                  -2.490328065593101   0.0                  -2.490328065593101  \n",
      "track_8_weight                             [0.6762928]          [0.07705058]         0.0                  -2.4363899734893977  0.0                  -2.4363899734893977 \n",
      "track_9_weight                             [0.6656843]          [0.07566143]         0.0                  -2.420087362280169   0.0                  -2.420087362280169  \n",
      "track_10_weight                            [0.66045593]         [0.07472083]         0.0                  -2.416145039130315   0.0                  -2.416145039130315  \n",
      "track_11_weight                            [0.65941921]         [0.07530597]         0.0                  -2.402961948247288   0.0                  -2.402961948247288  \n",
      "track_12_weight                            [0.66679407]         [0.07485454]         0.0                  -2.4371522127259695  0.0                  -2.4371522127259695 \n",
      "track_13_weight                            [0.67481459]         [0.07462773]         0.0                  -2.4702126403358786  0.0                  -2.4702126403358786 \n",
      "track_14_weight                            [0.68430783]         [0.07707433]         0.0                  -2.4648848231334335  0.0                  -2.4648848231334335 \n",
      "track_15_weight                            [0.68629814]         [0.07725609]         0.0                  -2.469144226349552   0.0                  -2.469144226349552  \n",
      "track_16_weight                            [0.70311831]         [0.06844584]         0.0                  -2.6875396419441553  0.0                  -2.6875396419441553 \n",
      "track_17_weight                            [0.69680526]         [0.07631972]         0.0                  -2.5222784488096317  0.0                  -2.5222784488096317 \n",
      "track_18_weight                            [0.69328517]         [0.08032233]         0.0                  -2.446210187969391   0.0                  -2.446210187969391  \n",
      "track_19_weight                            [0.68828033]         [0.08519792]         0.0                  -2.358038262155736   0.0                  -2.358038262155736  \n",
      "track_20_weight                            [0.67128146]         [0.07395212]         0.0                  -2.468478402773048   0.0                  -2.468478402773048  \n",
      "track_21_weight                            [0.73998658]         [0.05462997]         0.0                  -3.165981509968143   0.0                  -3.165981509968143  \n",
      "track_22_weight                            [0.66112136]         [0.10157951]         0.0                  -2.0743313454844756  0.0                  -2.0743313454844756 \n",
      "track_23_weight                            [0.77918113]         [0.06377584]         0.0                  -3.085391847503623   0.0                  -3.085391847503623  \n",
      "track_24_weight                            [0.70166266]         [0.11342631]         0.0                  -2.083394233532378   0.0                  -2.083394233532378  \n",
      "track_25_weight                            [0.72819414]         [0.09778818]         0.0                  -2.3286487759355756  0.0                  -2.3286487759355756 \n",
      "track_26_weight                            [0.78526377]         [0.03775189]         0.0                  -4.041533840225928   0.0                  -4.041533840225928  \n",
      "track_27_weight                            [0.83299544]         [0.03094687]         0.0                  -4.735155416240938   0.0                  -4.735155416240938  \n",
      "track_28_weight                            [0.81878117]         [0.02975289]         0.0                  -4.746825251024523   0.0                  -4.746825251024523  \n",
      "track_29_weight                            [0.6852114]          [0.04193249]         0.0                  -3.34617951728102    0.0                  -3.34617951728102   \n",
      "track_30_weight                            [0.772769]           [0.03694886]         0.0                  -4.0202139907832635  0.0                  -4.0202139907832635 \n",
      "track_31_weight                            [0.70809967]         [0.03155844]         0.0                  -3.9859936757667755  0.0                  -3.9859936757667755 \n",
      "track_32_weight                            [0.576616]           [0.]                 0.0                  -0.576616            0.0                  -0.576616           \n",
      "track_0_vertex_mass                        [1.33359039]         [1.04613864]         0.0                  -1.3038506174471136  0.0                  -1.3038506174471136 \n",
      "track_1_vertex_mass                        [1.46102627]         [1.0603152]          0.0                  -1.4188632237593493  0.0                  -1.4188632237593493 \n",
      "track_2_vertex_mass                        [1.62026844]         [1.13266947]         0.0                  -1.5224231426127979  0.0                  -1.5224231426127979 \n",
      "track_3_vertex_mass                        [1.79762325]         [1.28978792]         0.0                  -1.5828491363945891  0.0                  -1.5828491363945891 \n",
      "track_4_vertex_mass                        [1.97226506]         [1.54865765]         0.0                  -1.5848478347079369  0.0                  -1.5848478347079369 \n",
      "track_5_vertex_mass                        [2.12814638]         [1.9190553]          0.0                  -1.5362353431386795  0.0                  -1.5362353431386795 \n",
      "track_6_vertex_mass                        [2.26941417]         [2.41571446]         0.0                  -1.4601281119235514  0.0                  -1.4601281119235514 \n",
      "track_7_vertex_mass                        [2.40712379]         [3.08213877]         0.0                  -1.3711101051501302  0.0                  -1.3711101051501302 \n",
      "track_8_vertex_mass                        [2.56776278]         [4.01624958]         0.0                  -1.2812814934911547  0.0                  -1.2812814934911547 \n",
      "track_9_vertex_mass                        [2.76924865]         [5.29163411]         0.0                  -1.2038352301129307  0.0                  -1.2038352301129307 \n",
      "track_10_vertex_mass                       [3.02290132]         [7.16382859]         0.0                  -1.1294093471949445  0.0                  -1.1294093471949445 \n",
      "track_11_vertex_mass                       [3.34732149]         [9.64769035]         0.0                  -1.0776698874117439  0.0                  -1.0776698874117439 \n",
      "track_12_vertex_mass                       [3.77853918]         [12.96170104]        0.0                  -1.0495253422292616  0.0                  -1.0495253422292616 \n",
      "track_13_vertex_mass                       [4.28128907]         [17.44550659]        0.0                  -1.0250209927251723  0.0                  -1.0250209927251723 \n",
      "track_14_vertex_mass                       [4.93612623]         [23.10209033]        0.0                  -1.0269767665812624  0.0                  -1.0269767665812624 \n",
      "track_15_vertex_mass                       [5.51158023]         [30.10326675]        0.0                  -1.0045448238705799  0.0                  -1.0045448238705799 \n",
      "track_16_vertex_mass                       [6.06866724]         [34.18682519]        0.0                  -1.0379201402633194  0.0                  -1.0379201402633194 \n",
      "track_17_vertex_mass                       [6.61373028]         [40.46431079]        0.0                  -1.039705654923226   0.0                  -1.039705654923226  \n",
      "track_18_vertex_mass                       [7.17647431]         [49.18627527]        0.0                  -1.0232674664291106  0.0                  -1.0232674664291106 \n",
      "track_19_vertex_mass                       [8.08550141]         [61.41322923]        0.0                  -1.031753593102588   0.0                  -1.031753593102588  \n",
      "track_20_vertex_mass                       [7.77972119]         [67.74234425]        0.0                  -0.9452222195964866  0.0                  -0.9452222195964866 \n",
      "track_21_vertex_mass                       [9.30117225]         [77.44916188]        0.0                  -1.056888873386898   0.0                  -1.056888873386898  \n",
      "track_22_vertex_mass                       [9.5401655]          [93.98680452]        0.0                  -0.9840620114133302  0.0                  -0.9840620114133302 \n",
      "track_23_vertex_mass                       [13.24715026]        [104.47222051]       0.0                  -1.2960508749708604  0.0                  -1.2960508749708604 \n",
      "track_24_vertex_mass                       [13.80052538]        [120.23650277]       0.0                  -1.2585702229549751  0.0                  -1.2585702229549751 \n",
      "track_25_vertex_mass                       [14.07212255]        [130.06952439]       0.0                  -1.2338768967063554  0.0                  -1.2338768967063554 \n",
      "track_26_vertex_mass                       [13.01800085]        [152.7155954]        0.0                  -1.053422525188396   0.0                  -1.053422525188396  \n",
      "track_27_vertex_mass                       [18.08054444]        [161.83148343]       0.0                  -1.421281150543026   0.0                  -1.421281150543026  \n",
      "track_28_vertex_mass                       [18.84361667]        [182.7564445]        0.0                  -1.3938881008810253  0.0                  -1.3938881008810253 \n",
      "track_29_vertex_mass                       [8.300674]           [65.22010953]        0.0                  -1.027833091463304   0.0                  -1.027833091463304  \n",
      "track_30_vertex_mass                       [17.39201]           [215.84126721]       0.0                  -1.1838114477927513  0.0                  -1.1838114477927513 \n",
      "track_31_vertex_mass                       [11.286387]          [207.26447486]       0.0                  -0.7839574698040923  0.0                  -0.7839574698040923 \n",
      "track_32_vertex_mass                       [0.751591]           [0.]                 0.0                  -0.751591            0.0                  -0.751591           \n",
      "track_0_vertex_displacement                [3.0138322]          [653.22757492]       -0.001               -0.11795894809177344 -0.001               -0.11795894809177344\n",
      "track_1_vertex_displacement                [2.13561369]         [367.46730009]       -0.001               -0.11145938909592579 -0.001               -0.11145938909592579\n",
      "track_2_vertex_displacement                [1.90575449]         [276.08372253]       -0.001               -0.11475572940463935 -0.001               -0.11475572940463935\n",
      "track_3_vertex_displacement                [2.16849939]         [338.47684984]       -0.001               -0.11792205700663971 -0.001               -0.11792205700663971\n",
      "track_4_vertex_displacement                [2.59917615]         [354.72493418]       -0.001               -0.13805651701206492 -0.001               -0.13805651701206492\n",
      "track_5_vertex_displacement                [3.08469342]         [639.17502013]       -0.001               -0.12205143138484238 -0.001               -0.12205143138484238\n",
      "track_6_vertex_displacement                [3.51799217]         [517.23959678]       -0.001               -0.15472924905897717 -0.001               -0.15472924905897717\n",
      "track_7_vertex_displacement                [3.94087401]         [394.54108458]       -0.001               -0.1984525216837091  -0.001               -0.1984525216837091 \n",
      "track_8_vertex_displacement                [4.1977629]          [276.58171773]       -0.001               -0.25246990475099296 -0.001               -0.25246990475099296\n",
      "track_9_vertex_displacement                [4.5031366]          [397.13192414]       -0.001               -0.22601858592025523 -0.001               -0.22601858592025523\n",
      "track_10_vertex_displacement               [4.65588851]         [347.24893616]       -0.001               -0.24990524925755286 -0.001               -0.24990524925755286\n",
      "track_11_vertex_displacement               [4.79104216]         [257.02455278]       -0.001               -0.2989050995707515  -0.001               -0.2989050995707515 \n",
      "track_12_vertex_displacement               [4.83500681]         [316.80435648]       -0.001               -0.2717010587962245  -0.001               -0.2717010587962245 \n",
      "track_13_vertex_displacement               [4.79877438]         [197.04196293]       -0.001               -0.34193334920282714 -0.001               -0.34193334920282714\n",
      "track_14_vertex_displacement               [4.72318549]         [216.16776183]       -0.001               -0.32131535380014803 -0.001               -0.32131535380014803\n",
      "track_15_vertex_displacement               [4.12178631]         [123.33280197]       -0.001               -0.3712372322590787  -0.001               -0.3712372322590787 \n",
      "track_16_vertex_displacement               [4.30880904]         [110.23970601]       -0.001               -0.41047716706522386 -0.001               -0.41047716706522386\n",
      "track_17_vertex_displacement               [4.15681557]         [95.18373628]        -0.001               -0.426170954278636   -0.001               -0.426170954278636  \n",
      "track_18_vertex_displacement               [5.2043968]          [249.38067086]       -0.001               -0.32962674806495607 -0.001               -0.32962674806495607\n",
      "track_19_vertex_displacement               [4.64914971]         [112.85128615]       -0.001               -0.437737424601447   -0.001               -0.437737424601447  \n",
      "track_20_vertex_displacement               [4.6384003]          [168.80748161]       -0.001               -0.3570803903269174  -0.001               -0.3570803903269174 \n",
      "track_21_vertex_displacement               [3.81598732]         [60.35856805]        -0.001               -0.4913050784383832  -0.001               -0.4913050784383832 \n",
      "track_22_vertex_displacement               [5.93723636]         [223.72665838]       -0.001               -0.39700740939686063 -0.001               -0.39700740939686063\n",
      "track_23_vertex_displacement               [3.49472591]         [69.67938758]        -0.001               -0.4187793047491641  -0.001               -0.4187793047491641 \n",
      "track_24_vertex_displacement               [2.3135235]          [25.68891765]        -0.001               -0.4566554986180286  -0.001               -0.4566554986180286 \n",
      "track_25_vertex_displacement               [2.8033914]          [35.07577094]        -0.001               -0.47351638783725114 -0.001               -0.47351638783725114\n",
      "track_26_vertex_displacement               [4.47552192]         [210.07811194]       -0.001               -0.3088519252822125  -0.001               -0.3088519252822125 \n",
      "track_27_vertex_displacement               [0.34559856]         [0.32103369]         -0.001               -0.6117182610045412  -0.001               -0.6117182610045412 \n",
      "track_28_vertex_displacement               [0.14576083]         [0.06938866]         -0.001               -0.557142016790596   -0.001               -0.557142016790596  \n",
      "track_29_vertex_displacement               [0.7973422]          [0.51118594]         -0.001               -1.1166051797561547  -0.001               -1.1166051797561547 \n",
      "track_30_vertex_displacement               [0.964728]           [1.41845146]         -0.001               -0.810863187114496   -0.001               -0.810863187114496  \n",
      "track_31_vertex_displacement               [6.63052333]         [57.48245731]        -0.001               -0.8746728362358376  -0.001               -0.8746728362358376 \n",
      "track_32_vertex_displacement               [17.2431]            [0.]                 -0.001               -17.2441             -0.001               -17.2441            \n",
      "track_0_vertex_delta_eta_jet               [7.27693616e-05]     [0.43877067]         -8.11261             -12.247450678251111  -8.11261             -12.247450678251111 \n",
      "track_1_vertex_delta_eta_jet               [0.00071653]         [0.44848911]         -8.11261             -12.114988470243526  -8.11261             -12.114988470243526 \n",
      "track_2_vertex_delta_eta_jet               [-0.0011935]         [0.43862617]         -7.574140000000001   -11.434511621362969  -7.574140000000001   -11.434511621362969 \n",
      "track_3_vertex_delta_eta_jet               [-0.00117964]        [0.44794982]         -8.10895             -12.113977261748754  -8.10895             -12.113977261748754 \n",
      "track_4_vertex_delta_eta_jet               [-0.00146877]        [0.43048638]         -8.10895             -12.356806374970745  -8.10895             -12.356806374970745 \n",
      "track_5_vertex_delta_eta_jet               [-0.00105596]        [0.40056081]         -8.11261             -12.816511746426752  -8.11261             -12.816511746426752 \n",
      "track_6_vertex_delta_eta_jet               [4.03549688e-05]     [0.38251814]         -6.9868500000000004  -11.29686428044478   -6.9868500000000004  -11.29686428044478  \n",
      "track_7_vertex_delta_eta_jet               [-0.00087548]        [0.3740107]          -7.08516             -11.583878125646535  -7.08516             -11.583878125646535 \n",
      "track_8_vertex_delta_eta_jet               [-0.00299399]        [0.36959251]         -7.270770000000001   -11.954734981190756  -7.270770000000001   -11.954734981190756 \n",
      "track_9_vertex_delta_eta_jet               [-0.00241372]        [0.38156178]         -7.24568             -11.726057511296734  -7.24568             -11.726057511296734 \n",
      "track_10_vertex_delta_eta_jet              [-0.00280308]        [0.40226779]         -6.32029             -9.960627972178333   -6.32029             -9.960627972178333  \n",
      "track_11_vertex_delta_eta_jet              [-0.00121605]        [0.44520784]         -5.914960000000001   -8.863007491573773   -5.914960000000001   -8.863007491573773  \n",
      "track_12_vertex_delta_eta_jet              [0.00075603]         [0.48910845]         -5.690930000000001   -8.138387268351261   -5.690930000000001   -8.138387268351261  \n",
      "track_13_vertex_delta_eta_jet              [-0.00530878]        [0.56175562]         -4.96215             -6.613499065836742   -4.96215             -6.613499065836742  \n",
      "track_14_vertex_delta_eta_jet              [-0.02410996]        [0.62418281]         -4.832070000000001   -6.085621615897351   -4.832070000000001   -6.085621615897351  \n",
      "track_15_vertex_delta_eta_jet              [-0.01777763]        [0.81081255]         -5.13367             -5.681475902129595   -5.13367             -5.681475902129595  \n",
      "track_16_vertex_delta_eta_jet              [-0.00812544]        [0.62734533]         -4.44057             -5.596158103654301   -4.44057             -5.596158103654301  \n",
      "track_17_vertex_delta_eta_jet              [-0.09437863]        [0.69298849]         -3.86565             -4.530277167429906   -3.86565             -4.530277167429906  \n",
      "track_18_vertex_delta_eta_jet              [-0.03591635]        [0.70622343]         -3.80246             -4.482000960551444   -3.80246             -4.482000960551444  \n",
      "track_19_vertex_delta_eta_jet              [-0.12428904]        [1.01101596]         -3.87158             -3.726819927881059   -3.87158             -3.726819927881059  \n",
      "track_20_vertex_delta_eta_jet              [0.04064405]         [1.74369869]         -4.0823100000000005  -3.1222866576752395  -4.0823100000000005  -3.1222866576752395 \n",
      "track_21_vertex_delta_eta_jet              [-0.00741272]        [0.77702016]         -2.27503             -2.5724895122306233  -2.27503             -2.5724895122306233 \n",
      "track_22_vertex_delta_eta_jet              [-0.14390868]        [0.72291637]         -2.36714             -2.614812924746221   -2.36714             -2.614812924746221  \n",
      "track_23_vertex_delta_eta_jet              [-0.19138476]        [0.43256109]         -2.43357             -3.409162971155595   -2.43357             -3.409162971155595  \n",
      "track_24_vertex_delta_eta_jet              [-0.21478755]        [1.52504745]         -3.0396099999999997  -2.287438771437425   -3.0396099999999997  -2.287438771437425  \n",
      "track_25_vertex_delta_eta_jet              [-0.09097649]        [2.18715521]         -3.0396099999999997  -1.9937972617789883  -3.0396099999999997  -1.9937972617789883 \n",
      "track_26_vertex_delta_eta_jet              [0.77869567]         [1.15909331]         -0.124598            -0.8390150780692949  -0.124598            -0.8390150780692949 \n",
      "track_27_vertex_delta_eta_jet              [-0.75455091]        [1.47994221]         -2.47233             -1.4120332852828532  -2.47233             -1.4120332852828532 \n",
      "track_28_vertex_delta_eta_jet              [-1.1123675]         [1.77151442]         -2.44435             -1.0007513246793254  -2.44435             -1.0007513246793254 \n",
      "track_29_vertex_delta_eta_jet              [0.483419]           [0.76032961]         -0.425142            -1.0419650210990463  -0.425142            -1.0419650210990463 \n",
      "track_30_vertex_delta_eta_jet              [0.06321325]         [0.01993596]         -0.0789815           -1.007082416307972   -0.0789815           -1.007082416307972  \n",
      "track_31_vertex_delta_eta_jet              [0.0821034]          [0.01495842]         -0.0412012           -1.008176307350664   -0.0412012           -1.008176307350664  \n",
      "track_32_vertex_delta_eta_jet              [-0.0402012]         [0.]                 -0.0412012           -0.0010000000000000009 -0.0412012           -0.0010000000000000009\n",
      "track_0_vertex_delta_phi_jet               [-0.08938692]        [0.58479713]         -3.1425899999999998  -3.992574931469465   -3.1425899999999998  -3.992574931469465  \n",
      "track_1_vertex_delta_phi_jet               [-0.09062714]        [0.57198604]         -3.1425899999999998  -4.0353994410378515  -3.1425899999999998  -4.0353994410378515 \n",
      "track_2_vertex_delta_phi_jet               [0.01093214]         [0.56172562]         -3.1425899999999998  -4.207593435943162   -3.1425899999999998  -4.207593435943162  \n",
      "track_3_vertex_delta_phi_jet               [0.06795377]         [0.57781786]         -3.1425899999999998  -4.223603250261947   -3.1425899999999998  -4.223603250261947  \n",
      "track_4_vertex_delta_phi_jet               [0.09438599]         [0.5755831]          -3.1425899999999998  -4.266634713941417   -3.1425899999999998  -4.266634713941417  \n",
      "track_5_vertex_delta_phi_jet               [0.10450564]         [0.56372402]         -3.1425799999999997  -4.324744667544467   -3.1425799999999997  -4.324744667544467  \n",
      "track_6_vertex_delta_phi_jet               [0.10983355]         [0.5628152]          -3.1425899999999998  -4.335350251158219   -3.1425899999999998  -4.335350251158219  \n",
      "track_7_vertex_delta_phi_jet               [0.11536466]         [0.57060166]         -3.14257             -4.31296422005503    -3.14257             -4.31296422005503   \n",
      "track_8_vertex_delta_phi_jet               [0.11930942]         [0.59053756]         -3.14255             -4.244646016998816   -3.14255             -4.244646016998816  \n",
      "track_9_vertex_delta_phi_jet               [0.13024969]         [0.62516001]         -3.1425799999999997  -4.13930864263224    -3.1425799999999997  -4.13930864263224   \n",
      "track_10_vertex_delta_phi_jet              [0.14289005]         [0.66954496]         -3.1422499999999998  -4.014800926628047   -3.1422499999999998  -4.014800926628047  \n",
      "track_11_vertex_delta_phi_jet              [0.15462656]         [0.73749984]         -3.14253             -3.8393579378969838  -3.14253             -3.8393579378969838 \n",
      "track_12_vertex_delta_phi_jet              [0.16621384]         [0.81134951]         -3.14253             -3.6733233265983136  -3.14253             -3.6733233265983136 \n",
      "track_13_vertex_delta_phi_jet              [0.18609934]         [0.94148996]         -3.1422499999999998  -3.4302127525287314  -3.1422499999999998  -3.4302127525287314 \n",
      "track_14_vertex_delta_phi_jet              [0.23196489]         [1.13406298]         -3.14247             -3.16870979029976    -3.14247             -3.16870979029976   \n",
      "track_15_vertex_delta_phi_jet              [0.25768104]         [1.3742718]          -3.1421099999999997  -2.9001196004157475  -3.1421099999999997  -2.9001196004157475 \n",
      "track_16_vertex_delta_phi_jet              [0.29099249]         [1.25833452]         -3.1386              -3.0573451155944658  -3.1386              -3.0573451155944658 \n",
      "track_17_vertex_delta_phi_jet              [0.18932441]         [1.28170966]         -3.12521             -2.9277076220839544  -3.12521             -2.9277076220839544 \n",
      "track_18_vertex_delta_phi_jet              [0.25057211]         [1.72298629]         -3.1381799999999997  -2.581659078138627   -3.1381799999999997  -2.581659078138627  \n",
      "track_19_vertex_delta_phi_jet              [0.38738568]         [2.22918544]         -3.11426             -2.3453037606989557  -3.11426             -2.3453037606989557 \n",
      "track_20_vertex_delta_phi_jet              [0.322711]           [2.89592608]         -3.12839             -2.027981238160309   -3.12839             -2.027981238160309  \n",
      "track_21_vertex_delta_phi_jet              [0.23179549]         [1.71850066]         -3.0918699999999997  -2.5353764752133374  -3.0918699999999997  -2.5353764752133374 \n",
      "track_22_vertex_delta_phi_jet              [0.34807177]         [2.86853647]         -3.13996             -2.0594452197881328  -3.13996             -2.0594452197881328 \n",
      "track_23_vertex_delta_phi_jet              [-0.58454794]        [1.67892185]         -3.10634             -1.946229416709423   -3.10634             -1.946229416709423  \n",
      "track_24_vertex_delta_phi_jet              [-0.28525336]        [1.94680463]         -3.12839             -2.0376826429201236  -3.12839             -2.0376826429201236 \n",
      "track_25_vertex_delta_phi_jet              [-0.10760024]        [1.51075301]         -3.0293799999999997  -2.3771180067660374  -3.0293799999999997  -2.3771180067660374 \n",
      "track_26_vertex_delta_phi_jet              [1.29971722]         [1.73566274]         -0.114302            -1.0733037361940077  -0.114302            -1.0733037361940077 \n",
      "track_27_vertex_delta_phi_jet              [-1.15883467]        [1.95839778]         -3.13887             -1.4148893768007313  -3.13887             -1.4148893768007313 \n",
      "track_28_vertex_delta_phi_jet              [2.55762]            [0.24439181]         2.06226              -1.0020228173800467  2.06226              -1.0020228173800467 \n",
      "track_29_vertex_delta_phi_jet              [-0.04922573]        [6.43916119]         -3.13796             -1.2172110825926246  -3.13796             -1.2172110825926246 \n",
      "track_30_vertex_delta_phi_jet              [0.081301]           [0.05835751]         -0.161272            -1.0041395354613305  -0.161272            -1.0041395354613305 \n",
      "track_31_vertex_delta_phi_jet              [0.1801865]          [0.02035972]         0.036499             -1.0070083223828297  0.036499             -1.0070083223828297 \n",
      "track_32_vertex_delta_phi_jet              [0.037499]           [0.]                 0.036499             -0.0010000000000000009 0.036499             -0.0010000000000000009\n",
      "track_0_vertex_displacement_significance   [3.02983807]         [67.65528455]        -0.001               -0.36847826095012104 -0.001               -0.36847826095012104\n",
      "track_1_vertex_displacement_significance   [2.06598291]         [37.50527703]        -0.001               -0.33751314942174715 -0.001               -0.33751314942174715\n",
      "track_2_vertex_displacement_significance   [1.85596831]         [33.68298486]        -0.001               -0.319962592353755   -0.001               -0.319962592353755  \n",
      "track_3_vertex_displacement_significance   [2.2041325]          [40.84581942]        -0.001               -0.3450331973441187  -0.001               -0.3450331973441187 \n",
      "track_4_vertex_displacement_significance   [2.85620993]         [52.16368771]        -0.001               -0.3956015716435276  -0.001               -0.3956015716435276 \n",
      "track_5_vertex_displacement_significance   [3.63407925]         [63.08867808]        -0.001               -0.4576549562248469  -0.001               -0.4576549562248469 \n",
      "track_6_vertex_displacement_significance   [4.40903065]         [75.93436501]        -0.001               -0.5060837878756496  -0.001               -0.5060837878756496 \n",
      "track_7_vertex_displacement_significance   [5.07931226]         [84.97990931]        -0.001               -0.5511023656307736  -0.001               -0.5511023656307736 \n",
      "track_8_vertex_displacement_significance   [5.57639199]         [93.57802329]        -0.001               -0.5765596362933776  -0.001               -0.5765596362933776 \n",
      "track_9_vertex_displacement_significance   [5.90486588]         [99.48099761]        -0.001               -0.5921251586207611  -0.001               -0.5921251586207611 \n",
      "track_10_vertex_displacement_significance  [6.03824588]         [101.49311148]       -0.001               -0.599465823165353   -0.001               -0.599465823165353  \n",
      "track_11_vertex_displacement_significance  [6.07085915]         [107.98150918]       -0.001               -0.5843149415929852  -0.001               -0.5843149415929852 \n",
      "track_12_vertex_displacement_significance  [5.92065461]         [104.34852907]       -0.001               -0.5796954705399123  -0.001               -0.5796954705399123 \n",
      "track_13_vertex_displacement_significance  [5.56342069]         [119.01157586]       -0.001               -0.5100648001146122  -0.001               -0.5100648001146122 \n",
      "track_14_vertex_displacement_significance  [5.28697994]         [136.86283051]       -0.001               -0.45200895658906404 -0.001               -0.45200895658906404\n",
      "track_15_vertex_displacement_significance  [4.74459869]         [119.33614454]       -0.001               -0.4344151958948212  -0.001               -0.4344151958948212 \n",
      "track_16_vertex_displacement_significance  [4.81376385]         [82.18344113]        -0.001               -0.5311079840948113  -0.001               -0.5311079840948113 \n",
      "track_17_vertex_displacement_significance  [4.76865905]         [96.81838832]        -0.001               -0.484739500853386   -0.001               -0.484739500853386  \n",
      "track_18_vertex_displacement_significance  [5.15986543]         [121.74439969]       -0.001               -0.46773302918217086 -0.001               -0.46773302918217086\n",
      "track_19_vertex_displacement_significance  [5.23528011]         [98.33696026]        -0.001               -0.5280371530342203  -0.001               -0.5280371530342203 \n",
      "track_20_vertex_displacement_significance  [5.11291051]         [179.20587929]       -0.001               -0.38201199279018544 -0.001               -0.38201199279018544\n",
      "track_21_vertex_displacement_significance  [2.83034352]         [28.15361424]        -0.001               -0.5336118758422177  -0.001               -0.5336118758422177 \n",
      "track_22_vertex_displacement_significance  [5.60834647]         [267.06975722]       -0.001               -0.34324159378640756 -0.001               -0.34324159378640756\n",
      "track_23_vertex_displacement_significance  [2.7532822]          [34.43132492]        -0.001               -0.4693875519719139  -0.001               -0.4693875519719139 \n",
      "track_24_vertex_displacement_significance  [2.40158269]         [22.54290522]        -0.001               -0.5060266639329576  -0.001               -0.5060266639329576 \n",
      "track_25_vertex_displacement_significance  [2.895605]           [34.73777182]        -0.001               -0.4914601365437312  -0.001               -0.4914601365437312 \n",
      "track_26_vertex_displacement_significance  [2.86412823]         [49.82805072]        -0.001               -0.40588884419719123 -0.001               -0.40588884419719123\n",
      "track_27_vertex_displacement_significance  [0.84767667]         [1.5125638]          -0.001               -0.6900577078687684  -0.001               -0.6900577078687684 \n",
      "track_28_vertex_displacement_significance  [0.38843867]         [0.3752472]          -0.001               -0.6357411759519999  -0.001               -0.6357411759519999 \n",
      "track_29_vertex_displacement_significance  [1.4991]             [1.87002028]         -0.001               -1.0969758159865952  -0.001               -1.0969758159865952 \n",
      "track_30_vertex_displacement_significance  [2.838178]           [16.52231851]        -0.001               -0.6984850677041862  -0.001               -0.6984850677041862 \n",
      "track_31_vertex_displacement_significance  [6.01523333]         [19.40575363]        -0.001               -1.3657129102970265  -0.001               -1.3657129102970265 \n",
      "track_32_vertex_displacement_significance  [7.6188]             [0.]                 -0.001               -7.619800000000001   -0.001               -7.619800000000001  \n",
      "track_0_vertex_n_tracks                    [3.08828472]         [2.57691545]         0.0                  -1.92383245975035    0.0                  -1.92383245975035   \n",
      "track_1_vertex_n_tracks                    [3.37366563]         [2.53729124]         0.0                  -2.117955725837527   0.0                  -2.117955725837527  \n",
      "track_2_vertex_n_tracks                    [3.70072208]         [2.61002855]         0.0                  -2.2906769347794165  0.0                  -2.2906769347794165 \n",
      "track_3_vertex_n_tracks                    [4.06445397]         [2.90339594]         0.0                  -2.385333335931077   0.0                  -2.385333335931077  \n",
      "track_4_vertex_n_tracks                    [4.43454554]         [3.51280962]         0.0                  -2.3660385285064565  0.0                  -2.3660385285064565 \n",
      "track_5_vertex_n_tracks                    [4.77844326]         [4.44670825]         0.0                  -2.2660376168253107  0.0                  -2.2660376168253107 \n",
      "track_6_vertex_n_tracks                    [5.09510736]         [5.68132092]         0.0                  -2.1376110149092313  0.0                  -2.1376110149092313 \n",
      "track_7_vertex_n_tracks                    [5.38820177]         [7.20208788]         0.0                  -2.007773150263715   0.0                  -2.007773150263715  \n",
      "track_8_vertex_n_tracks                    [5.68938404]         [9.05776401]         0.0                  -1.8904045314609346  0.0                  -1.8904045314609346 \n",
      "track_9_vertex_n_tracks                    [6.01965325]         [11.28276487]        0.0                  -1.7921060526020114  0.0                  -1.7921060526020114 \n",
      "track_10_vertex_n_tracks                   [6.36961788]         [14.04517407]        0.0                  -1.6996121071818586  0.0                  -1.6996121071818586 \n",
      "track_11_vertex_n_tracks                   [6.76292607]         [17.45067642]        0.0                  -1.618931625843093   0.0                  -1.618931625843093  \n",
      "track_12_vertex_n_tracks                   [7.26139474]         [21.52747191]        0.0                  -1.5650331125917816  0.0                  -1.5650331125917816 \n",
      "track_13_vertex_n_tracks                   [7.745]              [26.43140357]        0.0                  -1.506472850190159   0.0                  -1.506472850190159  \n",
      "track_14_vertex_n_tracks                   [8.41228478]         [31.88213852]        0.0                  -1.489842106742161   0.0                  -1.489842106742161  \n",
      "track_15_vertex_n_tracks                   [8.88114933]         [38.03506912]        0.0                  -1.440048328234903   0.0                  -1.440048328234903  \n",
      "track_16_vertex_n_tracks                   [9.51204819]         [43.51642111]        0.0                  -1.4419408867964372  0.0                  -1.4419408867964372 \n",
      "track_17_vertex_n_tracks                   [10.1228978]         [49.25397763]        0.0                  -1.442394965589653   0.0                  -1.442394965589653  \n",
      "track_18_vertex_n_tracks                   [10.48913043]        [57.0411862]         0.0                  -1.3888176010008917  0.0                  -1.3888176010008917 \n",
      "track_19_vertex_n_tracks                   [11.12820513]        [62.41213487]        0.0                  -1.4086094684192234  0.0                  -1.4086094684192234 \n",
      "track_20_vertex_n_tracks                   [10.39411765]        [73.12114187]        0.0                  -1.215531298071256   0.0                  -1.215531298071256  \n",
      "track_21_vertex_n_tracks                   [12.17924528]        [81.61881452]        0.0                  -1.348109706685492   0.0                  -1.348109706685492  \n",
      "track_22_vertex_n_tracks                   [12.03030303]        [93.02938476]        0.0                  -1.2472872774615902  0.0                  -1.2472872774615902 \n",
      "track_23_vertex_n_tracks                   [15.54285714]        [90.36244898]        0.0                  -1.635071915689403   0.0                  -1.635071915689403  \n",
      "track_24_vertex_n_tracks                   [15.5]               [99.32692308]        0.0                  -1.5552428272440593  0.0                  -1.5552428272440593 \n",
      "track_25_vertex_n_tracks                   [15.5]               [114.25]             0.0                  -1.4501188361474628  0.0                  -1.4501188361474628 \n",
      "track_26_vertex_n_tracks                   [14.84615385]        [118.28402367]       0.0                  -1.365057394707425   0.0                  -1.365057394707425  \n",
      "track_27_vertex_n_tracks                   [18.33333333]        [120.66666667]       0.0                  -1.6689671048446122  0.0                  -1.6689671048446122 \n",
      "track_28_vertex_n_tracks                   [18.33333333]        [115.55555556]       0.0                  -1.7054776006016164  0.0                  -1.7054776006016164 \n",
      "track_29_vertex_n_tracks                   [11.8]               [101.36]             0.0                  -1.172056928130292   0.0                  -1.172056928130292  \n",
      "track_30_vertex_n_tracks                   [16.6]               [147.84]             0.0                  -1.365249767041521   0.0                  -1.365249767041521  \n",
      "track_31_vertex_n_tracks                   [11.]                [162.]               0.0                  -0.8642416214502248  0.0                  -0.8642416214502248 \n",
      "track_32_vertex_n_tracks                   [2.]                 [0.]                 0.0                  -2.0                 0.0                  -2.0                \n",
      "track_0_vertex_energy_fraction             [0.72716832]         [0.08126813]         0.0                  -2.550790616113162   0.0                  -2.550790616113162  \n",
      "track_1_vertex_energy_fraction             [0.72950512]         [0.07948816]         0.0                  -2.5874807918635803  0.0                  -2.5874807918635803 \n",
      "track_2_vertex_energy_fraction             [0.71438825]         [0.08163005]         0.0                  -2.500398766571127   0.0                  -2.500398766571127  \n",
      "track_3_vertex_energy_fraction             [0.69246459]         [0.08179429]         0.0                  -2.4212301130160783  0.0                  -2.4212301130160783 \n",
      "track_4_vertex_energy_fraction             [0.66491748]         [0.081034]           0.0                  -2.3357916894376545  0.0                  -2.3357916894376545 \n",
      "track_5_vertex_energy_fraction             [0.63376909]         [0.08051218]         0.0                  -2.233573548440805   0.0                  -2.233573548440805  \n",
      "track_6_vertex_energy_fraction             [0.60231656]         [0.08047863]         0.0                  -2.1231687396389805  0.0                  -2.1231687396389805 \n",
      "track_7_vertex_energy_fraction             [0.57266727]         [0.08080252]         0.0                  -2.0146050071054957  0.0                  -2.0146050071054957 \n",
      "track_8_vertex_energy_fraction             [0.54689646]         [0.08166972]         0.0                  -1.913703189899907   0.0                  -1.913703189899907  \n",
      "track_9_vertex_energy_fraction             [0.5276694]          [0.08306527]         0.0                  -1.830847523821766   0.0                  -1.830847523821766  \n",
      "track_10_vertex_energy_fraction            [0.5107301]          [0.08513854]         0.0                  -1.750363903473075   0.0                  -1.750363903473075  \n",
      "track_11_vertex_energy_fraction            [0.49911379]         [0.08840447]         0.0                  -1.678658919187522   0.0                  -1.678658919187522  \n",
      "track_12_vertex_energy_fraction            [0.49397015]         [0.09091894]         0.0                  -1.6382248783296294  0.0                  -1.6382248783296294 \n",
      "track_13_vertex_energy_fraction            [0.48782672]         [0.09496225]         0.0                  -1.583033399323644   0.0                  -1.583033399323644  \n",
      "track_14_vertex_energy_fraction            [0.49182044]         [0.09979519]         0.0                  -1.5568679367698361  0.0                  -1.5568679367698361 \n",
      "track_15_vertex_energy_fraction            [0.48099231]         [0.10422186]         0.0                  -1.489905492612342   0.0                  -1.489905492612342  \n",
      "track_16_vertex_energy_fraction            [0.48720012]         [0.10555245]         0.0                  -1.4995924062662518  0.0                  -1.4995924062662518 \n",
      "track_17_vertex_energy_fraction            [0.49020231]         [0.10845946]         0.0                  -1.4884752889914583  0.0                  -1.4884752889914583 \n",
      "track_18_vertex_energy_fraction            [0.48554467]         [0.1096109]          0.0                  -1.4665683824094755  0.0                  -1.4665683824094755 \n",
      "track_19_vertex_energy_fraction            [0.49065482]         [0.11167867]         0.0                  -1.4682193821179792  0.0                  -1.4682193821179792 \n",
      "track_20_vertex_energy_fraction            [0.43573929]         [0.11938984]         0.0                  -1.2610811419373504  0.0                  -1.2610811419373504 \n",
      "track_21_vertex_energy_fraction            [0.48078077]         [0.12752211]         0.0                  -1.3463387083688445  0.0                  -1.3463387083688445 \n",
      "track_22_vertex_energy_fraction            [0.45628593]         [0.13257261]         0.0                  -1.253170520611809   0.0                  -1.253170520611809  \n",
      "track_23_vertex_energy_fraction            [0.56176472]         [0.10921994]         0.0                  -1.6998221931735051  0.0                  -1.6998221931735051 \n",
      "track_24_vertex_energy_fraction            [0.54367569]         [0.12221612]         0.0                  -1.555162100187455   0.0                  -1.555162100187455  \n",
      "track_25_vertex_energy_fraction            [0.5504799]          [0.13351039]         0.0                  -1.5065513348174042  0.0                  -1.5065513348174042 \n",
      "track_26_vertex_energy_fraction            [0.46303169]         [0.1519608]          0.0                  -1.1878044045016134  0.0                  -1.1878044045016134 \n",
      "track_27_vertex_energy_fraction            [0.59984796]         [0.14101309]         0.0                  -1.5973918690183975  0.0                  -1.5973918690183975 \n",
      "track_28_vertex_energy_fraction            [0.58658103]         [0.13546217]         0.0                  -1.5937456185983034  0.0                  -1.5937456185983034 \n",
      "track_29_vertex_energy_fraction            [0.31726204]         [0.09690218]         0.0                  -1.019181037024349   0.0                  -1.019181037024349  \n",
      "track_30_vertex_energy_fraction            [0.52727362]         [0.15278553]         0.0                  -1.348947157926625   0.0                  -1.348947157926625  \n",
      "track_31_vertex_energy_fraction            [0.34094893]         [0.16983788]         0.0                  -0.8273171955423285  0.0                  -0.8273171955423285 \n",
      "track_32_vertex_energy_fraction            [0.0455793]          [0.]                 0.0                  -0.0455793           0.0                  -0.0455793          \n"
     ]
    }
   ],
   "source": [
    "# https://stackoverflow.com/questions/34734572/tabs-in-print-are-not-consistent-python\n",
    "a = get_all_defaults(scaled=False, old=False)\n",
    "b = get_all_defaults(scaled=True, old=False)\n",
    "c = get_all_defaults(scaled=False, old=True)\n",
    "d = get_all_defaults(scaled=True, old=True)\n",
    "print('{:<42s} {:<20s} {:<20s} {:<20s} {:<20s} {:<20s} {:<20s}'.format('feature', 'mean', 'variance', 'default (NEW)', 'scaled default (NEW)', 'default (OLD)', 'scaled default (OLD)'))\n",
    "print('-'*44*4)\n",
    "for i in range(941):\n",
    "    # https://stackoverflow.com/questions/35944783/how-to-store-scaling-parameters-for-later-use\n",
    "    print('{:<42} {:<20s} {:<20s} {:<20s} {:<20s} {:<20s} {:<20s}'.format(str(full_index_to_name(i)), str(all_the_scalers[i].mean_), str(all_the_scalers[i].var_), str(a[i]), str(b[i]), str(c[i]), str(d[i])))"
   ]
  },
  {
   "cell_type": "code",
   "execution_count": 21,
   "metadata": {},
   "outputs": [],
   "source": [
    "all_the_scalers_NEW = torch.load(preprocessed_path+sorted_scalers_files[0])\n",
    "for k in range(1,len(sorted_scalers_files)):\n",
    "    all_the_scalers_NEW = all_the_scalers_NEW + torch.load(preprocessed_path+sorted_scalers_files[k])"
   ]
  },
  {
   "cell_type": "code",
   "execution_count": 374,
   "metadata": {},
   "outputs": [
    {
     "data": {
      "text/plain": [
       "941"
      ]
     },
     "execution_count": 374,
     "metadata": {},
     "output_type": "execute_result"
    }
   ],
   "source": [
    "len(all_the_scalers_NEW)"
   ]
  },
  {
   "cell_type": "code",
   "execution_count": 375,
   "metadata": {},
   "outputs": [
    {
     "data": {
      "text/plain": [
       "list"
      ]
     },
     "execution_count": 375,
     "metadata": {},
     "output_type": "execute_result"
    }
   ],
   "source": [
    "type(all_the_scalers_NEW)"
   ]
  },
  {
   "cell_type": "code",
   "execution_count": 376,
   "metadata": {},
   "outputs": [
    {
     "data": {
      "text/plain": [
       "sklearn.preprocessing._data.StandardScaler"
      ]
     },
     "execution_count": 376,
     "metadata": {},
     "output_type": "execute_result"
    }
   ],
   "source": [
    "type(all_the_scalers_NEW[0])"
   ]
  },
  {
   "cell_type": "code",
   "execution_count": 377,
   "metadata": {},
   "outputs": [
    {
     "data": {
      "text/plain": [
       "941"
      ]
     },
     "execution_count": 377,
     "metadata": {},
     "output_type": "execute_result"
    }
   ],
   "source": [
    "sum([type(all_the_scalers_NEW[0]) == type(all_the_scalers_NEW[k]) for k in range(len(all_the_scalers_NEW))])"
   ]
  },
  {
   "cell_type": "code",
   "execution_count": 378,
   "metadata": {},
   "outputs": [],
   "source": [
    "torch.save(all_the_scalers, defaults_path+'all_scalers_OLD.pt')\n",
    "torch.save(all_the_scalers_NEW, defaults_path+'all_scalers.pt')"
   ]
  },
  {
   "cell_type": "markdown",
   "metadata": {},
   "source": [
    "<hr>"
   ]
  },
  {
   "cell_type": "markdown",
   "metadata": {},
   "source": [
    "## Finally, apply scalers during preprocessing"
   ]
  },
  {
   "cell_type": "markdown",
   "metadata": {},
   "source": [
    "When doing the preprocessing, one has to decide how to proceed with defaults (close to minima or rather = 0?) - when one saves only the first option, it should be possible to go to the second option at runtime, e.g. by scaling the defaults itself and checking to which value they are mapped --> this could be used to slice, if one really needs to use zeros instead of \"minima\"."
   ]
  },
  {
   "cell_type": "code",
   "execution_count": 379,
   "metadata": {},
   "outputs": [],
   "source": [
    "preprocess_apply_scalers(splits[0],splits[1]-1,0,defaults_to_zero=False)"
   ]
  },
  {
   "cell_type": "code",
   "execution_count": 383,
   "metadata": {},
   "outputs": [
    {
     "name": "stdout",
     "output_type": "stream",
     "text": [
      "CPU times: user 44.7 s, sys: 17.5 s, total: 1min 2s\n",
      "Wall time: 1min 4s\n"
     ]
    }
   ],
   "source": [
    "%%time\n",
    "for i in range(10):\n",
    "    preprocess_apply_scalers(splits[i],splits[i+1]-1,i,defaults_to_zero=False)"
   ]
  },
  {
   "cell_type": "code",
   "execution_count": 391,
   "metadata": {},
   "outputs": [
    {
     "name": "stdout",
     "output_type": "stream",
     "text": [
      "CPU times: user 15min 18s, sys: 5min 42s, total: 21min\n",
      "Wall time: 22min 2s\n"
     ]
    }
   ],
   "source": [
    "%%time\n",
    "#for i in range(len(splits)-1):\n",
    "#for i in range(10):\n",
    "for i in range(10,len(splits)-1):\n",
    "    preprocess_apply_scalers(splits[i],splits[i+1]-1,i,defaults_to_zero=False)"
   ]
  },
  {
   "cell_type": "markdown",
   "metadata": {},
   "source": [
    "All files should be there now, let's go training! 🥳"
   ]
  }
 ],
 "metadata": {
  "kernelspec": {
   "display_name": "Python 3",
   "language": "python",
   "name": "python3"
  },
  "language_info": {
   "codemirror_mode": {
    "name": "ipython",
    "version": 3
   },
   "file_extension": ".py",
   "mimetype": "text/x-python",
   "name": "python",
   "nbconvert_exporter": "python",
   "pygments_lexer": "ipython3",
   "version": "3.8.6"
  }
 },
 "nbformat": 4,
 "nbformat_minor": 4
}
